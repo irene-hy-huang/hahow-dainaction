{
 "cells": [
  {
   "cell_type": "markdown",
   "metadata": {},
   "source": [
    "# 4-5 資料分析師的職缺需求\n",
    "\n",
    "> 補充教材\n",
    "\n",
    "郭耀仁"
   ]
  },
  {
   "cell_type": "code",
   "execution_count": 1,
   "metadata": {},
   "outputs": [],
   "source": [
    "import re"
   ]
  },
  {
   "cell_type": "markdown",
   "metadata": {},
   "source": [
    "## 關於自訂函式 `get_split_words`\n",
    "\n",
    "我們希望可以將從 Indeed 與 CakeResume 擷取所得的職缺描述進行斷詞，英文斷詞很單純，我們以空格、句號以及逗號作為斷詞的依據，在這裡運用自訂函式的技巧，宣告一個名稱為 `get_split_words` 函式，設計一個參數：`non_split_words` 作為未斷詞前的長字串，為了讓後續統計詞頻時不被大小寫影響，我們以字串的 `.lower()` 方法一律轉換成小寫。"
   ]
  },
  {
   "cell_type": "code",
   "execution_count": 2,
   "metadata": {},
   "outputs": [],
   "source": [
    "def get_split_words(non_split_words):\n",
    "    non_split_words_lowered = non_split_words.lower()\n",
    "    split_words = re.split(' |\\.|,', non_split_words_lowered)\n",
    "    return split_words"
   ]
  },
  {
   "cell_type": "code",
   "execution_count": 3,
   "metadata": {},
   "outputs": [
    {
     "name": "stdout",
     "output_type": "stream",
     "text": [
      "\n",
      "Entry Level Analyst | Cambridge, MA, United States\n",
      "<br><br>\n",
      "Sick of those 'entry level jobs' that require 1-2 years experience? If you have an analytical and quantitative mindset, and are looking to apply that to solving interesting problems everyday - Please Apply!\n",
      "<br><br>\n",
      "Our analyst team gets to work on all aspects of our business, from optimizing user experience on the site to monetization in order to help grow our reach as a media company. We work with MySQL, Python, R, Excel, and more, though no prior knowledge of programming is required.\n",
      "<br>We're looking for analytical thinkers interested in scaling our business and using big data to give our users the best experience across our platform.\n",
      "<br><br>\n",
      "Come help us solve cool problems and grow the startup!\n",
      "<br><br>\n",
      "<b>What we're looking for:</b><br>\n",
      "B.A./B.S. in Mathematics, Statistics, Physics, or another quantitative field\n",
      "<br>Ability to plan out a process and execute on it on a daily basis with an emphasis on achieving and measuring results\n",
      "<br>Demonstrated ability to learn quickly\n",
      "<br>General understanding of market segmentation, sizing and statistics\n",
      "<br>Experience with or desire to learn R, mySQL, Python, and more\n",
      "<br><br>\n",
      "<b>Bonus points if you have:</b><br>\n",
      "Experience with email marketing (and SEM, SEO, display)\n",
      "<br>Experience with online advertising / marketing growth metrics\n",
      "<br><br>\n",
      "<b>Things You'll Like About HopJump:</b><br>\n",
      "<ul>\n",
      "<li>We value and encourage creative thinking & intellectual curiosity.</li>\n",
      "<li>You'll have a very clear understanding of how your work matters to the company.</li>\n",
      "<li>You'll find interesting new challenges every day on the forefront of online marketing.</li>\n",
      "<li>You'll be given the responsibility to have a big impact on and opportunities for leadership within our business from early on.</li>\n",
      "<li>You'll be part of a passionate team with broad skills and interests.</li>\n",
      "<li>We have fun! Frequent company outings, lunches, and parties.</li>\n",
      "<li>We offer competitive salaries, excellent benefits, and a relaxed work environment with plenty of perks.</li>\n",
      "</ul>\n",
      "\n",
      "\n"
     ]
    }
   ],
   "source": [
    "# 示例\n",
    "non_split_words = \"\"\"\n",
    "Entry Level Analyst | Cambridge, MA, United States\\n<br><br>\\nSick of those 'entry level jobs' that require 1-2 years experience? If you have an analytical and quantitative mindset, and are looking to apply that to solving interesting problems everyday - Please Apply!\\n<br><br>\\nOur analyst team gets to work on all aspects of our business, from optimizing user experience on the site to monetization in order to help grow our reach as a media company. We work with MySQL, Python, R, Excel, and more, though no prior knowledge of programming is required.\\n<br>We're looking for analytical thinkers interested in scaling our business and using big data to give our users the best experience across our platform.\\n<br><br>\\nCome help us solve cool problems and grow the startup!\\n<br><br>\\n<b>What we're looking for:</b><br>\\nB.A./B.S. in Mathematics, Statistics, Physics, or another quantitative field\\n<br>Ability to plan out a process and execute on it on a daily basis with an emphasis on achieving and measuring results\\n<br>Demonstrated ability to learn quickly\\n<br>General understanding of market segmentation, sizing and statistics\\n<br>Experience with or desire to learn R, mySQL, Python, and more\\n<br><br>\\n<b>Bonus points if you have:</b><br>\\nExperience with email marketing (and SEM, SEO, display)\\n<br>Experience with online advertising / marketing growth metrics\\n<br><br>\\n<b>Things You'll Like About HopJump:</b><br>\\n<ul>\\n<li>We value and encourage creative thinking & intellectual curiosity.</li>\\n<li>You'll have a very clear understanding of how your work matters to the company.</li>\\n<li>You'll find interesting new challenges every day on the forefront of online marketing.</li>\\n<li>You'll be given the responsibility to have a big impact on and opportunities for leadership within our business from early on.</li>\\n<li>You'll be part of a passionate team with broad skills and interests.</li>\\n<li>We have fun! Frequent company outings, lunches, and parties.</li>\\n<li>We offer competitive salaries, excellent benefits, and a relaxed work environment with plenty of perks.</li>\\n</ul>\\n\n",
    "\"\"\"\n",
    "print(non_split_words)"
   ]
  },
  {
   "cell_type": "code",
   "execution_count": 4,
   "metadata": {},
   "outputs": [
    {
     "name": "stdout",
     "output_type": "stream",
     "text": [
      "['\\nentry', 'level', 'analyst', '|', 'cambridge', '', 'ma', '', 'united', 'states\\n<br><br>\\nsick', 'of', 'those', \"'entry\", 'level', \"jobs'\", 'that', 'require', '1-2', 'years', 'experience?', 'if', 'you', 'have', 'an', 'analytical', 'and', 'quantitative', 'mindset', '', 'and', 'are', 'looking', 'to', 'apply', 'that', 'to', 'solving', 'interesting', 'problems', 'everyday', '-', 'please', 'apply!\\n<br><br>\\nour', 'analyst', 'team', 'gets', 'to', 'work', 'on', 'all', 'aspects', 'of', 'our', 'business', '', 'from', 'optimizing', 'user', 'experience', 'on', 'the', 'site', 'to', 'monetization', 'in', 'order', 'to', 'help', 'grow', 'our', 'reach', 'as', 'a', 'media', 'company', '', 'we', 'work', 'with', 'mysql', '', 'python', '', 'r', '', 'excel', '', 'and', 'more', '', 'though', 'no', 'prior', 'knowledge', 'of', 'programming', 'is', 'required', \"\\n<br>we're\", 'looking', 'for', 'analytical', 'thinkers', 'interested', 'in', 'scaling', 'our', 'business', 'and', 'using', 'big', 'data', 'to', 'give', 'our', 'users', 'the', 'best', 'experience', 'across', 'our', 'platform', '\\n<br><br>\\ncome', 'help', 'us', 'solve', 'cool', 'problems', 'and', 'grow', 'the', 'startup!\\n<br><br>\\n<b>what', \"we're\", 'looking', 'for:</b><br>\\nb', 'a', '/b', 's', '', 'in', 'mathematics', '', 'statistics', '', 'physics', '', 'or', 'another', 'quantitative', 'field\\n<br>ability', 'to', 'plan', 'out', 'a', 'process', 'and', 'execute', 'on', 'it', 'on', 'a', 'daily', 'basis', 'with', 'an', 'emphasis', 'on', 'achieving', 'and', 'measuring', 'results\\n<br>demonstrated', 'ability', 'to', 'learn', 'quickly\\n<br>general', 'understanding', 'of', 'market', 'segmentation', '', 'sizing', 'and', 'statistics\\n<br>experience', 'with', 'or', 'desire', 'to', 'learn', 'r', '', 'mysql', '', 'python', '', 'and', 'more\\n<br><br>\\n<b>bonus', 'points', 'if', 'you', 'have:</b><br>\\nexperience', 'with', 'email', 'marketing', '(and', 'sem', '', 'seo', '', 'display)\\n<br>experience', 'with', 'online', 'advertising', '/', 'marketing', 'growth', 'metrics\\n<br><br>\\n<b>things', \"you'll\", 'like', 'about', 'hopjump:</b><br>\\n<ul>\\n<li>we', 'value', 'and', 'encourage', 'creative', 'thinking', '&', 'intellectual', 'curiosity', \"</li>\\n<li>you'll\", 'have', 'a', 'very', 'clear', 'understanding', 'of', 'how', 'your', 'work', 'matters', 'to', 'the', 'company', \"</li>\\n<li>you'll\", 'find', 'interesting', 'new', 'challenges', 'every', 'day', 'on', 'the', 'forefront', 'of', 'online', 'marketing', \"</li>\\n<li>you'll\", 'be', 'given', 'the', 'responsibility', 'to', 'have', 'a', 'big', 'impact', 'on', 'and', 'opportunities', 'for', 'leadership', 'within', 'our', 'business', 'from', 'early', 'on', \"</li>\\n<li>you'll\", 'be', 'part', 'of', 'a', 'passionate', 'team', 'with', 'broad', 'skills', 'and', 'interests', '</li>\\n<li>we', 'have', 'fun!', 'frequent', 'company', 'outings', '', 'lunches', '', 'and', 'parties', '</li>\\n<li>we', 'offer', 'competitive', 'salaries', '', 'excellent', 'benefits', '', 'and', 'a', 'relaxed', 'work', 'environment', 'with', 'plenty', 'of', 'perks', '</li>\\n</ul>\\n\\n']\n"
     ]
    }
   ],
   "source": [
    "split_words = get_split_words(non_split_words)\n",
    "print(split_words)"
   ]
  },
  {
   "cell_type": "markdown",
   "metadata": {},
   "source": [
    "## 關於自訂函式 `get_job_desc_word_list`\n",
    "\n",
    "我們希望可以將從 Indeed 與 CakeResume 擷取所得的職缺描述斷詞之後存放在一個很長的清單（`list`）中，在這裡運用自訂函式的技巧，宣告一個名稱為 `get_job_desc_word_list` 函式，設計兩個參數：`indeed_jd` 與 `cr_jd` 表示從 Indeed 和 CakeResume 分別擷取下來的職缺描述，這些職缺描述都被存取成 `list` of `dict`，因此我們用 `for` 語法到每個 `dict` 中用 `jd[k]` 取值獲得職缺描述，然後馬上利用 `get_split_words` 自訂函式斷詞，接著存取到很長的清單之中，由於斷詞之後我們會同樣會獲得 `list`，Python 可以使用 `+` 來合併 `list`，`+=` 則可以合併後進行更新。"
   ]
  },
  {
   "cell_type": "code",
   "execution_count": 5,
   "metadata": {},
   "outputs": [],
   "source": [
    "def get_job_desc_word_list(indeed_jd, cr_jd):\n",
    "    job_desc_word_list = []\n",
    "    for jd in indeed_jd:\n",
    "        for k in jd.keys():\n",
    "            job_desc_word = get_split_words(jd[k])\n",
    "            job_desc_word_list += job_desc_word\n",
    "    for jd in cr_jd:\n",
    "        for k in jd.keys():\n",
    "            job_desc_word = get_split_words(jd[k])\n",
    "            job_desc_word_list += job_desc_word\n",
    "    return job_desc_word_list"
   ]
  },
  {
   "cell_type": "markdown",
   "metadata": {},
   "source": [
    "## 關於自訂函式 `get_word_frequencies`\n",
    "\n",
    "我們希望可以將從 Indeed 與 CakeResume 擷取所得的職缺描述斷詞之後計算不同單字出現的次數，在這裡運用自訂函式的技巧，宣告一個名稱為 `get_word_frequencies` 函式，設計一個參數：`jd_word_list`，只要將 `get_job_desc_word_list` 回傳那個很長的單字清單輸入，就可以計算單字的字頻。最後我們遞減排序了 `dict`，讓出現次數最多的單字可以先顯示在前面。"
   ]
  },
  {
   "cell_type": "code",
   "execution_count": 6,
   "metadata": {},
   "outputs": [],
   "source": [
    "def get_word_frequencies(jd_word_list):\n",
    "    word_frequencies = dict()\n",
    "    for word in jd_word_list:\n",
    "        if word in word_frequencies.keys():\n",
    "            word_frequencies[word] += 1\n",
    "        else:\n",
    "            word_frequencies[word] = 1\n",
    "    sorted_word_frequencies = {k: v for k, v in sorted(word_frequencies.items(), key=lambda item: -item[1])}\n",
    "    return sorted_word_frequencies"
   ]
  },
  {
   "cell_type": "markdown",
   "metadata": {},
   "source": [
    "## 快速示例"
   ]
  },
  {
   "cell_type": "code",
   "execution_count": 7,
   "metadata": {},
   "outputs": [],
   "source": [
    "indeed_jd = [\n",
    "    {'2532431132ffbda1': \"Entry Level Analyst | Cambridge, MA, United States\\n<br><br>\\nSick of those 'entry level jobs' that require 1-2 years experience? If you have an analytical and quantitative mindset, and are looking to apply that to solving interesting problems everyday - Please Apply!\\n<br><br>\\nOur analyst team gets to work on all aspects of our business, from optimizing user experience on the site to monetization in order to help grow our reach as a media company. We work with MySQL, Python, R, Excel, and more, though no prior knowledge of programming is required.\\n<br>We're looking for analytical thinkers interested in scaling our business and using big data to give our users the best experience across our platform.\\n<br><br>\\nCome help us solve cool problems and grow the startup!\\n<br><br>\\n<b>What we're looking for:</b><br>\\nB.A./B.S. in Mathematics, Statistics, Physics, or another quantitative field\\n<br>Ability to plan out a process and execute on it on a daily basis with an emphasis on achieving and measuring results\\n<br>Demonstrated ability to learn quickly\\n<br>General understanding of market segmentation, sizing and statistics\\n<br>Experience with or desire to learn R, mySQL, Python, and more\\n<br><br>\\n<b>Bonus points if you have:</b><br>\\nExperience with email marketing (and SEM, SEO, display)\\n<br>Experience with online advertising / marketing growth metrics\\n<br><br>\\n<b>Things You'll Like About HopJump:</b><br>\\n<ul>\\n<li>We value and encourage creative thinking & intellectual curiosity.</li>\\n<li>You'll have a very clear understanding of how your work matters to the company.</li>\\n<li>You'll find interesting new challenges every day on the forefront of online marketing.</li>\\n<li>You'll be given the responsibility to have a big impact on and opportunities for leadership within our business from early on.</li>\\n<li>You'll be part of a passionate team with broad skills and interests.</li>\\n<li>We have fun! Frequent company outings, lunches, and parties.</li>\\n<li>We offer competitive salaries, excellent benefits, and a relaxed work environment with plenty of perks.</li>\\n</ul>\\n\"}\n",
    "]\n",
    "cr_jd = [\n",
    "    {'https://www.cakeresume.com/companies/shopee/jobs/44e83d': 'Job Description1.                                          2.        3.                     Requirements1.   Excel       \\n2.   PPT      \\n3.          (  )\\n4.   SQL       (  )Data AnalyticsData Analysis    Salary35K ~ 60K TWD/monthLocation       Share this JobPlease Sign in or Register to get your personal invite link.Apply Now'}\n",
    "]"
   ]
  },
  {
   "cell_type": "code",
   "execution_count": 8,
   "metadata": {},
   "outputs": [
    {
     "name": "stdout",
     "output_type": "stream",
     "text": [
      "['entry', 'level', 'analyst', '|', 'cambridge', '', 'ma', '', 'united', 'states\\n<br><br>\\nsick', 'of', 'those', \"'entry\", 'level', \"jobs'\", 'that', 'require', '1-2', 'years', 'experience?', 'if', 'you', 'have', 'an', 'analytical', 'and', 'quantitative', 'mindset', '', 'and', 'are', 'looking', 'to', 'apply', 'that', 'to', 'solving', 'interesting', 'problems', 'everyday', '-', 'please', 'apply!\\n<br><br>\\nour', 'analyst', 'team', 'gets', 'to', 'work', 'on', 'all', 'aspects', 'of', 'our', 'business', '', 'from', 'optimizing', 'user', 'experience', 'on', 'the', 'site', 'to', 'monetization', 'in', 'order', 'to', 'help', 'grow', 'our', 'reach', 'as', 'a', 'media', 'company', '', 'we', 'work', 'with', 'mysql', '', 'python', '', 'r', '', 'excel', '', 'and', 'more', '', 'though', 'no', 'prior', 'knowledge', 'of', 'programming', 'is', 'required', \"\\n<br>we're\", 'looking', 'for', 'analytical', 'thinkers', 'interested', 'in', 'scaling', 'our', 'business', 'and', 'using', 'big', 'data', 'to', 'give', 'our', 'users', 'the', 'best', 'experience', 'across', 'our', 'platform', '\\n<br><br>\\ncome', 'help', 'us', 'solve', 'cool', 'problems', 'and', 'grow', 'the', 'startup!\\n<br><br>\\n<b>what', \"we're\", 'looking', 'for:</b><br>\\nb', 'a', '/b', 's', '', 'in', 'mathematics', '', 'statistics', '', 'physics', '', 'or', 'another', 'quantitative', 'field\\n<br>ability', 'to', 'plan', 'out', 'a', 'process', 'and', 'execute', 'on', 'it', 'on', 'a', 'daily', 'basis', 'with', 'an', 'emphasis', 'on', 'achieving', 'and', 'measuring', 'results\\n<br>demonstrated', 'ability', 'to', 'learn', 'quickly\\n<br>general', 'understanding', 'of', 'market', 'segmentation', '', 'sizing', 'and', 'statistics\\n<br>experience', 'with', 'or', 'desire', 'to', 'learn', 'r', '', 'mysql', '', 'python', '', 'and', 'more\\n<br><br>\\n<b>bonus', 'points', 'if', 'you', 'have:</b><br>\\nexperience', 'with', 'email', 'marketing', '(and', 'sem', '', 'seo', '', 'display)\\n<br>experience', 'with', 'online', 'advertising', '/', 'marketing', 'growth', 'metrics\\n<br><br>\\n<b>things', \"you'll\", 'like', 'about', 'hopjump:</b><br>\\n<ul>\\n<li>we', 'value', 'and', 'encourage', 'creative', 'thinking', '&', 'intellectual', 'curiosity', \"</li>\\n<li>you'll\", 'have', 'a', 'very', 'clear', 'understanding', 'of', 'how', 'your', 'work', 'matters', 'to', 'the', 'company', \"</li>\\n<li>you'll\", 'find', 'interesting', 'new', 'challenges', 'every', 'day', 'on', 'the', 'forefront', 'of', 'online', 'marketing', \"</li>\\n<li>you'll\", 'be', 'given', 'the', 'responsibility', 'to', 'have', 'a', 'big', 'impact', 'on', 'and', 'opportunities', 'for', 'leadership', 'within', 'our', 'business', 'from', 'early', 'on', \"</li>\\n<li>you'll\", 'be', 'part', 'of', 'a', 'passionate', 'team', 'with', 'broad', 'skills', 'and', 'interests', '</li>\\n<li>we', 'have', 'fun!', 'frequent', 'company', 'outings', '', 'lunches', '', 'and', 'parties', '</li>\\n<li>we', 'offer', 'competitive', 'salaries', '', 'excellent', 'benefits', '', 'and', 'a', 'relaxed', 'work', 'environment', 'with', 'plenty', 'of', 'perks', '</li>\\n</ul>\\n', 'job', 'description1', '', '', '', '', '', '', '', '', '', '', '', '', '', '', '', '', '', '', '', '', '', '', '', '', '', '', '', '', '', '', '', '', '', '', '', '', '', '', '', '', '', '', '2', '', '', '', '', '', '', '', '', '3', '', '', '', '', '', '', '', '', '', '', '', '', '', '', '', '', '', '', '', '', '', 'requirements1', '', '', '', 'excel', '', '', '', '', '', '', '\\n2', '', '', '', 'ppt', '', '', '', '', '', '\\n3', '', '', '', '', '', '', '', '', '', '', '(', '', ')\\n4', '', '', '', 'sql', '', '', '', '', '', '', '(', '', ')data', 'analyticsdata', 'analysis', '', '', '', 'salary35k', '~', '60k', 'twd/monthlocation', '', '', '', '', '', '', 'share', 'this', 'jobplease', 'sign', 'in', 'or', 'register', 'to', 'get', 'your', 'personal', 'invite', 'link', 'apply', 'now']\n"
     ]
    }
   ],
   "source": [
    "jd_word_list = get_job_desc_word_list(indeed_jd, cr_jd)\n",
    "print(jd_word_list)"
   ]
  },
  {
   "cell_type": "code",
   "execution_count": 9,
   "metadata": {},
   "outputs": [
    {
     "name": "stdout",
     "output_type": "stream",
     "text": [
      "{'': 142, 'and': 14, 'to': 12, 'of': 8, 'on': 8, 'a': 8, 'with': 7, 'our': 6, 'the': 6, 'have': 4, 'work': 4, 'in': 4, \"</li>\\n<li>you'll\": 4, 'looking': 3, 'business': 3, 'company': 3, 'or': 3, 'marketing': 3, 'level': 2, 'analyst': 2, 'that': 2, 'if': 2, 'you': 2, 'an': 2, 'analytical': 2, 'quantitative': 2, 'apply': 2, 'interesting': 2, 'problems': 2, 'team': 2, 'from': 2, 'experience': 2, 'help': 2, 'grow': 2, 'mysql': 2, 'python': 2, 'r': 2, 'excel': 2, 'for': 2, 'big': 2, 'learn': 2, 'understanding': 2, 'online': 2, 'your': 2, 'be': 2, '</li>\\n<li>we': 2, '(': 2, 'entry': 1, '|': 1, 'cambridge': 1, 'ma': 1, 'united': 1, 'states\\n<br><br>\\nsick': 1, 'those': 1, \"'entry\": 1, \"jobs'\": 1, 'require': 1, '1-2': 1, 'years': 1, 'experience?': 1, 'mindset': 1, 'are': 1, 'solving': 1, 'everyday': 1, '-': 1, 'please': 1, 'apply!\\n<br><br>\\nour': 1, 'gets': 1, 'all': 1, 'aspects': 1, 'optimizing': 1, 'user': 1, 'site': 1, 'monetization': 1, 'order': 1, 'reach': 1, 'as': 1, 'media': 1, 'we': 1, 'more': 1, 'though': 1, 'no': 1, 'prior': 1, 'knowledge': 1, 'programming': 1, 'is': 1, 'required': 1, \"\\n<br>we're\": 1, 'thinkers': 1, 'interested': 1, 'scaling': 1, 'using': 1, 'data': 1, 'give': 1, 'users': 1, 'best': 1, 'across': 1, 'platform': 1, '\\n<br><br>\\ncome': 1, 'us': 1, 'solve': 1, 'cool': 1, 'startup!\\n<br><br>\\n<b>what': 1, \"we're\": 1, 'for:</b><br>\\nb': 1, '/b': 1, 's': 1, 'mathematics': 1, 'statistics': 1, 'physics': 1, 'another': 1, 'field\\n<br>ability': 1, 'plan': 1, 'out': 1, 'process': 1, 'execute': 1, 'it': 1, 'daily': 1, 'basis': 1, 'emphasis': 1, 'achieving': 1, 'measuring': 1, 'results\\n<br>demonstrated': 1, 'ability': 1, 'quickly\\n<br>general': 1, 'market': 1, 'segmentation': 1, 'sizing': 1, 'statistics\\n<br>experience': 1, 'desire': 1, 'more\\n<br><br>\\n<b>bonus': 1, 'points': 1, 'have:</b><br>\\nexperience': 1, 'email': 1, '(and': 1, 'sem': 1, 'seo': 1, 'display)\\n<br>experience': 1, 'advertising': 1, '/': 1, 'growth': 1, 'metrics\\n<br><br>\\n<b>things': 1, \"you'll\": 1, 'like': 1, 'about': 1, 'hopjump:</b><br>\\n<ul>\\n<li>we': 1, 'value': 1, 'encourage': 1, 'creative': 1, 'thinking': 1, '&': 1, 'intellectual': 1, 'curiosity': 1, 'very': 1, 'clear': 1, 'how': 1, 'matters': 1, 'find': 1, 'new': 1, 'challenges': 1, 'every': 1, 'day': 1, 'forefront': 1, 'given': 1, 'responsibility': 1, 'impact': 1, 'opportunities': 1, 'leadership': 1, 'within': 1, 'early': 1, 'part': 1, 'passionate': 1, 'broad': 1, 'skills': 1, 'interests': 1, 'fun!': 1, 'frequent': 1, 'outings': 1, 'lunches': 1, 'parties': 1, 'offer': 1, 'competitive': 1, 'salaries': 1, 'excellent': 1, 'benefits': 1, 'relaxed': 1, 'environment': 1, 'plenty': 1, 'perks': 1, '</li>\\n</ul>\\n': 1, 'job': 1, 'description1': 1, '2': 1, '3': 1, 'requirements1': 1, '\\n2': 1, 'ppt': 1, '\\n3': 1, ')\\n4': 1, 'sql': 1, ')data': 1, 'analyticsdata': 1, 'analysis': 1, 'salary35k': 1, '~': 1, '60k': 1, 'twd/monthlocation': 1, 'share': 1, 'this': 1, 'jobplease': 1, 'sign': 1, 'register': 1, 'get': 1, 'personal': 1, 'invite': 1, 'link': 1, 'now': 1}\n"
     ]
    }
   ],
   "source": [
    "word_frequencies = get_word_frequencies(jd_word_list)\n",
    "print(word_frequencies)"
   ]
  }
 ],
 "metadata": {
  "kernelspec": {
   "display_name": "Python 3",
   "language": "python",
   "name": "python3"
  },
  "language_info": {
   "codemirror_mode": {
    "name": "ipython",
    "version": 3
   },
   "file_extension": ".py",
   "mimetype": "text/x-python",
   "name": "python",
   "nbconvert_exporter": "python",
   "pygments_lexer": "ipython3",
   "version": "3.7.5"
  }
 },
 "nbformat": 4,
 "nbformat_minor": 2
}
