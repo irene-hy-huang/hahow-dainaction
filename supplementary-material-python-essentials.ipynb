{
 "cells": [
  {
   "cell_type": "markdown",
   "metadata": {
    "slideshow": {
     "slide_type": "slide"
    }
   },
   "source": [
    "# 精簡的 Python 程式設計基礎\n",
    "\n",
    "> 補充教材\n",
    "\n",
    "郭耀仁"
   ]
  },
  {
   "cell_type": "markdown",
   "metadata": {
    "slideshow": {
     "slide_type": "subslide"
    }
   },
   "source": [
    "## 重要的程式觀念\n",
    "\n",
    "- 資料型態\n",
    "- 流程控制：條件判斷\n",
    "- 流程控制：while 迴圈\n",
    "- 資料結構\n",
    "- 流程控制：for 迴圈\n",
    "- 程式封裝：自訂函式\n",
    "- 程式封裝：模組/套件"
   ]
  },
  {
   "cell_type": "markdown",
   "metadata": {
    "slideshow": {
     "slide_type": "subslide"
    }
   },
   "source": [
    "## 關於 Python\n",
    "\n",
    "Python 是一種廣泛用途程式語言（general-purposed programming language），具有高階、直譯、與簡潔的特性，由荷蘭電腦科學家 Guido van Rossum 於 1991 年創造，目前由 Python 軟體基金會維護。Python 在資料科學、網站開發與系統自動化等應用領域中倍受熱愛，全球知名公司像 Pixar 用於電影製作、Twitch 用於系統建置以及 Spotify 用於推薦歌曲。在 NumPy、SciPy、pandas、matplotlib、Scikit-Learn 與 TensorFlow 等套件的強力加持下 Python 成為世界各地資料科學團隊的首選，團隊裡的資料科學家使用 Python 從資料中挖掘特徵尋找洞見、資料工程師使用 Python 建構與部署機器學習與自動化系統，共同為企業獲取競爭優勢；經濟學人雜誌在 2018 年 7 月亦特別撰文介紹 Python 正成為世界上最受歡迎的程式語言。"
   ]
  },
  {
   "cell_type": "markdown",
   "metadata": {
    "slideshow": {
     "slide_type": "subslide"
    }
   },
   "source": [
    "## 在多個應用領域中倍受熱愛\n",
    "\n",
    "- 資料科學\n",
    "- 網站開發\n",
    "- 系統自動化\n",
    "- ...族繁不及備載"
   ]
  },
  {
   "cell_type": "markdown",
   "metadata": {
    "slideshow": {
     "slide_type": "subslide"
    }
   },
   "source": [
    "## 有多受歡迎\n",
    "\n",
    "- [IEEE](https://spectrum.ieee.org/at-work/innovation/the-2018-top-programming-languages)\n",
    "- [TIOBE Index](https://www.tiobe.com/tiobe-index/)\n",
    "- [The Economist](https://www.economist.com/graphic-detail/2018/07/26/python-is-becoming-the-worlds-most-popular-coding-language)\n",
    "- [StackOverflow Trends](https://insights.stackoverflow.com/trends?tags=java%2Cc%2Cc%2B%2B%2Cpython%2Cc%23%2Cjavascript%2Cruby)"
   ]
  },
  {
   "cell_type": "markdown",
   "metadata": {
    "slideshow": {
     "slide_type": "subslide"
    }
   },
   "source": [
    "## 開發環境的選擇\n",
    "\n",
    "A taste of Python: 在瀏覽器使用 [Google Colaboratory](https://colab.research.google.com/)"
   ]
  },
  {
   "cell_type": "markdown",
   "metadata": {
    "slideshow": {
     "slide_type": "subslide"
    }
   },
   "source": [
    "## 執行第一個 Python 程式\n",
    "\n",
    "印出哈囉世界"
   ]
  },
  {
   "cell_type": "code",
   "execution_count": 1,
   "metadata": {},
   "outputs": [
    {
     "name": "stdout",
     "output_type": "stream",
     "text": [
      "Hello, world!\n"
     ]
    }
   ],
   "source": [
    "print(\"Hello, world!\")"
   ]
  },
  {
   "cell_type": "markdown",
   "metadata": {
    "slideshow": {
     "slide_type": "subslide"
    }
   },
   "source": [
    "## Python 禪學，Zen of Python"
   ]
  },
  {
   "cell_type": "code",
   "execution_count": 2,
   "metadata": {},
   "outputs": [
    {
     "name": "stdout",
     "output_type": "stream",
     "text": [
      "The Zen of Python, by Tim Peters\n",
      "\n",
      "Beautiful is better than ugly.\n",
      "Explicit is better than implicit.\n",
      "Simple is better than complex.\n",
      "Complex is better than complicated.\n",
      "Flat is better than nested.\n",
      "Sparse is better than dense.\n",
      "Readability counts.\n",
      "Special cases aren't special enough to break the rules.\n",
      "Although practicality beats purity.\n",
      "Errors should never pass silently.\n",
      "Unless explicitly silenced.\n",
      "In the face of ambiguity, refuse the temptation to guess.\n",
      "There should be one-- and preferably only one --obvious way to do it.\n",
      "Although that way may not be obvious at first unless you're Dutch.\n",
      "Now is better than never.\n",
      "Although never is often better than *right* now.\n",
      "If the implementation is hard to explain, it's a bad idea.\n",
      "If the implementation is easy to explain, it may be a good idea.\n",
      "Namespaces are one honking great idea -- let's do more of those!\n"
     ]
    }
   ],
   "source": [
    "import this"
   ]
  },
  {
   "cell_type": "markdown",
   "metadata": {
    "slideshow": {
     "slide_type": "subslide"
    }
   },
   "source": [
    "## 以 `=` 將資訊儲存至一個物件名稱中"
   ]
  },
  {
   "cell_type": "code",
   "execution_count": 3,
   "metadata": {},
   "outputs": [
    {
     "name": "stdout",
     "output_type": "stream",
     "text": [
      "Avengers: Endgame\n"
     ]
    }
   ],
   "source": [
    "movie_title = \"Avengers: Endgame\"\n",
    "print(movie_title)"
   ]
  },
  {
   "cell_type": "markdown",
   "metadata": {
    "slideshow": {
     "slide_type": "subslide"
    }
   },
   "source": [
    "## 以 `#` 對程式功能做註解"
   ]
  },
  {
   "cell_type": "code",
   "execution_count": 4,
   "metadata": {},
   "outputs": [
    {
     "name": "stdout",
     "output_type": "stream",
     "text": [
      "Avengers: Endgame\n"
     ]
    }
   ],
   "source": [
    "# 儲存資訊 <--- 註解\n",
    "movie_title = \"Avengers: Endgame\"\n",
    "print(movie_title) # 印出資訊 <--- 註解"
   ]
  },
  {
   "cell_type": "markdown",
   "metadata": {
    "slideshow": {
     "slide_type": "subslide"
    }
   },
   "source": [
    "## 資料型態\n",
    "\n",
    "- 整數\n",
    "- 浮點數\n",
    "- 文字\n",
    "- 布林"
   ]
  },
  {
   "cell_type": "markdown",
   "metadata": {
    "slideshow": {
     "slide_type": "subslide"
    }
   },
   "source": [
    "![Imgur](https://i.imgur.com/3sGTb1H.png)"
   ]
  },
  {
   "cell_type": "code",
   "execution_count": 5,
   "metadata": {
    "slideshow": {
     "slide_type": "subslide"
    }
   },
   "outputs": [
    {
     "name": "stdout",
     "output_type": "stream",
     "text": [
      "Avengers: Endgame\n",
      "2019\n",
      "8.8\n",
      "True\n",
      "False\n"
     ]
    }
   ],
   "source": [
    "movie_title = \"Avengers: Endgame\"\n",
    "movie_release_year = 2019\n",
    "movie_rating = 8.8\n",
    "movie_is_good = movie_rating > 8\n",
    "movie_is_perfect = movie_rating > 9.5\n",
    "\n",
    "print(movie_title)\n",
    "print(movie_release_year)\n",
    "print(movie_rating)\n",
    "print(movie_is_good)\n",
    "print(movie_is_perfect)"
   ]
  },
  {
   "cell_type": "code",
   "execution_count": 6,
   "metadata": {
    "slideshow": {
     "slide_type": "subslide"
    }
   },
   "outputs": [
    {
     "name": "stdout",
     "output_type": "stream",
     "text": [
      "<class 'str'>\n",
      "<class 'int'>\n",
      "<class 'float'>\n",
      "<class 'bool'>\n",
      "<class 'bool'>\n"
     ]
    }
   ],
   "source": [
    "print(type(movie_title))\n",
    "print(type(movie_release_year))\n",
    "print(type(movie_rating))\n",
    "print(type(movie_is_good))\n",
    "print(type(movie_is_perfect))"
   ]
  },
  {
   "cell_type": "markdown",
   "metadata": {
    "slideshow": {
     "slide_type": "subslide"
    }
   },
   "source": [
    "## 布林的應用場景\n",
    "\n",
    "- 條件判斷\n",
    "- `while` 迴圈\n",
    "- 資料篩選"
   ]
  },
  {
   "cell_type": "markdown",
   "metadata": {
    "slideshow": {
     "slide_type": "subslide"
    }
   },
   "source": [
    "## 條件判斷\n",
    "\n",
    "使用 `:` 與縮排建構 Code block\n",
    "\n",
    "```python\n",
    "if EXPR_1:\n",
    "    # EXPR_1 被評估為 True 時候執行縮排的程式碼\n",
    "elif EXPR_2:\n",
    "    # EXPR_2 被評估為 True 時候執行縮排的程式碼\n",
    "else:\n",
    "    # EXPR_1 與 EXPR_2 都被評估為 False 時候執行縮排的程式碼\n",
    "```"
   ]
  },
  {
   "cell_type": "code",
   "execution_count": 7,
   "metadata": {
    "slideshow": {
     "slide_type": "subslide"
    }
   },
   "outputs": [
    {
     "name": "stdout",
     "output_type": "stream",
     "text": [
      "請輸入電影名稱：Avengers: Endgame\n",
      "請輸入電影評分：8.8\n",
      "Avengers: Endgame的評分為 8.8 分要去電影院看！\n"
     ]
    }
   ],
   "source": [
    "movie_title = input(\"請輸入電影名稱：\")\n",
    "movie_rating = input(\"請輸入電影評分：\")\n",
    "movie_rating = float(movie_rating)\n",
    "\n",
    "if movie_rating > 8:\n",
    "    print(\"{}的評分為 {} 分要去電影院看！\".format(movie_title, movie_rating))\n",
    "elif movie_rating > 7:\n",
    "    print(\"{}的評分為 {} 分值得一看！\".format(movie_title, movie_rating))\n",
    "else:\n",
    "    print(\"{}的評分為 {} 分看了會後悔！\".format(movie_title, movie_rating))"
   ]
  },
  {
   "cell_type": "markdown",
   "metadata": {
    "slideshow": {
     "slide_type": "subslide"
    }
   },
   "source": [
    "## `while` 迴圈\n",
    "\n",
    "- 重複的起始值\n",
    "- `while` 保留字\n",
    "- 任務重複的運行條件\n",
    "- 縮排中編寫重複運行的程式（整合前面課堂所學得的知識）\n",
    "- 更新\n",
    "\n",
    "```python\n",
    "i = ... # 重複的起始值\n",
    "while EXPR: # while 保留字、任務重複的運行條件\n",
    "    # 縮排中編寫重複運行的程式\n",
    "    # 更新\n",
    "```"
   ]
  },
  {
   "cell_type": "markdown",
   "metadata": {
    "slideshow": {
     "slide_type": "subslide"
    }
   },
   "source": [
    "## 迴圈是用來解決需要反覆執行、大量手動複製貼上程式碼的任務\n",
    "\n",
    "- 重複印出（Print）\n",
    "- 計數（Counter）\n",
    "- 加總（Summation）\n",
    "- 合併（Concatenation）"
   ]
  },
  {
   "cell_type": "markdown",
   "metadata": {
    "slideshow": {
     "slide_type": "subslide"
    }
   },
   "source": [
    "## 印出介於 1 到 100 之間的偶數"
   ]
  },
  {
   "cell_type": "code",
   "execution_count": 8,
   "metadata": {},
   "outputs": [
    {
     "name": "stdout",
     "output_type": "stream",
     "text": [
      "2\n",
      "4\n",
      "6\n",
      "8\n",
      "10\n",
      "12\n",
      "14\n",
      "16\n",
      "18\n",
      "20\n",
      "22\n",
      "24\n",
      "26\n",
      "28\n",
      "30\n",
      "32\n",
      "34\n",
      "36\n",
      "38\n",
      "40\n",
      "42\n",
      "44\n",
      "46\n",
      "48\n",
      "50\n",
      "52\n",
      "54\n",
      "56\n",
      "58\n",
      "60\n",
      "62\n",
      "64\n",
      "66\n",
      "68\n",
      "70\n",
      "72\n",
      "74\n",
      "76\n",
      "78\n",
      "80\n",
      "82\n",
      "84\n",
      "86\n",
      "88\n",
      "90\n",
      "92\n",
      "94\n",
      "96\n",
      "98\n",
      "100\n"
     ]
    }
   ],
   "source": [
    "i = 2\n",
    "while i < 102:\n",
    "    print(i)\n",
    "    i += 2"
   ]
  },
  {
   "cell_type": "markdown",
   "metadata": {
    "slideshow": {
     "slide_type": "subslide"
    }
   },
   "source": [
    "## 加總介於 1 到 100 之間的偶數"
   ]
  },
  {
   "cell_type": "code",
   "execution_count": 9,
   "metadata": {},
   "outputs": [
    {
     "name": "stdout",
     "output_type": "stream",
     "text": [
      "2550\n"
     ]
    }
   ],
   "source": [
    "i = 2\n",
    "summation = 0\n",
    "while i < 102:\n",
    "    summation += i\n",
    "    i += 2\n",
    "print(summation)"
   ]
  },
  {
   "cell_type": "markdown",
   "metadata": {
    "slideshow": {
     "slide_type": "subslide"
    }
   },
   "source": [
    "## 計數介於 1 到 100 之間的偶數"
   ]
  },
  {
   "cell_type": "code",
   "execution_count": 10,
   "metadata": {},
   "outputs": [
    {
     "name": "stdout",
     "output_type": "stream",
     "text": [
      "50\n"
     ]
    }
   ],
   "source": [
    "i = 2\n",
    "even_counts = 0\n",
    "while i < 102:\n",
    "    even_counts += 1\n",
    "    i += 2\n",
    "print(even_counts)"
   ]
  },
  {
   "cell_type": "markdown",
   "metadata": {
    "slideshow": {
     "slide_type": "subslide"
    }
   },
   "source": [
    "## 合併介於 1 到 100 之間的偶數"
   ]
  },
  {
   "cell_type": "code",
   "execution_count": 11,
   "metadata": {},
   "outputs": [
    {
     "name": "stdout",
     "output_type": "stream",
     "text": [
      "[2, 4, 6, 8, 10, 12, 14, 16, 18, 20, 22, 24, 26, 28, 30, 32, 34, 36, 38, 40, 42, 44, 46, 48, 50, 52, 54, 56, 58, 60, 62, 64, 66, 68, 70, 72, 74, 76, 78, 80, 82, 84, 86, 88, 90, 92, 94, 96, 98, 100]\n"
     ]
    }
   ],
   "source": [
    "i = 2\n",
    "even_ints = []\n",
    "while i < 102:\n",
    "    even_ints.append(i)\n",
    "    i += 2\n",
    "print(even_ints)"
   ]
  },
  {
   "cell_type": "markdown",
   "metadata": {
    "slideshow": {
     "slide_type": "subslide"
    }
   },
   "source": [
    "## `list` 是 Python 基礎的資料結構\n",
    "\n",
    "以 `[]` 搭配 `,` 將多筆資料收納到一個 `list` 中\n",
    "\n",
    "```python\n",
    "my_list = [val0, val1, val2, ...]\n",
    "```"
   ]
  },
  {
   "cell_type": "code",
   "execution_count": 12,
   "metadata": {
    "slideshow": {
     "slide_type": "subslide"
    }
   },
   "outputs": [
    {
     "name": "stdout",
     "output_type": "stream",
     "text": [
      "<class 'list'>\n"
     ]
    }
   ],
   "source": [
    "the_avengers = [\"Iron Man\", \"Captain America\", \"Hulk\", \"Thor\", \"Black Widow\", \"Hawkeye\"]\n",
    "print(type(the_avengers))"
   ]
  },
  {
   "cell_type": "markdown",
   "metadata": {
    "slideshow": {
     "slide_type": "subslide"
    }
   },
   "source": [
    "## `dict` 是 Python 將資料與標籤綁定的彈性資料結構\n",
    "\n",
    "以 `{}` 搭配 `key:value` 將資料（value）與標籤（key）綁定起來\n",
    "\n",
    "```python\n",
    "my_dict = {\n",
    "    \"key0\": val0,\n",
    "    \"key1\": val1,\n",
    "    \"key2\": val2,\n",
    "    ...\n",
    "}\n",
    "```"
   ]
  },
  {
   "cell_type": "code",
   "execution_count": 13,
   "metadata": {
    "slideshow": {
     "slide_type": "subslide"
    }
   },
   "outputs": [
    {
     "name": "stdout",
     "output_type": "stream",
     "text": [
      "<class 'dict'>\n"
     ]
    }
   ],
   "source": [
    "the_avengers = {\n",
    "    \"Iron Man\": \"Tony Stark\",\n",
    "    \"Captain America\": \"Steve Rogers\",\n",
    "    \"Hulk\": \"Bruce Banner\",\n",
    "    \"Thor\": \"Thor\",\n",
    "    \"Black Widow\": \"Natasha Romanoff\",\n",
    "    \"Hawkeye\": \"Clint Barton\"\n",
    "}\n",
    "print(type(the_avengers))"
   ]
  },
  {
   "cell_type": "markdown",
   "metadata": {
    "slideshow": {
     "slide_type": "subslide"
    }
   },
   "source": [
    "## `for` 迴圈\n",
    "\n",
    "- `for` 保留字\n",
    "- 游標名稱\n",
    "- `in` 保留字\n",
    "- 可迭代的物件\n",
    "- 縮排中編寫重複運行的程式\n",
    "\n",
    "```python\n",
    "for i in ITERABLE: # for 保留字、游標名稱、in 保留字、可迭代的物件\n",
    "    # 縮排中編寫重複運行的程式\n",
    "```"
   ]
  },
  {
   "cell_type": "markdown",
   "metadata": {
    "slideshow": {
     "slide_type": "subslide"
    }
   },
   "source": [
    "## 迴圈是用來解決需要反覆執行、大量手動複製貼上程式碼的任務\n",
    "\n",
    "- 重複印出（Print）\n",
    "- 計數（Counter）\n",
    "- 加總（Summation）\n",
    "- 合併（Concatenation）"
   ]
  },
  {
   "cell_type": "markdown",
   "metadata": {
    "slideshow": {
     "slide_type": "subslide"
    }
   },
   "source": [
    "## 印出介於 1 到 100 之間的偶數"
   ]
  },
  {
   "cell_type": "code",
   "execution_count": 14,
   "metadata": {},
   "outputs": [
    {
     "name": "stdout",
     "output_type": "stream",
     "text": [
      "2\n",
      "4\n",
      "6\n",
      "8\n",
      "10\n",
      "12\n",
      "14\n",
      "16\n",
      "18\n",
      "20\n",
      "22\n",
      "24\n",
      "26\n",
      "28\n",
      "30\n",
      "32\n",
      "34\n",
      "36\n",
      "38\n",
      "40\n",
      "42\n",
      "44\n",
      "46\n",
      "48\n",
      "50\n",
      "52\n",
      "54\n",
      "56\n",
      "58\n",
      "60\n",
      "62\n",
      "64\n",
      "66\n",
      "68\n",
      "70\n",
      "72\n",
      "74\n",
      "76\n",
      "78\n",
      "80\n",
      "82\n",
      "84\n",
      "86\n",
      "88\n",
      "90\n",
      "92\n",
      "94\n",
      "96\n",
      "98\n",
      "100\n"
     ]
    }
   ],
   "source": [
    "for i in range(1, 101):\n",
    "    if i % 2 == 0:\n",
    "        print(i)"
   ]
  },
  {
   "cell_type": "markdown",
   "metadata": {
    "slideshow": {
     "slide_type": "subslide"
    }
   },
   "source": [
    "## 加總介於 1 到 100 之間的偶數"
   ]
  },
  {
   "cell_type": "code",
   "execution_count": 15,
   "metadata": {},
   "outputs": [
    {
     "name": "stdout",
     "output_type": "stream",
     "text": [
      "2550\n"
     ]
    }
   ],
   "source": [
    "summation = 0\n",
    "for i in range(1, 101):\n",
    "    if i % 2 == 0:\n",
    "        summation += i\n",
    "print(summation)"
   ]
  },
  {
   "cell_type": "markdown",
   "metadata": {
    "slideshow": {
     "slide_type": "subslide"
    }
   },
   "source": [
    "## 計數介於 1 到 100 之間的偶數"
   ]
  },
  {
   "cell_type": "code",
   "execution_count": 16,
   "metadata": {},
   "outputs": [
    {
     "name": "stdout",
     "output_type": "stream",
     "text": [
      "50\n"
     ]
    }
   ],
   "source": [
    "even_counts = 0\n",
    "for i in range(1, 101):\n",
    "    if i % 2 == 0:\n",
    "        even_counts += 1\n",
    "print(even_counts)"
   ]
  },
  {
   "cell_type": "markdown",
   "metadata": {
    "slideshow": {
     "slide_type": "subslide"
    }
   },
   "source": [
    "## 合併介於 1 到 100 之間的偶數"
   ]
  },
  {
   "cell_type": "code",
   "execution_count": 17,
   "metadata": {},
   "outputs": [
    {
     "name": "stdout",
     "output_type": "stream",
     "text": [
      "[2, 4, 6, 8, 10, 12, 14, 16, 18, 20, 22, 24, 26, 28, 30, 32, 34, 36, 38, 40, 42, 44, 46, 48, 50, 52, 54, 56, 58, 60, 62, 64, 66, 68, 70, 72, 74, 76, 78, 80, 82, 84, 86, 88, 90, 92, 94, 96, 98, 100]\n"
     ]
    }
   ],
   "source": [
    "even_ints = []\n",
    "for i in range(1, 101):\n",
    "    if i % 2 == 0:\n",
    "        even_ints.append(i)\n",
    "print(even_ints)"
   ]
  },
  {
   "cell_type": "markdown",
   "metadata": {
    "slideshow": {
     "slide_type": "subslide"
    }
   },
   "source": [
    "## 程式封裝的三個層級\n",
    "\n",
    "- 模組與套件（Modules and classes）\n",
    "    - 類別（Classes）\n",
    "        - 函式（Functions）"
   ]
  },
  {
   "cell_type": "markdown",
   "metadata": {
    "slideshow": {
     "slide_type": "subslide"
    }
   },
   "source": [
    "## 自訂函式\n",
    "\n",
    "- 使用 `def` 保留字\n",
    "- 函數名稱風格與物件相同，常使用動詞\n",
    "- 以長字串 `\"\"\"Docstrings\"\"\"` 撰寫函數功能說明\n",
    "- 使用 `return` 保留字\n",
    "\n",
    "```python\n",
    "def function_name(INPUTS, ARGUMENTS, ...):\n",
    "    \"\"\"\n",
    "    Docstrings\n",
    "    \"\"\"\n",
    "    # 做些什麼事\n",
    "    return OUTPUTS\n",
    "```"
   ]
  },
  {
   "cell_type": "code",
   "execution_count": 18,
   "metadata": {
    "slideshow": {
     "slide_type": "subslide"
    }
   },
   "outputs": [],
   "source": [
    "# Define\n",
    "def get_bmi(height, weight):\n",
    "    \"\"\"\n",
    "    依據身高、體重計算 BMI 身體質量指數\n",
    "    身高：以公分（cm）為單位\n",
    "    體重：以公斤（kg）為單位\n",
    "    \"\"\"\n",
    "    bmi = weight / (height/100)**2\n",
    "    return bmi"
   ]
  },
  {
   "cell_type": "code",
   "execution_count": 19,
   "metadata": {
    "slideshow": {
     "slide_type": "subslide"
    }
   },
   "outputs": [
    {
     "name": "stdout",
     "output_type": "stream",
     "text": [
      "Help on function get_bmi in module __main__:\n",
      "\n",
      "get_bmi(height, weight)\n",
      "    依據身高、體重計算 BMI 身體質量指數\n",
      "    身高：以公分（cm）為單位\n",
      "    體重：以公斤（kg）為單位\n",
      "\n",
      "24.94449165318933\n"
     ]
    }
   ],
   "source": [
    "# Use\n",
    "help(get_bmi)\n",
    "print(get_bmi(191, 91))"
   ]
  },
  {
   "cell_type": "markdown",
   "metadata": {
    "slideshow": {
     "slide_type": "subslide"
    }
   },
   "source": [
    "![Imgur](https://i.imgur.com/04wNn0h.png)"
   ]
  },
  {
   "cell_type": "markdown",
   "metadata": {
    "slideshow": {
     "slide_type": "subslide"
    }
   },
   "source": [
    "## 使用 `import` 指令載入標準與外部模組套件\n",
    "\n",
    "- 標準函式庫（Standard Libraries）\n",
    "- 外部函式庫（Third-party Libraries）"
   ]
  },
  {
   "cell_type": "code",
   "execution_count": 20,
   "metadata": {
    "slideshow": {
     "slide_type": "subslide"
    }
   },
   "outputs": [
    {
     "name": "stdout",
     "output_type": "stream",
     "text": [
      "1.17.0\n",
      "0.25.1\n"
     ]
    }
   ],
   "source": [
    "import numpy as np\n",
    "import pandas as pd\n",
    "\n",
    "print(np.__version__)\n",
    "print(pd.__version__)"
   ]
  },
  {
   "cell_type": "markdown",
   "metadata": {
    "slideshow": {
     "slide_type": "subslide"
    }
   },
   "source": [
    "## 外部函式庫：使用 `pip install` 指令\n",
    "\n",
    "```bash\n",
    "pip install LIBRARY_NAME\n",
    "```"
   ]
  },
  {
   "cell_type": "markdown",
   "metadata": {
    "slideshow": {
     "slide_type": "subslide"
    }
   },
   "source": [
    "## `pip` 是 Python 套件管理工具\n",
    "\n",
    "- 不需額外安裝\n",
    "- 協助使用者從 [Python Pacakge Index](https://pypi.org/) 下載、安裝或更新"
   ]
  },
  {
   "cell_type": "markdown",
   "metadata": {
    "slideshow": {
     "slide_type": "subslide"
    }
   },
   "source": [
    "## 模組\n",
    "\n",
    "- 將函數或類別封裝在一個 `.py` 檔案中\n",
    "- `.py` 的檔名就是模組名稱"
   ]
  },
  {
   "cell_type": "markdown",
   "metadata": {
    "slideshow": {
     "slide_type": "subslide"
    }
   },
   "source": [
    "## 套件\n",
    "\n",
    "多個功能相關的模組（.py 檔案）可以組織成一個套件（資料夾）。"
   ]
  }
 ],
 "metadata": {
  "celltoolbar": "Slideshow",
  "kernelspec": {
   "display_name": "Python 3",
   "language": "python",
   "name": "python3"
  },
  "language_info": {
   "codemirror_mode": {
    "name": "ipython",
    "version": 3
   },
   "file_extension": ".py",
   "mimetype": "text/x-python",
   "name": "python",
   "nbconvert_exporter": "python",
   "pygments_lexer": "ipython3",
   "version": "3.7.5"
  }
 },
 "nbformat": 4,
 "nbformat_minor": 2
}
