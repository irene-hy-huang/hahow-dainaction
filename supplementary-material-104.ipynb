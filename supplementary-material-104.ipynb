{
 "cells": [
  {
   "cell_type": "markdown",
   "metadata": {},
   "source": [
    "## 104 人力銀行資料分析師職缺的工作描述\n",
    "\n",
    "郭耀仁"
   ]
  },
  {
   "cell_type": "markdown",
   "metadata": {},
   "source": [
    "## 載入筆記本需要的套件"
   ]
  },
  {
   "cell_type": "code",
   "execution_count": 1,
   "metadata": {},
   "outputs": [],
   "source": [
    "import requests\n",
    "import time\n",
    "import random\n",
    "import re\n",
    "import pandas as pd"
   ]
  },
  {
   "cell_type": "markdown",
   "metadata": {},
   "source": [
    "## 搜尋「資料分析師」\n",
    "\n",
    "- 全職\n",
    "- 經歷要求：1 年以下\n",
    "\n",
    "![Imgur](https://i.imgur.com/C8Sf3D6.png?1)"
   ]
  },
  {
   "cell_type": "markdown",
   "metadata": {},
   "source": [
    "## 以 Chrome 開發者工具檢視 HTTP 請求/回應\n",
    "\n",
    "- 請求種類：`GET`\n",
    "- 請求 URL：https://www.104.com.tw/jobs/search/list\n",
    "\n",
    "![Imgur](https://i.imgur.com/WP2mHg9.png?1)"
   ]
  },
  {
   "cell_type": "code",
   "execution_count": 2,
   "metadata": {},
   "outputs": [],
   "source": [
    "request_url = \"https://www.104.com.tw/jobs/search/list\""
   ]
  },
  {
   "cell_type": "markdown",
   "metadata": {},
   "source": [
    "- Request Headers"
   ]
  },
  {
   "cell_type": "code",
   "execution_count": 3,
   "metadata": {},
   "outputs": [],
   "source": [
    "request_headers = {\n",
    "    'Referer': 'https://www.104.com.tw/jobs/search/'\n",
    "}"
   ]
  },
  {
   "cell_type": "markdown",
   "metadata": {},
   "source": [
    "- Query String Parameters"
   ]
  },
  {
   "cell_type": "code",
   "execution_count": 4,
   "metadata": {},
   "outputs": [],
   "source": [
    "query_string_parameters = {\n",
    "    'ro': '1',\n",
    "    'kwop': '7',\n",
    "    'keyword': '資料分析師',\n",
    "    'jobcatExpansionType': '0',\n",
    "    'order': '15',\n",
    "    'asc': '0',\n",
    "    'page': '1',\n",
    "    'jobexp': '1',\n",
    "    'mode': 's',\n",
    "    'jobsource': '2018indexpoc'\n",
    "}"
   ]
  },
  {
   "cell_type": "markdown",
   "metadata": {},
   "source": [
    "## 發送請求"
   ]
  },
  {
   "cell_type": "code",
   "execution_count": 5,
   "metadata": {},
   "outputs": [
    {
     "name": "stdout",
     "output_type": "stream",
     "text": [
      "200\n"
     ]
    }
   ],
   "source": [
    "response = requests.get(request_url, params=query_string_parameters, headers=request_headers)\n",
    "print(response.status_code)"
   ]
  },
  {
   "cell_type": "markdown",
   "metadata": {},
   "source": [
    "## 解析回應"
   ]
  },
  {
   "cell_type": "code",
   "execution_count": 6,
   "metadata": {},
   "outputs": [
    {
     "name": "stdout",
     "output_type": "stream",
     "text": [
      "符合搜尋條件的職缺有113筆，分佈在6頁\n"
     ]
    }
   ],
   "source": [
    "response_json = response.json()\n",
    "n_jobs = response_json['data']['totalCount']\n",
    "n_pages = response_json['data']['totalPage']\n",
    "print(\"符合搜尋條件的職缺有{}筆，分佈在{}頁\".format(n_jobs, n_pages))"
   ]
  },
  {
   "cell_type": "markdown",
   "metadata": {},
   "source": [
    "## 「有禮貌」地爬取職缺的頁面連結\n",
    "\n",
    "- 一次爬取一頁\n",
    "- 間隔 5-10 秒再爬取下一頁"
   ]
  },
  {
   "cell_type": "code",
   "execution_count": 7,
   "metadata": {},
   "outputs": [],
   "source": [
    "def get_job_links():\n",
    "    job_links = []\n",
    "    for page in range(1, n_pages + 1):\n",
    "        query_string_parameters = {\n",
    "            'ro': '1',\n",
    "            'kwop': '7',\n",
    "            'keyword': '資料分析師',\n",
    "            'jobcatExpansionType': '0',\n",
    "            'order': '15',\n",
    "            'asc': '0',\n",
    "            'page': str(page),\n",
    "            'jobexp': '1',\n",
    "            'mode': 's',\n",
    "            'jobsource': '2018indexpoc'\n",
    "        }\n",
    "        response = requests.get(request_url, params=query_string_parameters, headers=request_headers)\n",
    "        response_json = response.json()\n",
    "        for job in response_json['data']['list']:\n",
    "            job_link = job['link']['job'].replace('//', '')\n",
    "            job_link = \"https://{}\".format(job_link)\n",
    "            job_links.append(job_link)\n",
    "        print(\"正在爬取第{}頁的職缺...\".format(page))\n",
    "        sleep_time = random.randint(5, 10)\n",
    "        time.sleep(sleep_time)\n",
    "    return job_links"
   ]
  },
  {
   "cell_type": "code",
   "execution_count": 8,
   "metadata": {},
   "outputs": [
    {
     "name": "stdout",
     "output_type": "stream",
     "text": [
      "正在爬取第1頁的職缺...\n",
      "正在爬取第2頁的職缺...\n",
      "正在爬取第3頁的職缺...\n",
      "正在爬取第4頁的職缺...\n",
      "正在爬取第5頁的職缺...\n",
      "正在爬取第6頁的職缺...\n"
     ]
    }
   ],
   "source": [
    "job_links = get_job_links()"
   ]
  },
  {
   "cell_type": "code",
   "execution_count": 9,
   "metadata": {},
   "outputs": [
    {
     "data": {
      "text/plain": [
       "113"
      ]
     },
     "execution_count": 9,
     "metadata": {},
     "output_type": "execute_result"
    }
   ],
   "source": [
    "len(job_links)"
   ]
  },
  {
   "cell_type": "markdown",
   "metadata": {},
   "source": [
    "## 以 Chrome 開發者工具檢視 HTTP 請求/回應\n",
    "\n",
    "- 請求種類：`GET`\n",
    "- 請求 URL：https://www.104.com.tw/job/ajax/content/{job_id}\n",
    "\n",
    "![Imgur](https://i.imgur.com/dq2TaNE.png)"
   ]
  },
  {
   "cell_type": "markdown",
   "metadata": {},
   "source": [
    "## 「有禮貌」地爬取職缺的工作描述\n",
    "\n",
    "- 間隔 1-5 秒再爬取下一個職缺的工作描述"
   ]
  },
  {
   "cell_type": "code",
   "execution_count": 10,
   "metadata": {},
   "outputs": [],
   "source": [
    "def get_job_desc(job_links):\n",
    "    job_ids = [re.split(\"/|\\?\", i)[-2] for i in job_links]\n",
    "    job_descriptions = []\n",
    "    for job_id, job_link in zip(job_ids, job_links):\n",
    "        request_url = \"https://www.104.com.tw/job/ajax/content/{}\".format(job_id)\n",
    "        request_header = {\n",
    "            'Referer': job_link\n",
    "        }\n",
    "        response = requests.get(request_url, headers=request_headers)\n",
    "        response_json = response.json()\n",
    "        company = response_json['data']['header']['custName']\n",
    "        job_title = response_json['data']['header']['jobName']\n",
    "        job_desc = response_json['data']['jobDetail']['jobDescription']\n",
    "        job_desc = re.sub(\"\\n|\\r\", \"\", job_desc)\n",
    "        job_data = {\n",
    "            'company': company,\n",
    "            'jobTitle': job_title,\n",
    "            'jobDesc': job_desc\n",
    "        }\n",
    "        job_descriptions.append(job_data)\n",
    "        print(\"正在爬取{}的{}工作描述...\".format(company, job_title))\n",
    "        sleep_time = random.randint(1, 5)\n",
    "        time.sleep(sleep_time)\n",
    "    return job_descriptions"
   ]
  },
  {
   "cell_type": "code",
   "execution_count": 11,
   "metadata": {},
   "outputs": [
    {
     "name": "stdout",
     "output_type": "stream",
     "text": [
      "正在爬取17直播_英屬維京群島商麻吉一七股份有限公司臺灣分公司的(Jr./Sr.) Data Analyst 資深資料分析師工作描述...\n",
      "正在爬取烏龜移動科技股份有限公司的資料分析師工作描述...\n",
      "正在爬取PIXNET_優像數位媒體科技股份有限公司的資料分析師(NC-痞客邦研發中心)工作描述...\n",
      "正在爬取核桃運算股份有限公司的Data Analyst 資料分析師工作描述...\n",
      "正在爬取永慶房產集團_永慶房屋仲介股份有限公司的資料分析師.工作描述...\n",
      "正在爬取艾思網絡股份有限公司的商業資料分析師 Business Data Analyst工作描述...\n",
      "正在爬取瑞嘉軟體科技股份有限公司的Data Analyst / 資料分析師工作描述...\n",
      "正在爬取童綜合醫療社團法人童綜合醫院的童綜合醫院資料分析師工作描述...\n",
      "正在爬取意藍資訊股份有限公司的資料分析師 (社群資料、人群資料)工作描述...\n",
      "正在爬取薩摩亞商俠客行軟件科技有限公司的資料分析師(台北上班)工作描述...\n",
      "正在爬取薩摩亞商俠客行軟件科技有限公司的資料分析師(派駐菲律賓)工作描述...\n",
      "正在爬取聯強國際股份有限公司的資料分析師(全球第二大IT通路集團)工作描述...\n",
      "正在爬取天氣風險管理開發股份有限公司的資料分析師工作描述...\n",
      "正在爬取新代科技股份有限公司的資料數據分析師工作描述...\n",
      "正在爬取優愛德股份有限公司的資料分析師 Data Analyst工作描述...\n",
      "正在爬取永豐金證券股份有限公司的資料分析師(資訊部)工作描述...\n",
      "正在爬取明基電通股份有限公司的資料分析師【明基BenQ雲端創新中心】工作描述...\n",
      "正在爬取凱鈿行動科技股份有限公司的資料分析師 Data Analyst (台南/Tainan)工作描述...\n",
      "正在爬取意藍資訊股份有限公司的產品分析師 (PeopleView人群資料庫)工作描述...\n",
      "正在爬取OK超商_來來超商股份有限公司的【總公司】 資料分析專員(資訊部)-A01工作描述...\n",
      "正在爬取中國醫藥大學附設醫院的1M94-醫療智慧中心臨床資料組 系統分析師工作描述...\n",
      "正在爬取中國醫藥大學附設醫院的1M94-醫療智慧中心臨床資料組 初級臨床數據分析師工作描述...\n",
      "正在爬取國泰金控_國泰金融控股股份有限公司的資料科學分析師（Data Science R&D）- 資料科學實驗室(數數發中心, DDT)工作描述...\n",
      "正在爬取國泰世華商業銀行股份有限公司_人力資源部的【數據生態營運】資料科學分析師-數據分析 (數數發中心,DDT)工作描述...\n",
      "正在爬取宇峻奧汀科技股份有限公司的遊戲數據分析工程師工作描述...\n",
      "正在爬取安布思沛行銷股份有限公司的雲端工程師 Cloud Engineer工作描述...\n",
      "正在爬取博暉科技股份有限公司的資產管理系統開發人才C#(AM)工作描述...\n",
      "正在爬取兆威數位媒體有限公司的資料庫開發工程師(DBA)工作描述...\n",
      "正在爬取緯穎科技服務股份有限公司的B0J2-ETL 資料工程師工作描述...\n",
      "正在爬取永豐金證券股份有限公司的2020年數位科技人才招募專區-Data analyst (DA)工作描述...\n",
      "正在爬取博識資訊顧問有限公司的系統分析師工作描述...\n",
      "正在爬取聖洋科技股份有限公司的(F)R-系統分析師工作描述...\n",
      "正在爬取龍華科技大學的資訊系統程式設計人員工作描述...\n",
      "正在爬取泰瑩科技股份有限公司的系統工程師工作描述...\n",
      "正在爬取中華民國人壽保險商業同業公會的精算資訊組-電腦資訊人員工作描述...\n",
      "正在爬取頂尖生技顧問股份有限公司的資訊分析師工作描述...\n",
      "正在爬取連宜股份有限公司的資訊專員(上班地點:前鎮)工作描述...\n",
      "正在爬取中國航運股份有限公司的資訊人員-資料整合分析人員工作描述...\n",
      "正在爬取美而快實業股份有限公司的數據工程師 (Data Engineer)工作描述...\n",
      "正在爬取連宜股份有限公司的資訊專員(上班地點:岡山)工作描述...\n",
      "正在爬取艾力特科技有限公司的DevOps 資深工程師/工程師工作描述...\n",
      "正在爬取ViewSonic Corporation_優派國際股份有限公司的Cloud Security Administrator工作描述...\n",
      "正在爬取農識國際股份有限公司的系統工程師工作描述...\n",
      "正在爬取OK超商_來來超商股份有限公司的【總公司】 資料分析專員(資訊部)-A01工作描述...\n",
      "正在爬取鴻璟科技股份有限公司的網路安全分析工程師工作描述...\n",
      "正在爬取新達科技股份有限公司的資料庫管理師工作描述...\n",
      "正在爬取菲律賓商寶勵科技股份有限公司的資料庫工程師 DBA Database Administrator工作描述...\n",
      "正在爬取明基電通股份有限公司的資深資料工程師【明基BenQ Data Application】工作描述...\n",
      "正在爬取志光教育科技股份有限公司的網路程式設計師(金榜數位分公司)工作描述...\n",
      "正在爬取生活市集_創業家兄弟股份有限公司的電子商務資料工程師 Data Engineer (月薪40K-100K)工作描述...\n",
      "正在爬取緯德科技股份有限公司 (TechLink Corporation)的Hadoop資料工程師工作描述...\n",
      "正在爬取OK超商_來來超商股份有限公司的【總公司】 資料分析專員(資訊部)-B01工作描述...\n",
      "正在爬取中國人壽保險股份有限公司(總公司)的F 資料分析運用工程師工作描述...\n",
      "正在爬取天氣風險管理開發股份有限公司的助理天氣分析師工作描述...\n",
      "正在爬取雲享資訊有限公司的初階 Python 工程師工作描述...\n",
      "正在爬取醫療財團法人羅許基金會羅東博愛醫院的營運中心-數據分析師工作描述...\n",
      "正在爬取大宇國際證券投資顧問股份有限公司的美編設計人員工作描述...\n",
      "正在爬取Creasys_凱易資訊股份有限公司的助理軟體設計師工作描述...\n",
      "正在爬取國泰金控_國泰金融控股股份有限公司的數據應用工程師-數據科技(數數發中心, DDT)工作描述...\n",
      "正在爬取OK_忠訓國際股份有限公司的OM005 中階資深數據工程師 / 數據科學家／數據分析師(必須相關經驗兩年以上)【第一類組 數據分析師】 ※全程視訊面試 ※薪資面議工作描述...\n",
      "正在爬取意藍資訊股份有限公司的客戶分析師 (客戶關係經營、產品問題諮詢)工作描述...\n",
      "正在爬取和泰汽車股份有限公司的TOYOTA通路營運分析專員工作描述...\n",
      "正在爬取好德智權服務有限公司的專利工程師工作描述...\n",
      "正在爬取洛伊國際企業有限公司的品牌業務工作描述...\n",
      "正在爬取伊加伊有限公司的活動專員工作描述...\n",
      "正在爬取和泰汽車股份有限公司的HINO&TOYOTA 商用車車輛業務企劃專員工作描述...\n",
      "正在爬取魅特國際行銷股份有限公司的網紅接案社群平台經理人(team leader)工作描述...\n",
      "正在爬取英富霖諮詢有限公司的首席分析師助理工作描述...\n",
      "正在爬取樂購蝦皮股份有限公司的2020 Shopee Taiwan Summer Internship ll Data Science Intern / Business Intelligence工作描述...\n",
      "正在爬取意藍資訊股份有限公司的產品分析師 (產品企劃人員)工作描述...\n",
      "正在爬取英富霖諮詢有限公司的儲能產業分析師(碩士以上)工作描述...\n",
      "正在爬取鴻海集團_三創數位股份有限公司的【三創育成計劃Star Rocket】活動社群行銷管理師工作描述...\n",
      "正在爬取新加坡商安富利股份有限公司台灣分公司的Central Data and Business Analytics - Business Analyst I工作描述...\n",
      "正在爬取台灣本田汽車股份有限公司的經銷商管理人員(台北)工作描述...\n",
      "正在爬取致達數位科技有限公司的風控專員工作描述...\n",
      "正在爬取烏龜移動科技股份有限公司的TikTok專案助理工作描述...\n",
      "正在爬取財團法人電信技術中心的研究企劃組-助理研究員工作描述...\n",
      "正在爬取財團法人台灣經濟研究院的產經B-1(助理研究員/助理研究員)工作描述...\n",
      "正在爬取智星教育用品股份有限公司的亞馬遜平台營運助理 (Amazon Account Assistant)工作描述...\n",
      "正在爬取創勵科技有限公司的專案助理工作描述...\n",
      "正在爬取精藤股份有限公司的C#程式設計工程師工作描述...\n",
      "正在爬取菜蟲農食股份有限公司的客戶關係發展部-商務營運分析師 Business Operations Analyst, Client Relations工作描述...\n",
      "正在爬取香港商天景數碼有限公司台灣分公司的業務分析師 Business Analyst工作描述...\n",
      "正在爬取明億鑫精密股份有限公司的軟體研發工程師 (助理工程師/工程師/系統分析師/專案經理人)工作描述...\n",
      "正在爬取創睿能源股份有限公司的維運工程師(台北)工作描述...\n",
      "正在爬取日月光半導體製造股份有限公司中壢分公司的【IT】ERP系統工程師 (SAP ABAP維護、開發)工作描述...\n",
      "正在爬取國泰人壽保險股份有限公司_總公司_國泰金控的大數據資料分析師工作描述...\n",
      "正在爬取國泰人壽保險股份有限公司_總公司_國泰金控的WAS、JBoss應用伺服器系統工程師工作描述...\n",
      "正在爬取鴻璟科技股份有限公司的網路流量分析工程師工作描述...\n",
      "正在爬取鴻璟科技股份有限公司的研發替代役_網路安全分析工程師工作描述...\n",
      "正在爬取鴻璟科技股份有限公司的研發替代役_網路流量分析工程師工作描述...\n",
      "正在爬取國泰世華商業銀行股份有限公司_人力資源部的【數據生態營運】資料科學分析師 -數據應用 (數數發中心,DDT)工作描述...\n",
      "正在爬取欣興電子股份有限公司的【工業4.0】智慧製造系統設計工程師++熟悉VB.Net、C#++(楊梅儲備)工作描述...\n",
      "正在爬取欣興電子股份有限公司的【工業4.0】智慧製造程式設計工程師++熟悉VB.Net、C#++(楊梅儲備)工作描述...\n",
      "正在爬取莫克斯行動加速有限公司的資深數據工程師 (Senior. Data Engineer)工作描述...\n",
      "正在爬取郡宏光電股份有限公司的ERP資訊人員工作描述...\n",
      "正在爬取國立臺灣大學的計資中心誠徵約用人員（碩士級資安人員）工作描述...\n",
      "正在爬取薩摩亞商快雪時晴科技有限公司的內科高薪數據庫工程師工作描述...\n",
      "正在爬取薩摩亞商快雪時晴科技有限公司的內科高薪專案管理專員工作描述...\n",
      "正在爬取漢磊科技股份有限公司的CIM工程師工作描述...\n",
      "正在爬取鴻璟科技股份有限公司的研發替代役_網路流量分析工程師工作描述...\n",
      "正在爬取國立臺灣大學的計資中心誠徵約用人員（碩士級資安人員）工作描述...\n",
      "正在爬取日月光半導體製造股份有限公司中壢分公司的【IT】ERP系統工程師 (SAP ABAP維護、開發)工作描述...\n",
      "正在爬取財團法人中華民國佛教慈濟慈善事業基金會的系統分析師（工作地點：花蓮）工作描述...\n",
      "正在爬取工研院 _財團法人工業技術研究院的工研院巨資中心_人工智慧與巨量資料平台技術研發工程師(W201)工作描述...\n",
      "正在爬取財團法人中華經濟研究院的第三研究所 (台灣經濟所)徵專任博士輔佐研究員(博士後研究)1名工作描述...\n",
      "正在爬取鴻海精密工業股份有限公司的系統分析工程師工作描述...\n",
      "正在爬取漢磊科技股份有限公司的ECS資訊工程師工作描述...\n",
      "正在爬取台南電池有限公司的MIS網管人員.台南.高雄(薪$30000)(請直接親洽面試)工作描述...\n",
      "正在爬取世銳顧問有限公司的分析師 Analyst工作描述...\n",
      "正在爬取關貿網路股份有限公司的約聘資料分析師(T45駐點食藥署)工作描述...\n",
      "正在爬取資策會_財團法人資訊工業策進會的【2020年重點徵才專區】巨量資料分析師工作描述...\n",
      "正在爬取欣興電子股份有限公司的【工業4.0】智慧製造程式設計工程師++熟悉VB.Net、C#++工作描述...\n"
     ]
    }
   ],
   "source": [
    "job_desc = get_job_desc(job_links)"
   ]
  },
  {
   "cell_type": "markdown",
   "metadata": {},
   "source": [
    "## （Optional）將爬取好的資料輸出成試算表"
   ]
  },
  {
   "cell_type": "code",
   "execution_count": 12,
   "metadata": {},
   "outputs": [
    {
     "data": {
      "text/html": [
       "<div>\n",
       "<style scoped>\n",
       "    .dataframe tbody tr th:only-of-type {\n",
       "        vertical-align: middle;\n",
       "    }\n",
       "\n",
       "    .dataframe tbody tr th {\n",
       "        vertical-align: top;\n",
       "    }\n",
       "\n",
       "    .dataframe thead th {\n",
       "        text-align: right;\n",
       "    }\n",
       "</style>\n",
       "<table border=\"1\" class=\"dataframe\">\n",
       "  <thead>\n",
       "    <tr style=\"text-align: right;\">\n",
       "      <th></th>\n",
       "      <th>company</th>\n",
       "      <th>jobTitle</th>\n",
       "      <th>jobDesc</th>\n",
       "    </tr>\n",
       "  </thead>\n",
       "  <tbody>\n",
       "    <tr>\n",
       "      <th>0</th>\n",
       "      <td>17直播_英屬維京群島商麻吉一七股份有限公司臺灣分公司</td>\n",
       "      <td>(Jr./Sr.) Data Analyst 資深資料分析師</td>\n",
       "      <td>17 Media is the world leader in the live strea...</td>\n",
       "    </tr>\n",
       "    <tr>\n",
       "      <th>1</th>\n",
       "      <td>烏龜移動科技股份有限公司</td>\n",
       "      <td>資料分析師</td>\n",
       "      <td>蝙蝠移動的核心服務是提供客戶專屬的私有化 DMP（Data Management Platf...</td>\n",
       "    </tr>\n",
       "    <tr>\n",
       "      <th>2</th>\n",
       "      <td>PIXNET_優像數位媒體科技股份有限公司</td>\n",
       "      <td>資料分析師(NC-痞客邦研發中心)</td>\n",
       "      <td>作為大數據資料分析師，工作內容將會協同業務、廣告、商務、會員與內容等經營單位，從經營角度協助...</td>\n",
       "    </tr>\n",
       "    <tr>\n",
       "      <th>3</th>\n",
       "      <td>核桃運算股份有限公司</td>\n",
       "      <td>Data Analyst 資料分析師</td>\n",
       "      <td>此職務為執行數據服務專案的角色，需具備高度的數據素養，以及相應技術與知識；如果你/妳富有責任...</td>\n",
       "    </tr>\n",
       "    <tr>\n",
       "      <th>4</th>\n",
       "      <td>永慶房產集團_永慶房屋仲介股份有限公司</td>\n",
       "      <td>資料分析師.</td>\n",
       "      <td>永慶房產集團垂直整合三大事業群，10年成長25倍，歡迎具備邏輯思考、分析判斷及溝通能力的優秀...</td>\n",
       "    </tr>\n",
       "  </tbody>\n",
       "</table>\n",
       "</div>"
      ],
      "text/plain": [
       "                       company                        jobTitle  \\\n",
       "0  17直播_英屬維京群島商麻吉一七股份有限公司臺灣分公司  (Jr./Sr.) Data Analyst 資深資料分析師   \n",
       "1                 烏龜移動科技股份有限公司                           資料分析師   \n",
       "2        PIXNET_優像數位媒體科技股份有限公司               資料分析師(NC-痞客邦研發中心)   \n",
       "3                   核桃運算股份有限公司              Data Analyst 資料分析師   \n",
       "4          永慶房產集團_永慶房屋仲介股份有限公司                          資料分析師.   \n",
       "\n",
       "                                             jobDesc  \n",
       "0  17 Media is the world leader in the live strea...  \n",
       "1  蝙蝠移動的核心服務是提供客戶專屬的私有化 DMP（Data Management Platf...  \n",
       "2  作為大數據資料分析師，工作內容將會協同業務、廣告、商務、會員與內容等經營單位，從經營角度協助...  \n",
       "3  此職務為執行數據服務專案的角色，需具備高度的數據素養，以及相應技術與知識；如果你/妳富有責任...  \n",
       "4  永慶房產集團垂直整合三大事業群，10年成長25倍，歡迎具備邏輯思考、分析判斷及溝通能力的優秀...  "
      ]
     },
     "execution_count": 12,
     "metadata": {},
     "output_type": "execute_result"
    }
   ],
   "source": [
    "df = pd.DataFrame(job_desc)\n",
    "df.head()"
   ]
  },
  {
   "cell_type": "code",
   "execution_count": 13,
   "metadata": {},
   "outputs": [],
   "source": [
    "df.to_excel('da_job_desc_104.xlsx', index=False)"
   ]
  }
 ],
 "metadata": {
  "kernelspec": {
   "display_name": "Python Web Scraping",
   "language": "python",
   "name": "pywebscraping"
  },
  "language_info": {
   "codemirror_mode": {
    "name": "ipython",
    "version": 3
   },
   "file_extension": ".py",
   "mimetype": "text/x-python",
   "name": "python",
   "nbconvert_exporter": "python",
   "pygments_lexer": "ipython3",
   "version": "3.7.7"
  }
 },
 "nbformat": 4,
 "nbformat_minor": 4
}
