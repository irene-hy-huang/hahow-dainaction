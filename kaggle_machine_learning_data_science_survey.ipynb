{
 "cells": [
  {
   "cell_type": "markdown",
   "metadata": {},
   "source": [
    "# Kaggle Machine Learning and Data Science Survey\n",
    "\n",
    "郭耀仁"
   ]
  },
  {
   "cell_type": "markdown",
   "metadata": {},
   "source": [
    "## 載入筆記本需要的套件"
   ]
  },
  {
   "cell_type": "code",
   "execution_count": 1,
   "metadata": {},
   "outputs": [],
   "source": [
    "import numpy as np\n",
    "import pandas as pd\n",
    "import matplotlib.pyplot as plt"
   ]
  },
  {
   "cell_type": "markdown",
   "metadata": {},
   "source": [
    "## 定義分析所需要使用的函式"
   ]
  },
  {
   "cell_type": "code",
   "execution_count": 2,
   "metadata": {},
   "outputs": [],
   "source": [
    "def print_respondents_info(year, df, col_name):\n",
    "    ttl_respondents = df.shape[0]\n",
    "    job_title_value_counts = df[col_name].value_counts()\n",
    "    job_title_percentage = job_title_value_counts / ttl_respondents\n",
    "    print(\"{} 年的總答題人數為 {:,}\".format(year, ttl_respondents))\n",
    "    print(\"{} 年的 Data Analyst 人數為 {:,} 人；比例為 {:.2f}%\".format(year, job_title_value_counts['Data Analyst'], job_title_percentage['Data Analyst'] * 100))\n",
    "    \n",
    "def get_value_ratios(df, col_name):\n",
    "    return df[col_name].value_counts() / df[col_name].value_counts().sum()\n",
    "    \n",
    "def get_checkbox_ratios(df, col_pattern):\n",
    "    channel_names = []\n",
    "    channel_checks = []\n",
    "    for col_name in df.columns:\n",
    "        if (col_pattern in col_name) and ('OTHER_TEXT' not in col_name):\n",
    "            channel_name = df[col_name].value_counts().index\n",
    "            channel_check = df[col_name].value_counts().values\n",
    "            if channel_name.size != 0:\n",
    "                channel_names.append(channel_name[0])\n",
    "                channel_checks.append(channel_check[0])\n",
    "    channel_counts = pd.Series(channel_checks, index=channel_names)\n",
    "    channel_ratios = channel_counts / channel_counts.sum()\n",
    "    channel_ratios_sorted = channel_ratios.sort_values(ascending=False)\n",
    "    return channel_ratios_sorted"
   ]
  },
  {
   "cell_type": "markdown",
   "metadata": {},
   "source": [
    "## 檢視普查問題"
   ]
  },
  {
   "cell_type": "code",
   "execution_count": 3,
   "metadata": {},
   "outputs": [],
   "source": [
    "questions_2017 = pd.read_csv(\"https://kaggle-ml-ds-survey.s3-ap-northeast-1.amazonaws.com/kaggle-survey-2017/schema.csv\")\n",
    "questions_2018 = pd.read_csv(\"https://kaggle-ml-ds-survey.s3-ap-northeast-1.amazonaws.com/kaggle-survey-2018/SurveySchema.csv\")\n",
    "questions_2019 = pd.read_csv(\"https://kaggle-ml-ds-survey.s3-ap-northeast-1.amazonaws.com/kaggle-survey-2019/questions_only.csv\")"
   ]
  },
  {
   "cell_type": "code",
   "execution_count": 4,
   "metadata": {},
   "outputs": [
    {
     "data": {
      "text/html": [
       "<div>\n",
       "<style scoped>\n",
       "    .dataframe tbody tr th:only-of-type {\n",
       "        vertical-align: middle;\n",
       "    }\n",
       "\n",
       "    .dataframe tbody tr th {\n",
       "        vertical-align: top;\n",
       "    }\n",
       "\n",
       "    .dataframe thead th {\n",
       "        text-align: right;\n",
       "    }\n",
       "</style>\n",
       "<table border=\"1\" class=\"dataframe\">\n",
       "  <thead>\n",
       "    <tr style=\"text-align: right;\">\n",
       "      <th></th>\n",
       "      <th>Column</th>\n",
       "      <th>Question</th>\n",
       "      <th>Asked</th>\n",
       "    </tr>\n",
       "  </thead>\n",
       "  <tbody>\n",
       "    <tr>\n",
       "      <td>0</td>\n",
       "      <td>GenderSelect</td>\n",
       "      <td>Select your gender identity. - Selected Choice</td>\n",
       "      <td>All</td>\n",
       "    </tr>\n",
       "    <tr>\n",
       "      <td>1</td>\n",
       "      <td>GenderFreeForm</td>\n",
       "      <td>Select your gender identity. - A different ide...</td>\n",
       "      <td>All</td>\n",
       "    </tr>\n",
       "    <tr>\n",
       "      <td>2</td>\n",
       "      <td>Country</td>\n",
       "      <td>Select the country you currently live in.</td>\n",
       "      <td>All</td>\n",
       "    </tr>\n",
       "    <tr>\n",
       "      <td>3</td>\n",
       "      <td>Age</td>\n",
       "      <td>What's your age?</td>\n",
       "      <td>All</td>\n",
       "    </tr>\n",
       "    <tr>\n",
       "      <td>4</td>\n",
       "      <td>EmploymentStatus</td>\n",
       "      <td>What's your current employment status?</td>\n",
       "      <td>All</td>\n",
       "    </tr>\n",
       "  </tbody>\n",
       "</table>\n",
       "</div>"
      ],
      "text/plain": [
       "             Column                                           Question Asked\n",
       "0      GenderSelect     Select your gender identity. - Selected Choice   All\n",
       "1    GenderFreeForm  Select your gender identity. - A different ide...   All\n",
       "2           Country          Select the country you currently live in.   All\n",
       "3               Age                                   What's your age?   All\n",
       "4  EmploymentStatus             What's your current employment status?   All"
      ]
     },
     "execution_count": 4,
     "metadata": {},
     "output_type": "execute_result"
    }
   ],
   "source": [
    "questions_2017.head()"
   ]
  },
  {
   "cell_type": "code",
   "execution_count": 5,
   "metadata": {},
   "outputs": [
    {
     "data": {
      "text/html": [
       "<div>\n",
       "<style scoped>\n",
       "    .dataframe tbody tr th:only-of-type {\n",
       "        vertical-align: middle;\n",
       "    }\n",
       "\n",
       "    .dataframe tbody tr th {\n",
       "        vertical-align: top;\n",
       "    }\n",
       "\n",
       "    .dataframe thead th {\n",
       "        text-align: right;\n",
       "    }\n",
       "</style>\n",
       "<table border=\"1\" class=\"dataframe\">\n",
       "  <thead>\n",
       "    <tr style=\"text-align: right;\">\n",
       "      <th></th>\n",
       "      <th>2018 Kaggle Machine Learning and Data Science Survey</th>\n",
       "      <th>Q1</th>\n",
       "      <th>Q10</th>\n",
       "      <th>Q11</th>\n",
       "      <th>Q12</th>\n",
       "      <th>Q13</th>\n",
       "      <th>Q14</th>\n",
       "      <th>Q15</th>\n",
       "      <th>Q16</th>\n",
       "      <th>Q17</th>\n",
       "      <th>...</th>\n",
       "      <th>Q47</th>\n",
       "      <th>Q48</th>\n",
       "      <th>Q49</th>\n",
       "      <th>Q5</th>\n",
       "      <th>Q50</th>\n",
       "      <th>Q6</th>\n",
       "      <th>Q7</th>\n",
       "      <th>Q8</th>\n",
       "      <th>Q9</th>\n",
       "      <th>Time from Start to Finish (seconds)</th>\n",
       "    </tr>\n",
       "  </thead>\n",
       "  <tbody>\n",
       "    <tr>\n",
       "      <td>0</td>\n",
       "      <td>Question:</td>\n",
       "      <td>What is your gender? - Selected Choice</td>\n",
       "      <td>Does your current employer incorporate machine...</td>\n",
       "      <td>Select any activities that make up an importan...</td>\n",
       "      <td>What is the primary tool that you use at work ...</td>\n",
       "      <td>Which of the following integrated development ...</td>\n",
       "      <td>Which of the following hosted notebooks have y...</td>\n",
       "      <td>Which of the following cloud computing service...</td>\n",
       "      <td>What programming languages do you use on a reg...</td>\n",
       "      <td>What specific programming language do you use ...</td>\n",
       "      <td>...</td>\n",
       "      <td>What methods do you prefer for explaining and/...</td>\n",
       "      <td>Do you consider ML models to be \"black boxes\" ...</td>\n",
       "      <td>What tools and methods do you use to make your...</td>\n",
       "      <td>Which best describes your undergraduate major?...</td>\n",
       "      <td>What barriers prevent you from making your wor...</td>\n",
       "      <td>Select the title most similar to your current ...</td>\n",
       "      <td>In what industry is your current employer/cont...</td>\n",
       "      <td>How many years of experience do you have in yo...</td>\n",
       "      <td>What is your current yearly compensation (appr...</td>\n",
       "      <td>Duration (in seconds)</td>\n",
       "    </tr>\n",
       "    <tr>\n",
       "      <td>1</td>\n",
       "      <td># of Respondents:</td>\n",
       "      <td>23860</td>\n",
       "      <td>20670</td>\n",
       "      <td>19518</td>\n",
       "      <td>19199</td>\n",
       "      <td>19117</td>\n",
       "      <td>18971</td>\n",
       "      <td>18864</td>\n",
       "      <td>18828</td>\n",
       "      <td>15223</td>\n",
       "      <td>...</td>\n",
       "      <td>13418</td>\n",
       "      <td>13369</td>\n",
       "      <td>12891</td>\n",
       "      <td>22948</td>\n",
       "      <td>12814</td>\n",
       "      <td>22901</td>\n",
       "      <td>21686</td>\n",
       "      <td>21102</td>\n",
       "      <td>20186</td>\n",
       "      <td>23860</td>\n",
       "    </tr>\n",
       "    <tr>\n",
       "      <td>2</td>\n",
       "      <td>Who was excluded? (0 = not excluded; 1 = exclu...</td>\n",
       "      <td>0</td>\n",
       "      <td>0</td>\n",
       "      <td>0</td>\n",
       "      <td>0</td>\n",
       "      <td>0</td>\n",
       "      <td>0</td>\n",
       "      <td>0</td>\n",
       "      <td>0</td>\n",
       "      <td>0</td>\n",
       "      <td>...</td>\n",
       "      <td>0</td>\n",
       "      <td>0</td>\n",
       "      <td>0</td>\n",
       "      <td>0</td>\n",
       "      <td>0</td>\n",
       "      <td>0</td>\n",
       "      <td>0</td>\n",
       "      <td>0</td>\n",
       "      <td>0</td>\n",
       "      <td>0</td>\n",
       "    </tr>\n",
       "    <tr>\n",
       "      <td>3</td>\n",
       "      <td>If What is your age (# years)? 0-17 Is Selecte...</td>\n",
       "      <td>0</td>\n",
       "      <td>1</td>\n",
       "      <td>1</td>\n",
       "      <td>1</td>\n",
       "      <td>1</td>\n",
       "      <td>1</td>\n",
       "      <td>1</td>\n",
       "      <td>1</td>\n",
       "      <td>1</td>\n",
       "      <td>...</td>\n",
       "      <td>1</td>\n",
       "      <td>1</td>\n",
       "      <td>1</td>\n",
       "      <td>1</td>\n",
       "      <td>1</td>\n",
       "      <td>1</td>\n",
       "      <td>1</td>\n",
       "      <td>1</td>\n",
       "      <td>1</td>\n",
       "      <td>0</td>\n",
       "    </tr>\n",
       "    <tr>\n",
       "      <td>4</td>\n",
       "      <td>If What is the highest level of formal educati...</td>\n",
       "      <td>0</td>\n",
       "      <td>0</td>\n",
       "      <td>0</td>\n",
       "      <td>0</td>\n",
       "      <td>0</td>\n",
       "      <td>0</td>\n",
       "      <td>0</td>\n",
       "      <td>0</td>\n",
       "      <td>0</td>\n",
       "      <td>...</td>\n",
       "      <td>0</td>\n",
       "      <td>0</td>\n",
       "      <td>0</td>\n",
       "      <td>1</td>\n",
       "      <td>0</td>\n",
       "      <td>0</td>\n",
       "      <td>0</td>\n",
       "      <td>0</td>\n",
       "      <td>0</td>\n",
       "      <td>0</td>\n",
       "    </tr>\n",
       "  </tbody>\n",
       "</table>\n",
       "<p>5 rows × 52 columns</p>\n",
       "</div>"
      ],
      "text/plain": [
       "  2018 Kaggle Machine Learning and Data Science Survey  \\\n",
       "0                                          Question:     \n",
       "1                                  # of Respondents:     \n",
       "2  Who was excluded? (0 = not excluded; 1 = exclu...     \n",
       "3  If What is your age (# years)? 0-17 Is Selecte...     \n",
       "4  If What is the highest level of formal educati...     \n",
       "\n",
       "                                       Q1  \\\n",
       "0  What is your gender? - Selected Choice   \n",
       "1                                   23860   \n",
       "2                                       0   \n",
       "3                                       0   \n",
       "4                                       0   \n",
       "\n",
       "                                                 Q10  \\\n",
       "0  Does your current employer incorporate machine...   \n",
       "1                                              20670   \n",
       "2                                                  0   \n",
       "3                                                  1   \n",
       "4                                                  0   \n",
       "\n",
       "                                                 Q11  \\\n",
       "0  Select any activities that make up an importan...   \n",
       "1                                              19518   \n",
       "2                                                  0   \n",
       "3                                                  1   \n",
       "4                                                  0   \n",
       "\n",
       "                                                 Q12  \\\n",
       "0  What is the primary tool that you use at work ...   \n",
       "1                                              19199   \n",
       "2                                                  0   \n",
       "3                                                  1   \n",
       "4                                                  0   \n",
       "\n",
       "                                                 Q13  \\\n",
       "0  Which of the following integrated development ...   \n",
       "1                                              19117   \n",
       "2                                                  0   \n",
       "3                                                  1   \n",
       "4                                                  0   \n",
       "\n",
       "                                                 Q14  \\\n",
       "0  Which of the following hosted notebooks have y...   \n",
       "1                                              18971   \n",
       "2                                                  0   \n",
       "3                                                  1   \n",
       "4                                                  0   \n",
       "\n",
       "                                                 Q15  \\\n",
       "0  Which of the following cloud computing service...   \n",
       "1                                              18864   \n",
       "2                                                  0   \n",
       "3                                                  1   \n",
       "4                                                  0   \n",
       "\n",
       "                                                 Q16  \\\n",
       "0  What programming languages do you use on a reg...   \n",
       "1                                              18828   \n",
       "2                                                  0   \n",
       "3                                                  1   \n",
       "4                                                  0   \n",
       "\n",
       "                                                 Q17  ...  \\\n",
       "0  What specific programming language do you use ...  ...   \n",
       "1                                              15223  ...   \n",
       "2                                                  0  ...   \n",
       "3                                                  1  ...   \n",
       "4                                                  0  ...   \n",
       "\n",
       "                                                 Q47  \\\n",
       "0  What methods do you prefer for explaining and/...   \n",
       "1                                              13418   \n",
       "2                                                  0   \n",
       "3                                                  1   \n",
       "4                                                  0   \n",
       "\n",
       "                                                 Q48  \\\n",
       "0  Do you consider ML models to be \"black boxes\" ...   \n",
       "1                                              13369   \n",
       "2                                                  0   \n",
       "3                                                  1   \n",
       "4                                                  0   \n",
       "\n",
       "                                                 Q49  \\\n",
       "0  What tools and methods do you use to make your...   \n",
       "1                                              12891   \n",
       "2                                                  0   \n",
       "3                                                  1   \n",
       "4                                                  0   \n",
       "\n",
       "                                                  Q5  \\\n",
       "0  Which best describes your undergraduate major?...   \n",
       "1                                              22948   \n",
       "2                                                  0   \n",
       "3                                                  1   \n",
       "4                                                  1   \n",
       "\n",
       "                                                 Q50  \\\n",
       "0  What barriers prevent you from making your wor...   \n",
       "1                                              12814   \n",
       "2                                                  0   \n",
       "3                                                  1   \n",
       "4                                                  0   \n",
       "\n",
       "                                                  Q6  \\\n",
       "0  Select the title most similar to your current ...   \n",
       "1                                              22901   \n",
       "2                                                  0   \n",
       "3                                                  1   \n",
       "4                                                  0   \n",
       "\n",
       "                                                  Q7  \\\n",
       "0  In what industry is your current employer/cont...   \n",
       "1                                              21686   \n",
       "2                                                  0   \n",
       "3                                                  1   \n",
       "4                                                  0   \n",
       "\n",
       "                                                  Q8  \\\n",
       "0  How many years of experience do you have in yo...   \n",
       "1                                              21102   \n",
       "2                                                  0   \n",
       "3                                                  1   \n",
       "4                                                  0   \n",
       "\n",
       "                                                  Q9  \\\n",
       "0  What is your current yearly compensation (appr...   \n",
       "1                                              20186   \n",
       "2                                                  0   \n",
       "3                                                  1   \n",
       "4                                                  0   \n",
       "\n",
       "  Time from Start to Finish (seconds)  \n",
       "0               Duration (in seconds)  \n",
       "1                               23860  \n",
       "2                                   0  \n",
       "3                                   0  \n",
       "4                                   0  \n",
       "\n",
       "[5 rows x 52 columns]"
      ]
     },
     "execution_count": 5,
     "metadata": {},
     "output_type": "execute_result"
    }
   ],
   "source": [
    "questions_2018.head()"
   ]
  },
  {
   "cell_type": "code",
   "execution_count": 6,
   "metadata": {},
   "outputs": [
    {
     "data": {
      "text/html": [
       "<div>\n",
       "<style scoped>\n",
       "    .dataframe tbody tr th:only-of-type {\n",
       "        vertical-align: middle;\n",
       "    }\n",
       "\n",
       "    .dataframe tbody tr th {\n",
       "        vertical-align: top;\n",
       "    }\n",
       "\n",
       "    .dataframe thead th {\n",
       "        text-align: right;\n",
       "    }\n",
       "</style>\n",
       "<table border=\"1\" class=\"dataframe\">\n",
       "  <thead>\n",
       "    <tr style=\"text-align: right;\">\n",
       "      <th></th>\n",
       "      <th>Time from Start to Finish (seconds)</th>\n",
       "      <th>Q1</th>\n",
       "      <th>Q2</th>\n",
       "      <th>Q3</th>\n",
       "      <th>Q4</th>\n",
       "      <th>Q5</th>\n",
       "      <th>Q6</th>\n",
       "      <th>Q7</th>\n",
       "      <th>Q8</th>\n",
       "      <th>Q9</th>\n",
       "      <th>...</th>\n",
       "      <th>Q25</th>\n",
       "      <th>Q26</th>\n",
       "      <th>Q27</th>\n",
       "      <th>Q28</th>\n",
       "      <th>Q29</th>\n",
       "      <th>Q30</th>\n",
       "      <th>Q31</th>\n",
       "      <th>Q32</th>\n",
       "      <th>Q33</th>\n",
       "      <th>Q34</th>\n",
       "    </tr>\n",
       "  </thead>\n",
       "  <tbody>\n",
       "    <tr>\n",
       "      <td>0</td>\n",
       "      <td>Duration (in seconds)</td>\n",
       "      <td>What is your age (# years)?</td>\n",
       "      <td>What is your gender? - Selected Choice</td>\n",
       "      <td>In which country do you currently reside?</td>\n",
       "      <td>What is the highest level of formal education ...</td>\n",
       "      <td>Select the title most similar to your current ...</td>\n",
       "      <td>What is the size of the company where you are ...</td>\n",
       "      <td>Approximately how many individuals are respons...</td>\n",
       "      <td>Does your current employer incorporate machine...</td>\n",
       "      <td>Select any activities that make up an importan...</td>\n",
       "      <td>...</td>\n",
       "      <td>Which categories of ML tools do you use on a r...</td>\n",
       "      <td>Which categories of computer vision methods do...</td>\n",
       "      <td>Which of the following natural language proces...</td>\n",
       "      <td>Which of the following machine learning framew...</td>\n",
       "      <td>Which of the following cloud computing platfor...</td>\n",
       "      <td>Which specific cloud computing products do you...</td>\n",
       "      <td>Which specific big data / analytics products d...</td>\n",
       "      <td>Which of the following machine learning produc...</td>\n",
       "      <td>Which automated machine learning tools (or par...</td>\n",
       "      <td>Which of the following relational database pro...</td>\n",
       "    </tr>\n",
       "  </tbody>\n",
       "</table>\n",
       "<p>1 rows × 35 columns</p>\n",
       "</div>"
      ],
      "text/plain": [
       "  Time from Start to Finish (seconds)                           Q1  \\\n",
       "0               Duration (in seconds)  What is your age (# years)?   \n",
       "\n",
       "                                       Q2  \\\n",
       "0  What is your gender? - Selected Choice   \n",
       "\n",
       "                                          Q3  \\\n",
       "0  In which country do you currently reside?   \n",
       "\n",
       "                                                  Q4  \\\n",
       "0  What is the highest level of formal education ...   \n",
       "\n",
       "                                                  Q5  \\\n",
       "0  Select the title most similar to your current ...   \n",
       "\n",
       "                                                  Q6  \\\n",
       "0  What is the size of the company where you are ...   \n",
       "\n",
       "                                                  Q7  \\\n",
       "0  Approximately how many individuals are respons...   \n",
       "\n",
       "                                                  Q8  \\\n",
       "0  Does your current employer incorporate machine...   \n",
       "\n",
       "                                                  Q9  ...  \\\n",
       "0  Select any activities that make up an importan...  ...   \n",
       "\n",
       "                                                 Q25  \\\n",
       "0  Which categories of ML tools do you use on a r...   \n",
       "\n",
       "                                                 Q26  \\\n",
       "0  Which categories of computer vision methods do...   \n",
       "\n",
       "                                                 Q27  \\\n",
       "0  Which of the following natural language proces...   \n",
       "\n",
       "                                                 Q28  \\\n",
       "0  Which of the following machine learning framew...   \n",
       "\n",
       "                                                 Q29  \\\n",
       "0  Which of the following cloud computing platfor...   \n",
       "\n",
       "                                                 Q30  \\\n",
       "0  Which specific cloud computing products do you...   \n",
       "\n",
       "                                                 Q31  \\\n",
       "0  Which specific big data / analytics products d...   \n",
       "\n",
       "                                                 Q32  \\\n",
       "0  Which of the following machine learning produc...   \n",
       "\n",
       "                                                 Q33  \\\n",
       "0  Which automated machine learning tools (or par...   \n",
       "\n",
       "                                                 Q34  \n",
       "0  Which of the following relational database pro...  \n",
       "\n",
       "[1 rows x 35 columns]"
      ]
     },
     "execution_count": 6,
     "metadata": {},
     "output_type": "execute_result"
    }
   ],
   "source": [
    "questions_2019.head()"
   ]
  },
  {
   "cell_type": "code",
   "execution_count": 7,
   "metadata": {},
   "outputs": [
    {
     "name": "stdout",
     "output_type": "stream",
     "text": [
      "GenderSelect: Select your gender identity. - Selected Choice\n",
      "GenderFreeForm: Select your gender identity. - A different identity - Text\n",
      "Country: Select the country you currently live in.\n",
      "Age: What's your age?\n",
      "EmploymentStatus: What's your current employment status?\n",
      "StudentStatus: Are you currently enrolled as a student at a degree granting school?\n",
      "LearningDataScience: Are you currently focused on learning data science skills either formally or informally?\n",
      "KaggleMotivationFreeForm: What's your motivation for being a Kaggle user?\n",
      "CodeWriter: Do you write code to analyze data in your current job, freelance contracts, or most recent job if retired?\n",
      "CareerSwitcher: Are you actively looking to switch careers to data science?\n",
      "CurrentJobTitleSelect: Select the option that's most similar to your current job/professional title (or most recent title if retired). - Selected Choice\n",
      "CurrentJobTitleFreeForm: Select the option that's most similar to your current job/professional title (or most recent title if retired). - Other - Text\n",
      "TitleFit: How adequately do you feel your title describes what you do (or what you did if retired)?\n",
      "CurrentEmployerType: Which of the following describe your current employer (or most recent employer if retired)? (Select all that apply)\n",
      "MLToolNextYearSelect: Which tool or technology are you most excited about learning in the next year? (Select one option) - Selected Choice\n",
      "MLToolNextYearFreeForm: Which tool or technology are you most excited about learning in the next year? (Select one option) - Other - Text\n",
      "MLMethodNextYearSelect: Which ML/DS method are you most excited about learning in the next year? (Select one option) - Selected Choice\n",
      "MLMethodNextYearFreeForm: Which ML/DS method are you most excited about learning in the next year? (Select one option) - Other - Text\n",
      "LanguageRecommendationSelect: What programming language would you recommend a new data scientist learn first? (Select one option) - Selected Choice\n",
      "LanguageRecommendationFreeForm: What programming language would you recommend a new data scientist learn first? (Select one option) - Other - Text\n",
      "PublicDatasetsSelect: Where do you find public datasets to practice data science skills? (Select all that apply) - Selected Choice\n",
      "PublicDatasetsFreeForm: Where do you find public datasets to practice data science skills? (Select all that apply) - Other - Text\n",
      "PersonalProjectsChallengeFreeForm: What is your biggest challenge with the public datasets you find for personal projects?\n",
      "LearningPlatformSelect: What platforms & resources have you used to continue learning data science skills? (Select all that apply) - Selected Choice\n",
      "LearningPlatformCommunityFreeForm: What platforms & resources have you used to continue learning data science skills? (Select all that apply) - Non-Kaggle online communities - Text\n",
      "LearningPlatformFreeForm1: What platforms & resources have you used to continue learning data science skills? (Select all that apply) - Other - Text1\n",
      "LearningPlatformFreeForm2: What platforms & resources have you used to continue learning data science skills? (Select all that apply) - Other - Text2\n",
      "LearningPlatformFreeForm3: What platforms & resources have you used to continue learning data science skills? (Select all that apply) - Other - Text3\n",
      "LearningPlatformUsefulnessArxiv: How useful did you find these platforms & resources for learning data science skills? - Arxiv\n",
      "LearningPlatformUsefulnessBlogs: How useful did you find these platforms & resources for learning data science skills? - Blogs\n",
      "LearningPlatformUsefulnessCollege: How useful did you find these platforms & resources for learning data science skills? - College/University\n",
      "LearningPlatformUsefulnessCompany: How useful did you find these platforms & resources for learning data science skills? - Company internal community\n",
      "LearningPlatformUsefulnessConferences: How useful did you find these platforms & resources for learning data science skills? - Conferences\n",
      "LearningPlatformUsefulnessFriends: How useful did you find these platforms & resources for learning data science skills? - Friends network\n",
      "LearningPlatformUsefulnessKaggle: How useful did you find these platforms & resources for learning data science skills? - Kaggle\n",
      "LearningPlatformUsefulnessNewsletters: How useful did you find these platforms & resources for learning data science skills? - Newsletters\n",
      "LearningPlatformUsefulnessCommunities: How useful did you find these platforms & resources for learning data science skills? - Non-Kaggle online communities\n",
      "LearningPlatformUsefulnessCommunitiesFreeForm: How useful did you find these platforms & resources for learning data science skills? - Non-Kaggle online communities - Text\n",
      "LearningPlatformUsefulnessDocumentation: How useful did you find these platforms & resources for learning data science skills? - Official documentation\n",
      "LearningPlatformUsefulnessCourses: How useful did you find these platforms & resources for learning data science skills? - Online courses\n",
      "LearningPlatformUsefulnessProjects: How useful did you find these platforms & resources for learning data science skills? - Personal Projects\n",
      "LearningPlatformUsefulnessPodcasts: How useful did you find these platforms & resources for learning data science skills? - Podcasts\n",
      "LearningPlatformUsefulnessSO: How useful did you find these platforms & resources for learning data science skills? - Stack Overflow Q&A\n",
      "LearningPlatformUsefulnessTextbook: How useful did you find these platforms & resources for learning data science skills? - Textbook\n",
      "LearningPlatformUsefulnessTradeBook: How useful did you find these platforms & resources for learning data science skills? - Trade book\n",
      "LearningPlatformUsefulnessTutoring: How useful did you find these platforms & resources for learning data science skills? - Tutoring/mentoring\n",
      "LearningPlatformUsefulnessYouTube: How useful did you find these platforms & resources for learning data science skills? - YouTube Videos\n",
      "LearningPlatformUsefulnessFreeForm1Select: How useful did you find these platforms & resources for learning data science skills? - Other1\n",
      "LearningPlatformUsefulnessFreeForm1SelectFreeForm: How useful did you find these platforms & resources for learning data science skills? - Other - Text1\n",
      "LearningPlatformUsefulnessFreeForm2Select: How useful did you find these platforms & resources for learning data science skills? - Other2\n",
      "LearningPlatformUsefulnessFreeForm2SelectFreeForm: How useful did you find these platforms & resources for learning data science skills? - Other - Text2\n",
      "LearningPlatformUsefulnessFreeForm3Select: How useful did you find these platforms & resources for learning data science skills? - Other3\n",
      "LearningPlatformUsefulnessFreeForm3SelectFreeForm: How useful did you find these platforms & resources for learning data science skills? - Other - Text3\n",
      "BlogsPodcastsNewslettersSelect: What are your top 3 favorite data science blogs/podcasts/newsletters? (Select up to three options) - Selected Choice\n",
      "BlogsPodcastsNewslettersFreeForm: What are your top 3 favorite data science blogs/podcasts/newsletters? (Select up to three options) - Other (Separate different answers with semicolon) - Text\n",
      "LearningDataScienceTime: How long have you been learning data science?\n",
      "JobSkillImportanceBigData: How important do you think the below skills or certifications are in getting a data science job? - 'Big Data' technology\n",
      "JobSkillImportanceDegree: How important do you think the below skills or certifications are in getting a data science job? - Academic degree in related field\n",
      "JobSkillImportanceStats: How important do you think the below skills or certifications are in getting a data science job? - Advanced Statistics\n",
      "JobSkillImportanceEnterpriseTools: How important do you think the below skills or certifications are in getting a data science job? - Enterprise Tools (e.g. SAS)\n",
      "JobSkillImportancePython: How important do you think the below skills or certifications are in getting a data science job? - Fluent in Python\n",
      "JobSkillImportanceR: How important do you think the below skills or certifications are in getting a data science job? - Fluent in R\n",
      "JobSkillImportanceSQL: How important do you think the below skills or certifications are in getting a data science job? - Fluent in SQL\n",
      "JobSkillImportanceKaggleRanking: How important do you think the below skills or certifications are in getting a data science job? - Kaggle ranking\n",
      "JobSkillImportanceMOOC: How important do you think the below skills or certifications are in getting a data science job? - Online certification or MOOC\n",
      "JobSkillImportanceVisualizations: How important do you think the below skills or certifications are in getting a data science job? - Visualization Tools\n",
      "JobSkillImportanceOtherSelect1: How important do you think the below skills or certifications are in getting a data science job? - Other1\n",
      "JobSkillImportanceOtherSelect1FreeForm: How important do you think the below skills or certifications are in getting a data science job? - Other - Text1\n",
      "JobSkillImportanceOtherSelect2: How important do you think the below skills or certifications are in getting a data science job? - Other2\n",
      "JobSkillImportanceOtherSelect2FreeForm: How important do you think the below skills or certifications are in getting a data science job? - Other - Text2\n",
      "JobSkillImportanceOtherSelect3: How important do you think the below skills or certifications are in getting a data science job? - Other3\n",
      "JobSkillImportanceOtherSelect3FreeForm: How important do you think the below skills or certifications are in getting a data science job? - Other - Text3\n",
      "CoursePlatformSelect: On which online platforms have you begun or completed data science courses? - Selected Choice\n",
      "CoursePlatformFreeForm: On which online platforms have you begun or completed data science courses? - Other - Text\n",
      "HardwarePersonalProjectsSelect: Which computing hardware do you use for your personal ML/DS projects? - Selected Choice\n",
      "HardwarePersonalProjectsFreeForm: Which computing hardware do you use for your personal ML/DS projects? - Other - Text\n",
      "TimeSpentStudying: On average, how many hours a week do you spend studying data science?\n",
      "ProveKnowledgeSelect: What's the most important way you can prove your knowledge of ML/DS? (Select one option) - Selected Choice\n",
      "ProveKnowledgeFreeForm: What's the most important way you can prove your knowledge of ML/DS? (Select one option) - Other - Text\n",
      "ImpactfulAlgorithmFreeForm: What's the most impactful machine learning algorithm you've ever deployed?\n",
      "InterestingProblemFreeForm: If given the necessary resources and time, what problem would you personally choose to tackle with machine learning?\n",
      "DataScienceIdentitySelect: Do you currently consider yourself a data scientist? - Selected Choice\n",
      "DataScienceIdentityFreeForm: Do you currently consider yourself a data scientist? - Sort of (Explain more) - Text\n",
      "FormalEducation: Which level of formal education have you attained?\n",
      "MajorSelect: Which best describes your undergraduate major? - Selected Choice\n",
      "MajorFreeForm: Which best describes your undergraduate major? - Other - Text\n",
      "Tenure: How long have you been writing code to analyze data?\n",
      "PastJobTitlesSelect: Select all other job titles you've held in the past 10 years? (Select all that apply) - Selected Choice\n",
      "PastJobTitlesFreeForm: Select all other job titles you've held in the past 10 years? (Select all that apply) - Other - Text\n",
      "FirstTrainingSelect: How did you first start your machine learning / data science training? (Select one option) - Selected Choice\n",
      "FirstTrainingFreeForm: How did you first start your machine learning / data science training? (Select one option) - Other - Text\n",
      "LearningCategorySelftTaught: What percentage of your current machine learning / data science training falls under each category? (Total must equal 100%) - Self-taught\n",
      "LearningCategoryOnlineCourses: What percentage of your current machine learning / data science training falls under each category? (Total must equal 100%) - Online courses (coursera, udemy, edx, ..etc.)\n",
      "LearningCategoryWork: What percentage of your current machine learning / data science training falls under each category? (Total must equal 100%) - Work\n",
      "LearningCategoryUniversity: What percentage of your current machine learning / data science training falls under each category? (Total must equal 100%) - University\n",
      "LearningCategoryKaggle: What percentage of your current machine learning / data science training falls under each category? (Total must equal 100%) - Kaggle competitions\n",
      "LearningCategoryOther: What percentage of your current machine learning / data science training falls under each category? (Total must equal 100%) - Other\n",
      "LearningCategoryOtherFreeForm: What percentage of your current machine learning / data science training falls under each category? (Total must equal 100%) - Other - Text\n",
      "MLSkillsSelect: In which areas of machine learning do you consider yourself competent? (Select all that apply) - Selected Choice\n",
      "MLSkillsFreeForm: In which areas of machine learning do you consider yourself competent? (Select all that apply) - Other (please specify; separate by semi-colon) - Text\n",
      "MLTechniquesSelect: In which machine learning techniques do you consider yourself competent? (Select all that apply) - Selected Choice\n",
      "MLTechniquesFreeform: In which machine learning techniques do you consider yourself competent? (Select all that apply) - Other (please specify; separate by semi-colon) - Text\n",
      "ParentsEducation: What's the highest level of education completed by either of your parents?\n",
      "EmployerIndustry: Which industry is your current employer/contract in (or most recent employer if retired)? - Selected Choice\n",
      "EmployerIndustryOtherFreeForm: Which industry is your current employer/contract in (or most recent employer if retired)? - Other - Text\n",
      "EmployerSize: How many employees work at your current or most recent company?\n",
      "EmployerSizeChange: How has the size of your organization's ML/DS staff changed over the past year?\n",
      "EmployerMLTime: How many years has your organization been utilizing advanced analytics/data science?\n",
      "EmployerSearchMethod: How did you find your current job? - Selected Choice\n",
      "EmployerSearchMethodOtherFreeForm: How did you find your current job? - Some other way - Text\n",
      "UniversityImportance: How important was your formal education or degree to your career success analyzing data?\n",
      "JobFunctionSelect: What is the primary function of your role? (Select one option) - Selected Choice\n",
      "JobFunctionFreeForm: What is the primary function of your role? (Select one option) - Other - Text\n",
      "WorkHardwareSelect: At work, which computing hardware do you use for ML/DS projects? - Selected Choice\n",
      "WorkHardwareFreeForm: At work, which computing hardware do you use for ML/DS projects? - Other - Text\n",
      "WorkDataTypeSelect: At work, which kind of data do you typically work with? - Selected Choice\n",
      "WorkDataTypeFreeForm: At work, which kind of data do you typically work with? - Other - Text\n",
      "WorkProductionFrequency: At work, how often do the models you build get put into production?\n",
      "WorkLibrariesFreeForm: At work, which libraries do you typically use? (Please separate different answers with semicolons)\n",
      "WorkDatasetSize: Of the models you've trained at work, what is the typical size of datasets used?\n",
      "WorkAlgorithmsSelect: At work, which algorithms/analytic methods do you typically use? (Select all that apply) - Selected Choice\n",
      "WorkAlgorithmsFreeForm: At work, which algorithms/analytic methods do you typically use? (Select all that apply) - Other - Text\n",
      "WorkToolsSelect: For work, which data science/analytics tools, technologies, and languages have you used in the past year? (Select all that apply) - Selected Choice\n",
      "WorkToolsFreeForm1: For work, which data science/analytics tools, technologies, and languages have you used in the past year? (Select all that apply) - Other - Text1\n",
      "WorkToolsFreeForm2: For work, which data science/analytics tools, technologies, and languages have you used in the past year? (Select all that apply) - Other - Text2\n",
      "WorkToolsFreeForm3: For work, which data science/analytics tools, technologies, and languages have you used in the past year? (Select all that apply) - Other - Text3\n",
      "WorkToolsFrequencyAmazonML: At work, how often did you use the following data science/analytics tools, technologies, and languages this past year? - Amazon Machine Learning\n",
      "WorkToolsFrequencyAWS: At work, how often did you use the following data science/analytics tools, technologies, and languages this past year? - Amazon Web services\n",
      "WorkToolsFrequencyAngoss: At work, how often did you use the following data science/analytics tools, technologies, and languages this past year? - Angoss\n",
      "WorkToolsFrequencyC: At work, how often did you use the following data science/analytics tools, technologies, and languages this past year? - C/C++\n",
      "WorkToolsFrequencyCloudera: At work, how often did you use the following data science/analytics tools, technologies, and languages this past year? - Cloudera\n",
      "WorkToolsFrequencyDataRobot: At work, how often did you use the following data science/analytics tools, technologies, and languages this past year? - DataRobot\n",
      "WorkToolsFrequencyFlume: At work, how often did you use the following data science/analytics tools, technologies, and languages this past year? - Flume\n",
      "WorkToolsFrequencyGCP: At work, how often did you use the following data science/analytics tools, technologies, and languages this past year? - Google Cloud Compute\n",
      "WorkToolsFrequencyHadoop: At work, how often did you use the following data science/analytics tools, technologies, and languages this past year? - Hadoop/Hive/Pig\n",
      "WorkToolsFrequencyIBMCognos: At work, how often did you use the following data science/analytics tools, technologies, and languages this past year? - IBM Cognos\n",
      "WorkToolsFrequencyIBMSPSSModeler: At work, how often did you use the following data science/analytics tools, technologies, and languages this past year? - IBM SPSS Modeler\n",
      "WorkToolsFrequencyIBMSPSSStatistics: At work, how often did you use the following data science/analytics tools, technologies, and languages this past year? - IBM SPSS Statistics\n",
      "WorkToolsFrequencyIBMWatson: At work, how often did you use the following data science/analytics tools, technologies, and languages this past year? - IBM Watson / Waton Analytics\n",
      "WorkToolsFrequencyImpala: At work, how often did you use the following data science/analytics tools, technologies, and languages this past year? - Impala\n",
      "WorkToolsFrequencyJava: At work, how often did you use the following data science/analytics tools, technologies, and languages this past year? - Java\n",
      "WorkToolsFrequencyJulia: At work, how often did you use the following data science/analytics tools, technologies, and languages this past year? - Julia\n",
      "WorkToolsFrequencyJupyter: At work, how often did you use the following data science/analytics tools, technologies, and languages this past year? - Jupyter notebooks\n",
      "WorkToolsFrequencyKNIMECommercial: At work, how often did you use the following data science/analytics tools, technologies, and languages this past year? - KNIME (commercial version)\n",
      "WorkToolsFrequencyKNIMEFree: At work, how often did you use the following data science/analytics tools, technologies, and languages this past year? - KNIME (free version)\n",
      "WorkToolsFrequencyMathematica: At work, how often did you use the following data science/analytics tools, technologies, and languages this past year? - Mathematica\n",
      "WorkToolsFrequencyMATLAB: At work, how often did you use the following data science/analytics tools, technologies, and languages this past year? - MATLAB/Octave\n",
      "WorkToolsFrequencyAzure: At work, how often did you use the following data science/analytics tools, technologies, and languages this past year? - Microsoft Azure Machine Learning\n",
      "WorkToolsFrequencyExcel: At work, how often did you use the following data science/analytics tools, technologies, and languages this past year? - Microsoft Excel Data Mining\n",
      "WorkToolsFrequencyMicrosoftRServer: At work, how often did you use the following data science/analytics tools, technologies, and languages this past year? - Microsoft R Server (Formerly Revolution Analytics)\n",
      "WorkToolsFrequencyMicrosoftSQL: At work, how often did you use the following data science/analytics tools, technologies, and languages this past year? - Microsoft SQL Server Data Mining\n",
      "WorkToolsFrequencyMinitab: At work, how often did you use the following data science/analytics tools, technologies, and languages this past year? - Minitab\n",
      "WorkToolsFrequencyNoSQL: At work, how often did you use the following data science/analytics tools, technologies, and languages this past year? - NoSQL\n",
      "WorkToolsFrequencyOracle: At work, how often did you use the following data science/analytics tools, technologies, and languages this past year? - Oracle Data Mining/ Oracle R Enterprise\n",
      "WorkToolsFrequencyOrange: At work, how often did you use the following data science/analytics tools, technologies, and languages this past year? - Orange\n",
      "WorkToolsFrequencyPerl: At work, how often did you use the following data science/analytics tools, technologies, and languages this past year? - Perl\n",
      "WorkToolsFrequencyPython: At work, how often did you use the following data science/analytics tools, technologies, and languages this past year? - Python\n",
      "WorkToolsFrequencyQlik: At work, how often did you use the following data science/analytics tools, technologies, and languages this past year? - QlikView\n",
      "WorkToolsFrequencyR: At work, how often did you use the following data science/analytics tools, technologies, and languages this past year? - R\n",
      "WorkToolsFrequencyRapidMinerCommercial: At work, how often did you use the following data science/analytics tools, technologies, and languages this past year? - RapidMiner (commercial version)\n",
      "WorkToolsFrequencyRapidMinerFree: At work, how often did you use the following data science/analytics tools, technologies, and languages this past year? - RapidMiner (free version)\n",
      "WorkToolsFrequencySalfrod: At work, how often did you use the following data science/analytics tools, technologies, and languages this past year? - Salfrod Systems CART, MARS, TreeNet, RF, SPM\n",
      "WorkToolsFrequencySAPBusinessObjects: At work, how often did you use the following data science/analytics tools, technologies, and languages this past year? - SAP BusinessObjects Predictive Analytics\n",
      "WorkToolsFrequencySASBase: At work, how often did you use the following data science/analytics tools, technologies, and languages this past year? - SAS Base\n",
      "WorkToolsFrequencySASEnterprise: At work, how often did you use the following data science/analytics tools, technologies, and languages this past year? - SAS Enterprise Miner\n",
      "WorkToolsFrequencySASJMP: At work, how often did you use the following data science/analytics tools, technologies, and languages this past year? - SAS JMP\n",
      "WorkToolsFrequencySpark: At work, how often did you use the following data science/analytics tools, technologies, and languages this past year? - Spark / MLlib\n",
      "WorkToolsFrequencySQL: At work, how often did you use the following data science/analytics tools, technologies, and languages this past year? - SQL\n",
      "WorkToolsFrequencyStan: At work, how often did you use the following data science/analytics tools, technologies, and languages this past year? - Stan\n",
      "WorkToolsFrequencyStatistica: At work, how often did you use the following data science/analytics tools, technologies, and languages this past year? - Statistica (Quest/Dell, formerly Statsoft)\n",
      "WorkToolsFrequencyTableau: At work, how often did you use the following data science/analytics tools, technologies, and languages this past year? - Tableau\n",
      "WorkToolsFrequencyTensorFlow: At work, how often did you use the following data science/analytics tools, technologies, and languages this past year? - TensorFlow\n",
      "WorkToolsFrequencyTIBCO: At work, how often did you use the following data science/analytics tools, technologies, and languages this past year? - TIBCO Spotfire\n",
      "WorkToolsFrequencyUnix: At work, how often did you use the following data science/analytics tools, technologies, and languages this past year? - Unix shell / awk\n",
      "WorkToolsFrequencySelect1: At work, how often did you use the following data science/analytics tools, technologies, and languages this past year? - Other1\n",
      "WorkToolsFrequencySelect1FreeForm: At work, how often did you use the following data science/analytics tools, technologies, and languages this past year? - Other - Text1\n",
      "WorkToolsFrequencySelect2: At work, how often did you use the following data science/analytics tools, technologies, and languages this past year? - Other2\n",
      "WorkFrequencySelect2FreeForm: At work, how often did you use the following data science/analytics tools, technologies, and languages this past year? - Other - Text2\n",
      "WorkFrequencySelect3: At work, how often did you use the following data science/analytics tools, technologies, and languages this past year? - Other3\n",
      "WorkFrequencySelect3FreeForm: At work, how often did you use the following data science/analytics tools, technologies, and languages this past year? - Other - Text3\n",
      "WorkMethodsSelect: At work, which data science methods do you use? (Select all that apply) - Selected Choice\n",
      "WorkMethodsFreeForm1: At work, which data science methods do you use? (Select all that apply) - Other - Text1\n",
      "WorkMethodsFreeForm2: At work, which data science methods do you use? (Select all that apply) - Other - Text2\n",
      "WorkMethodsFreeForm3: At work, which data science methods do you use? (Select all that apply) - Other - Text3\n",
      "WorkMethodsFrequencyA/B: At work, how often do you use the following data science methods? - A/B Testing\n",
      "WorkMethodsFrequencyAssociationRules: At work, how often do you use the following data science methods? - Association Rules\n",
      "WorkMethodsFrequencyBayesian: At work, how often do you use the following data science methods? - Bayesian Techniques\n",
      "WorkMethodsFrequencyCNNs: At work, how often do you use the following data science methods? - CNNs\n",
      "WorkMethodsFrequencyCollaborativeFiltering: At work, how often do you use the following data science methods? - Collaborative Filtering\n",
      "WorkMethodsFrequencyCross-Validation: At work, how often do you use the following data science methods? - Cross-Validation\n",
      "WorkMethodsFrequencyDataVisualization: At work, how often do you use the following data science methods? - Data Visualization\n",
      "WorkMethodsFrequencyDecisionTrees: At work, how often do you use the following data science methods? - Decision Trees\n",
      "WorkMethodsFrequencyEnsembleMethods: At work, how often do you use the following data science methods? - Ensemble Methods\n",
      "WorkMethodsFrequencyEvolutionaryApproaches: At work, how often do you use the following data science methods? - Evolutionary Approaches\n",
      "WorkMethodsFrequencyGANs: At work, how often do you use the following data science methods? - GANs\n",
      "WorkMethodsFrequencyGBM: At work, how often do you use the following data science methods? - Gradient Boosted Machines\n",
      "WorkMethodsFrequencyHMMs: At work, how often do you use the following data science methods? - HMMs\n",
      "WorkMethodsFrequencyKNN: At work, how often do you use the following data science methods? - kNN and Other Clustering\n",
      "WorkMethodsFrequencyLiftAnalysis: At work, how often do you use the following data science methods? - Lift Analysis\n",
      "WorkMethodsFrequencyLogisticRegression: At work, how often do you use the following data science methods? - Logistic Regression\n",
      "WorkMethodsFrequencyMLN: At work, how often do you use the following data science methods? - Markov Logic Networks\n",
      "WorkMethodsFrequencyNaiveBayes: At work, how often do you use the following data science methods? - Naive Bayes\n",
      "WorkMethodsFrequencyNLP: At work, how often do you use the following data science methods? - Natural Language Processing\n",
      "WorkMethodsFrequencyNeuralNetworks: At work, how often do you use the following data science methods? - Neural Networks\n",
      "WorkMethodsFrequencyPCA: At work, how often do you use the following data science methods? - PCA and Dimensionality Reduction\n",
      "WorkMethodsFrequencyPrescriptiveModeling: At work, how often do you use the following data science methods? - Prescriptive Modeling\n",
      "WorkMethodsFrequencyRandomForests: At work, how often do you use the following data science methods? - Random Forests\n",
      "WorkMethodsFrequencyRecommenderSystems: At work, how often do you use the following data science methods? - Recommender Systems\n",
      "WorkMethodsFrequencyRNNs: At work, how often do you use the following data science methods? - RNNs\n",
      "WorkMethodsFrequencySegmentation: At work, how often do you use the following data science methods? - Segmentation\n",
      "WorkMethodsFrequencySimulation: At work, how often do you use the following data science methods? - Simulation\n",
      "WorkMethodsFrequencySVMs: At work, how often do you use the following data science methods? - SVMs\n",
      "WorkMethodsFrequencyTextAnalysis: At work, how often do you use the following data science methods? - Text Analytics\n",
      "WorkMethodsFrequencyTimeSeriesAnalysis: At work, how often do you use the following data science methods? - Time Series Analysis\n",
      "WorkMethodsFrequencySelect1: At work, how often do you use the following data science methods? - Other1\n",
      "WorkMethodsFrequencySelect1FreeForm: At work, how often do you use the following data science methods? - Other - Text1\n",
      "WorkMethodsFrequencySelect2: At work, how often do you use the following data science methods? - Other2\n",
      "WorkMethodsFrequencySelect2FreeForm: At work, how often do you use the following data science methods? - Other - Text2\n",
      "WorkMethodsFrequencySelect3: At work, how often do you use the following data science methods? - Other3\n",
      "WorkMethodsFrequencySelect3FreeForm: At work, how often do you use the following data science methods? - Other - Text3\n",
      "TimeGatheringData: At work, on average, what percentage of your time is devoted to:  (Total must equal 100%) - Gathering and cleaning data\n",
      "TimeModelBuilding: At work, on average, what percentage of your time is devoted to:  (Total must equal 100%) - Model building/model selection\n",
      "TimeProduction: At work, on average, what percentage of your time is devoted to:  (Total must equal 100%) - Putting your work into production\n",
      "TimeVisualizing: At work, on average, what percentage of your time is devoted to:  (Total must equal 100%) - Visualizing data\n",
      "TimeFindingInsights: At work, on average, what percentage of your time is devoted to:  (Total must equal 100%) - Finding insights in the data and communicating these to relevant stakeholders\n",
      "TimeOtherSelect: At work, on average, what percentage of your time is devoted to:  (Total must equal 100%) - Other\n",
      "TimeOtherSelectFreeForm: At work, on average, what percentage of your time is devoted to:  (Total must equal 100%) - Other - Text\n",
      "AlgorithmUnderstandingLevel: At which level do you understand the mathematics behind the algorithms you use at work?\n",
      "WorkChallengesSelect: At work, which barriers or challenges have you faced this past year? (Select all that apply) - Selected Choice\n",
      "WorkChallengesFreeForm: At work, which barriers or challenges have you faced this past year? (Select all that apply) - Other - Text\n",
      "WorkChallengeFrequencyPolitics: At work, how often did you experience these barriers or challenges within the past year? - Company politics / Lack of management/financial support for a data science team\n",
      "WorkChallengeFrequencyUnusedResults: At work, how often did you experience these barriers or challenges within the past year? - Data Science results not used by business decision makers\n",
      "WorkChallengeFrequencyUnusefulInstrumenting: At work, how often did you experience these barriers or challenges within the past year? - Did not instrument data useful for scientific analysis and decision-making\n",
      "WorkChallengeFrequencyDeployment: At work, how often did you experience these barriers or challenges within the past year? - Difficulties in deployment/scoring\n",
      "WorkChallengeFrequencyDirtyData: At work, how often did you experience these barriers or challenges within the past year? - Dirty data\n",
      "WorkChallengeFrequencyExplaining: At work, how often did you experience these barriers or challenges within the past year? - Explaining data science to others\n",
      "WorkChallengeFrequencyPass: At work, how often did you experience these barriers or challenges within the past year? - I prefer not to say\n",
      "WorkChallengeFrequencyIntegration: At work, how often did you experience these barriers or challenges within the past year? - Inability to integrate findings into organization's decision-making process\n",
      "WorkChallengeFrequencyTalent: At work, how often did you experience these barriers or challenges within the past year? - Lack of data science talent in the organization\n",
      "WorkChallengeFrequencyDataFunds: At work, how often did you experience these barriers or challenges within the past year? - Lack of funds to buy useful datasets from external sources\n",
      "WorkChallengeFrequencyDomainExpertise: At work, how often did you experience these barriers or challenges within the past year? - Lack of significant domain expert input\n",
      "WorkChallengeFrequencyML: At work, how often did you experience these barriers or challenges within the past year? - Limitations in the state of the art in machine learning\n",
      "WorkChallengeFrequencyTools: At work, how often did you experience these barriers or challenges within the past year? - Limitations of tools\n",
      "WorkChallengeFrequencyExpectations: At work, how often did you experience these barriers or challenges within the past year? - Maintaining responsible expectations about the potential impact of data science projects\n",
      "WorkChallengeFrequencyITCoordination: At work, how often did you experience these barriers or challenges within the past year? - Need to coordinate with IT\n",
      "WorkChallengeFrequencyHiringFunds: At work, how often did you experience these barriers or challenges within the past year? - Organization is small and cannot afford a data science team\n",
      "WorkChallengeFrequencyPrivacy: At work, how often did you experience these barriers or challenges within the past year? - Privacy issues\n",
      "WorkChallengeFrequencyScaling: At work, how often did you experience these barriers or challenges within the past year? - Scaling data science solution up to full database\n",
      "WorkChallengeFrequencyEnvironments: At work, how often did you experience these barriers or challenges within the past year? - Team using multiple ad-hoc development environments such as Python, R, Java, etc.\n",
      "WorkChallengeFrequencyClarity: At work, how often did you experience these barriers or challenges within the past year? - The lack of a clear question to be answering, or a clear direction to go in, with the available data\n",
      "WorkChallengeFrequencyDataAccess: At work, how often did you experience these barriers or challenges within the past year? - Unavailability of/difficult access to data\n",
      "WorkChallengeFrequencyOtherSelect: At work, how often did you experience these barriers or challenges within the past year? - Other\n",
      "WorkChallengeFrequencyOtherFreeForm: At work, how often did you experience these barriers or challenges within the past year? - Other - Text\n",
      "WorkDataVisualizations: At work, what proportion of your analytics projects incorporate data visualization?\n",
      "WorkInternalVsExternalTools: At work, to what degree does your team use interval versus external resources for data science projects? (Select one option)\n",
      "WorkMLTeamSeatSelect: At work, where does the data scientist team sit within the organization? - Selected Choice\n",
      "WorkMLTeamSeatFreeForm: At work, where does the data scientist team sit within the organization? - Other - Text\n",
      "WorkDatasets: At work, in addition to proprietary data, what third party and public datasets do you work with? (Please separate different answers with semicolons)\n",
      "WorkDatasetsChallenge: What is your biggest challenge for working with your source data?\n",
      "WorkDataStorage: At work, which of these data storage models do you typically use? (Select all that apply) - Selected Choice\n",
      "WorkDataStorageFreeForm: At work, which of these data storage models do you typically use? (Select all that apply) - Other - Text\n",
      "WorkDataSharing: At work, which tools do you use to share source data? (Select all that apply) - Selected Choice\n",
      "WorkDataSourcing: At work, which tools do you use to share source data? (Select all that apply) - Other - Text\n",
      "WorkCodeSharing: At work, which tools do you use to share code? (Select all that apply) - Selected Choice\n",
      "WorkCodeSharingFreeForm: At work, which tools do you use to share code? (Select all that apply) - Other - Text\n",
      "RemoteWork: How often do you work remotely?\n",
      "CompensationAmount: What is your current total yearly compensation (salary + bonus)? - Total Amount (e.g. 75,000) - Your Compensation: -\n",
      "CompensationCurrency: What is your current total yearly compensation (salary + bonus)? - Choose your currency: - Your Compensation:\n",
      "SalaryChange: How has your salary/compensation changed in the past 3 years? - Selected Choice\n",
      "SalaryChangeFreeForm: How has your salary/compensation changed in the past 3 years? - Other - Text\n",
      "JobSatisfaction: On a scale from 0 (Highly Dissatisfied) - 10 (Highly Satisfied), how satisfied are you with your current job?\n",
      "JobSearchResource: Which resource has been the best for finding data science job openings? (Select one option) - Selected Choice\n",
      "JobSearchResourceFreeForm: Which resource has been the best for finding data science job openings? (Select one option) - Other - Text\n",
      "JobHuntTime: How many hours per week have you typically spend looking for a data science job?\n",
      "JobFactorLearning: How are you assessing potential job opportunities? - Opportunities for professional development\n",
      "JobFactorSalary: How are you assessing potential job opportunities? - The compensation and benefits offered\n",
      "JobFactorOffice: How are you assessing potential job opportunities? - The office environment I'd be working in\n",
      "JobFactorLanguages: How are you assessing potential job opportunities? - The languages, frameworks, and other technologies I'd be working with\n",
      "JobFactorCommute: How are you assessing potential job opportunities? - The amount of time I'd have to spend commuting\n",
      "JobFactorManagement: How are you assessing potential job opportunities? - How projects are managed at the company or organization\n",
      "JobFactorExperienceLevel: How are you assessing potential job opportunities? - The experience level called for in the job description\n",
      "JobFactorDepartment: How are you assessing potential job opportunities? - The specific department or team I'd be working on\n",
      "JobFactorTitle: How are you assessing potential job opportunities? - The specific role or job title I'd be applying for\n",
      "JobFactorCompanyFunding: How are you assessing potential job opportunities? - The financial performance or funding status of the company or organization\n",
      "JobFactorImpact: How are you assessing potential job opportunities? - How widely used or impactful the product or service I'd be working on is\n",
      "JobFactorRemote: How are you assessing potential job opportunities? - The opportunity to work from home/remotely\n",
      "JobFactorIndustry: How are you assessing potential job opportunities? - The industry that I'd be working in\n",
      "JobFactorLeaderReputation: How are you assessing potential job opportunities? - The reputations of the company's senior leaders\n",
      "JobFactorDiversity: How are you assessing potential job opportunities? - The diversity of the company or organization\n",
      "JobFactorPublishingOpportunity: How are you assessing potential job opportunities? - Opportunity to publish my results\n"
     ]
    }
   ],
   "source": [
    "for col, question in zip(questions_2017['Column'], questions_2017['Question']):\n",
    "    print(\"{}: {}\".format(col, question))"
   ]
  },
  {
   "cell_type": "code",
   "execution_count": 8,
   "metadata": {},
   "outputs": [
    {
     "name": "stdout",
     "output_type": "stream",
     "text": [
      "Q1: What is your gender? - Selected Choice\n",
      "Q2: What is your age (# years)?\n",
      "Q3: In which country do you currently reside?\n",
      "Q4: What is the highest level of formal education that you have attained or plan to attain within the next 2 years?\n",
      "Q5: Which best describes your undergraduate major? - Selected Choice\n",
      "Q6: Select the title most similar to your current role (or most recent title if retired): - Selected Choice\n",
      "Q7: In what industry is your current employer/contract (or your most recent employer if retired)? - Selected Choice\n",
      "Q8: How many years of experience do you have in your current role?\n",
      "Q9: What is your current yearly compensation (approximate $USD)?\n",
      "Q10: Does your current employer incorporate machine learning methods into their business?\n",
      "Q11: Select any activities that make up an important part of your role at work: (Select all that apply) - Selected Choice\n",
      "Q12: What is the primary tool that you use at work or school to analyze data? (include text response) - Selected Choice\n",
      "Q13: Which of the following integrated development environments (IDE's) have you used at work or school in the last 5 years? (Select all that apply) - Selected Choice\n",
      "Q14: Which of the following hosted notebooks have you used at work or school in the last 5 years? (Select all that apply) - Selected Choice\n",
      "Q15: Which of the following cloud computing services have you used at work or school in the last 5 years? (Select all that apply) - Selected Choice\n",
      "Q16: What programming languages do you use on a regular basis? (Select all that apply) - Selected Choice\n",
      "Q17: What specific programming language do you use most often? - Selected Choice\n",
      "Q18: What programming language would you recommend an aspiring data scientist to learn first? - Selected Choice\n",
      "Q19: What machine learning frameworks have you used in the past 5 years? (Select all that apply) - Selected Choice\n",
      "Q20: Of the choices that you selected in the previous question, which ML library have you used the most? - Selected Choice\n",
      "Q21: What data visualization libraries or tools have you used in the past 5 years? (Select all that apply) - Selected Choice\n",
      "Q22: Of the choices that you selected in the previous question, which specific data visualization library or tool have you used the most? - Selected Choice\n",
      "Q23: Approximately what percent of your time at work or school is spent actively coding?\n",
      "Q24: How long have you been writing code to analyze data?\n",
      "Q25: For how many years have you used machine learning methods (at work or in school)?\n",
      "Q26: Do you consider yourself to be a data scientist?\n",
      "Q27: Which of the following cloud computing products have you used at work or school in the last 5 years (Select all that apply)? - Selected Choice\n",
      "Q28: Which of the following machine learning products have you used at work or school in the last 5 years? (Select all that apply) - Selected Choice\n",
      "Q29: Which of the following relational database products have you used at work or school in the last 5 years? (Select all that apply) - Selected Choice\n",
      "Q30: Which of the following big data and analytics products have you used at work or school in the last 5 years? (Select all that apply) - Selected Choice\n",
      "Q31: Which types of data do you currently interact with most often at work or school? (Select all that apply) - Selected Choice\n",
      "Q32: What is the type of data that you currently interact with most often at work or school? - Selected Choice\n",
      "Q33: Where do you find public datasets? (Select all that apply) - Selected Choice\n",
      "Q34: During a typical data science project at work or school, approximately what proportion of your time is devoted to the following? (Answers must add up to 100%) - Cleaning data\n",
      "Q35: What percentage of your current machine learning/data science training falls under each category? (Answers must add up to 100%) - Self-taught\n",
      "Q36: On which online platforms have you begun or completed data science courses? (Select all that apply) - Selected Choice\n",
      "Q37: On which online platform have you spent the most amount of time? - Selected Choice\n",
      "Q38: Who/what are your favorite media sources that report on data science topics? (Select all that apply) - Selected Choice\n",
      "Q39: How do you perceive the quality of online learning platforms and in-person bootcamps as compared to the quality of the education provided by traditional brick and mortar institutions? - Online learning platforms and MOOCs:\n",
      "Q40: Which better demonstrates expertise in data science: academic achievements or independent projects? - Your views:\n",
      "Q41: How do you perceive the importance of the following topics? - Fairness and bias in ML algorithms:\n",
      "Q42: What metrics do you or your organization use to determine whether or not your models were successful? (Select all that apply) - Selected Choice\n",
      "Q43: Approximately what percent of your data projects involved exploring unfair bias in the dataset and/or algorithm?\n",
      "Q44: What do you find most difficult about ensuring that your algorithms are fair and unbiased? (Select all that apply)\n",
      "Q45: In what circumstances would you explore model insights and interpret your model's predictions? (Select all that apply)\n",
      "Q46: Approximately what percent of your data projects involve exploring model insights?\n",
      "Q47: What methods do you prefer for explaining and/or interpreting decisions that are made by ML models? (Select all that apply) - Selected Choice\n",
      "Q48: Do you consider ML models to be \"black boxes\" with outputs that are difficult or impossible to explain?\n",
      "Q49: What tools and methods do you use to make your work easy to reproduce? (Select all that apply) - Selected Choice\n"
     ]
    }
   ],
   "source": [
    "for i in range(1, 50):\n",
    "    col_name = \"Q{}\".format(i)\n",
    "    print(\"Q{}: {}\".format(i, questions_2018.loc[0, col_name]))"
   ]
  },
  {
   "cell_type": "code",
   "execution_count": 9,
   "metadata": {},
   "outputs": [
    {
     "name": "stdout",
     "output_type": "stream",
     "text": [
      "Q1: What is your age (# years)?\n",
      "Q2: What is your gender? - Selected Choice\n",
      "Q3: In which country do you currently reside?\n",
      "Q4: What is the highest level of formal education that you have attained or plan to attain within the next 2 years?\n",
      "Q5: Select the title most similar to your current role (or most recent title if retired): - Selected Choice\n",
      "Q6: What is the size of the company where you are employed?\n",
      "Q7: Approximately how many individuals are responsible for data science workloads at your place of business?\n",
      "Q8: Does your current employer incorporate machine learning methods into their business?\n",
      "Q9: Select any activities that make up an important part of your role at work: (Select all that apply) - Selected Choice\n",
      "Q10: What is your current yearly compensation (approximate $USD)?\n",
      "Q11: Approximately how much money have you spent on machine learning and/or cloud computing products at your work in the past 5 years?\n",
      "Q12: Who/what are your favorite media sources that report on data science topics? (Select all that apply) - Selected Choice\n",
      "Q13: On which platforms have you begun or completed data science courses? (Select all that apply) - Selected Choice\n",
      "Q14: What is the primary tool that you use at work or school to analyze data? (Include text response) - Selected Choice\n",
      "Q15: How long have you been writing code to analyze data (at work or at school)?\n",
      "Q16: Which of the following integrated development environments (IDE's) do you use on a regular basis?  (Select all that apply) - Selected Choice\n",
      "Q17: Which of the following hosted notebook products do you use on a regular basis?  (Select all that apply) - Selected Choice\n",
      "Q18: What programming languages do you use on a regular basis? (Select all that apply) - Selected Choice\n",
      "Q19: What programming language would you recommend an aspiring data scientist to learn first? - Selected Choice\n",
      "Q20: What data visualization libraries or tools do you use on a regular basis?  (Select all that apply) - Selected Choice\n",
      "Q21: Which types of specialized hardware do you use on a regular basis?  (Select all that apply) - Selected Choice\n",
      "Q22: Have you ever used a TPU (tensor processing unit)?\n",
      "Q23: For how many years have you used machine learning methods?\n",
      "Q24: Which of the following ML algorithms do you use on a regular basis? (Select all that apply): - Selected Choice\n",
      "Q25: Which categories of ML tools do you use on a regular basis?  (Select all that apply) - Selected Choice\n",
      "Q26: Which categories of computer vision methods do you use on a regular basis?  (Select all that apply) - Selected Choice\n",
      "Q27: Which of the following natural language processing (NLP) methods do you use on a regular basis?  (Select all that apply) - Selected Choice\n",
      "Q28: Which of the following machine learning frameworks do you use on a regular basis? (Select all that apply) - Selected Choice\n",
      "Q29: Which of the following cloud computing platforms do you use on a regular basis? (Select all that apply) - Selected Choice\n",
      "Q30: Which specific cloud computing products do you use on a regular basis? (Select all that apply) - Selected Choice\n",
      "Q31: Which specific big data / analytics products do you use on a regular basis? (Select all that apply) - Selected Choice\n",
      "Q32: Which of the following machine learning products do you use on a regular basis? (Select all that apply) - Selected Choice\n",
      "Q33: Which automated machine learning tools (or partial AutoML tools) do you use on a regular basis?  (Select all that apply) - Selected Choice\n",
      "Q34: Which of the following relational database products do you use on a regular basis? (Select all that apply) - Selected Choice\n"
     ]
    }
   ],
   "source": [
    "for i in range(1, 35):\n",
    "    col_name = \"Q{}\".format(i)\n",
    "    print(\"Q{}: {}\".format(i, questions_2019.loc[0, col_name]))"
   ]
  },
  {
   "cell_type": "markdown",
   "metadata": {},
   "source": [
    "## 載入普查內容"
   ]
  },
  {
   "cell_type": "code",
   "execution_count": 10,
   "metadata": {},
   "outputs": [],
   "source": [
    "survey_2017 = pd.read_csv(\"https://kaggle-ml-ds-survey.s3-ap-northeast-1.amazonaws.com/kaggle-survey-2017/multipleChoiceResponses.csv\", encoding='ISO-8859-1', low_memory=False)\n",
    "survey_2018 = pd.read_csv(\"https://kaggle-ml-ds-survey.s3-ap-northeast-1.amazonaws.com/kaggle-survey-2018/multipleChoiceResponses.csv\", encoding='ISO-8859-1', skiprows=[1], low_memory=False)\n",
    "survey_2019 = pd.read_csv(\"https://kaggle-ml-ds-survey.s3-ap-northeast-1.amazonaws.com/kaggle-survey-2019/multiple_choice_responses.csv\", encoding='ISO-8859-1', skiprows=[1], low_memory=False)"
   ]
  },
  {
   "cell_type": "code",
   "execution_count": 11,
   "metadata": {},
   "outputs": [
    {
     "data": {
      "text/html": [
       "<div>\n",
       "<style scoped>\n",
       "    .dataframe tbody tr th:only-of-type {\n",
       "        vertical-align: middle;\n",
       "    }\n",
       "\n",
       "    .dataframe tbody tr th {\n",
       "        vertical-align: top;\n",
       "    }\n",
       "\n",
       "    .dataframe thead th {\n",
       "        text-align: right;\n",
       "    }\n",
       "</style>\n",
       "<table border=\"1\" class=\"dataframe\">\n",
       "  <thead>\n",
       "    <tr style=\"text-align: right;\">\n",
       "      <th></th>\n",
       "      <th>GenderSelect</th>\n",
       "      <th>Country</th>\n",
       "      <th>Age</th>\n",
       "      <th>EmploymentStatus</th>\n",
       "      <th>StudentStatus</th>\n",
       "      <th>LearningDataScience</th>\n",
       "      <th>CodeWriter</th>\n",
       "      <th>CareerSwitcher</th>\n",
       "      <th>CurrentJobTitleSelect</th>\n",
       "      <th>TitleFit</th>\n",
       "      <th>...</th>\n",
       "      <th>JobFactorExperienceLevel</th>\n",
       "      <th>JobFactorDepartment</th>\n",
       "      <th>JobFactorTitle</th>\n",
       "      <th>JobFactorCompanyFunding</th>\n",
       "      <th>JobFactorImpact</th>\n",
       "      <th>JobFactorRemote</th>\n",
       "      <th>JobFactorIndustry</th>\n",
       "      <th>JobFactorLeaderReputation</th>\n",
       "      <th>JobFactorDiversity</th>\n",
       "      <th>JobFactorPublishingOpportunity</th>\n",
       "    </tr>\n",
       "  </thead>\n",
       "  <tbody>\n",
       "    <tr>\n",
       "      <td>0</td>\n",
       "      <td>Non-binary, genderqueer, or gender non-conforming</td>\n",
       "      <td>NaN</td>\n",
       "      <td>NaN</td>\n",
       "      <td>Employed full-time</td>\n",
       "      <td>NaN</td>\n",
       "      <td>NaN</td>\n",
       "      <td>Yes</td>\n",
       "      <td>NaN</td>\n",
       "      <td>DBA/Database Engineer</td>\n",
       "      <td>Fine</td>\n",
       "      <td>...</td>\n",
       "      <td>NaN</td>\n",
       "      <td>NaN</td>\n",
       "      <td>NaN</td>\n",
       "      <td>NaN</td>\n",
       "      <td>NaN</td>\n",
       "      <td>NaN</td>\n",
       "      <td>NaN</td>\n",
       "      <td>NaN</td>\n",
       "      <td>NaN</td>\n",
       "      <td>NaN</td>\n",
       "    </tr>\n",
       "    <tr>\n",
       "      <td>1</td>\n",
       "      <td>Female</td>\n",
       "      <td>United States</td>\n",
       "      <td>30.0</td>\n",
       "      <td>Not employed, but looking for work</td>\n",
       "      <td>NaN</td>\n",
       "      <td>NaN</td>\n",
       "      <td>NaN</td>\n",
       "      <td>NaN</td>\n",
       "      <td>NaN</td>\n",
       "      <td>NaN</td>\n",
       "      <td>...</td>\n",
       "      <td>NaN</td>\n",
       "      <td>NaN</td>\n",
       "      <td>NaN</td>\n",
       "      <td>NaN</td>\n",
       "      <td>NaN</td>\n",
       "      <td>NaN</td>\n",
       "      <td>NaN</td>\n",
       "      <td>Somewhat important</td>\n",
       "      <td>NaN</td>\n",
       "      <td>NaN</td>\n",
       "    </tr>\n",
       "    <tr>\n",
       "      <td>2</td>\n",
       "      <td>Male</td>\n",
       "      <td>Canada</td>\n",
       "      <td>28.0</td>\n",
       "      <td>Not employed, but looking for work</td>\n",
       "      <td>NaN</td>\n",
       "      <td>NaN</td>\n",
       "      <td>NaN</td>\n",
       "      <td>NaN</td>\n",
       "      <td>NaN</td>\n",
       "      <td>NaN</td>\n",
       "      <td>...</td>\n",
       "      <td>Very Important</td>\n",
       "      <td>Very Important</td>\n",
       "      <td>Very Important</td>\n",
       "      <td>Very Important</td>\n",
       "      <td>Very Important</td>\n",
       "      <td>Very Important</td>\n",
       "      <td>Very Important</td>\n",
       "      <td>Very Important</td>\n",
       "      <td>Very Important</td>\n",
       "      <td>Very Important</td>\n",
       "    </tr>\n",
       "    <tr>\n",
       "      <td>3</td>\n",
       "      <td>Male</td>\n",
       "      <td>United States</td>\n",
       "      <td>56.0</td>\n",
       "      <td>Independent contractor, freelancer, or self-em...</td>\n",
       "      <td>NaN</td>\n",
       "      <td>NaN</td>\n",
       "      <td>Yes</td>\n",
       "      <td>NaN</td>\n",
       "      <td>Operations Research Practitioner</td>\n",
       "      <td>Poorly</td>\n",
       "      <td>...</td>\n",
       "      <td>NaN</td>\n",
       "      <td>NaN</td>\n",
       "      <td>NaN</td>\n",
       "      <td>NaN</td>\n",
       "      <td>NaN</td>\n",
       "      <td>NaN</td>\n",
       "      <td>NaN</td>\n",
       "      <td>NaN</td>\n",
       "      <td>NaN</td>\n",
       "      <td>NaN</td>\n",
       "    </tr>\n",
       "    <tr>\n",
       "      <td>4</td>\n",
       "      <td>Male</td>\n",
       "      <td>Taiwan</td>\n",
       "      <td>38.0</td>\n",
       "      <td>Employed full-time</td>\n",
       "      <td>NaN</td>\n",
       "      <td>NaN</td>\n",
       "      <td>Yes</td>\n",
       "      <td>NaN</td>\n",
       "      <td>Computer Scientist</td>\n",
       "      <td>Fine</td>\n",
       "      <td>...</td>\n",
       "      <td>NaN</td>\n",
       "      <td>NaN</td>\n",
       "      <td>NaN</td>\n",
       "      <td>NaN</td>\n",
       "      <td>NaN</td>\n",
       "      <td>NaN</td>\n",
       "      <td>NaN</td>\n",
       "      <td>NaN</td>\n",
       "      <td>NaN</td>\n",
       "      <td>NaN</td>\n",
       "    </tr>\n",
       "  </tbody>\n",
       "</table>\n",
       "<p>5 rows × 228 columns</p>\n",
       "</div>"
      ],
      "text/plain": [
       "                                        GenderSelect        Country   Age  \\\n",
       "0  Non-binary, genderqueer, or gender non-conforming            NaN   NaN   \n",
       "1                                             Female  United States  30.0   \n",
       "2                                               Male         Canada  28.0   \n",
       "3                                               Male  United States  56.0   \n",
       "4                                               Male         Taiwan  38.0   \n",
       "\n",
       "                                    EmploymentStatus StudentStatus  \\\n",
       "0                                 Employed full-time           NaN   \n",
       "1                 Not employed, but looking for work           NaN   \n",
       "2                 Not employed, but looking for work           NaN   \n",
       "3  Independent contractor, freelancer, or self-em...           NaN   \n",
       "4                                 Employed full-time           NaN   \n",
       "\n",
       "  LearningDataScience CodeWriter CareerSwitcher  \\\n",
       "0                 NaN        Yes            NaN   \n",
       "1                 NaN        NaN            NaN   \n",
       "2                 NaN        NaN            NaN   \n",
       "3                 NaN        Yes            NaN   \n",
       "4                 NaN        Yes            NaN   \n",
       "\n",
       "              CurrentJobTitleSelect TitleFit  ... JobFactorExperienceLevel  \\\n",
       "0             DBA/Database Engineer     Fine  ...                      NaN   \n",
       "1                               NaN      NaN  ...                      NaN   \n",
       "2                               NaN      NaN  ...           Very Important   \n",
       "3  Operations Research Practitioner   Poorly  ...                      NaN   \n",
       "4                Computer Scientist     Fine  ...                      NaN   \n",
       "\n",
       "  JobFactorDepartment  JobFactorTitle JobFactorCompanyFunding JobFactorImpact  \\\n",
       "0                 NaN             NaN                     NaN             NaN   \n",
       "1                 NaN             NaN                     NaN             NaN   \n",
       "2      Very Important  Very Important          Very Important  Very Important   \n",
       "3                 NaN             NaN                     NaN             NaN   \n",
       "4                 NaN             NaN                     NaN             NaN   \n",
       "\n",
       "  JobFactorRemote JobFactorIndustry JobFactorLeaderReputation  \\\n",
       "0             NaN               NaN                       NaN   \n",
       "1             NaN               NaN        Somewhat important   \n",
       "2  Very Important    Very Important            Very Important   \n",
       "3             NaN               NaN                       NaN   \n",
       "4             NaN               NaN                       NaN   \n",
       "\n",
       "  JobFactorDiversity JobFactorPublishingOpportunity  \n",
       "0                NaN                            NaN  \n",
       "1                NaN                            NaN  \n",
       "2     Very Important                 Very Important  \n",
       "3                NaN                            NaN  \n",
       "4                NaN                            NaN  \n",
       "\n",
       "[5 rows x 228 columns]"
      ]
     },
     "execution_count": 11,
     "metadata": {},
     "output_type": "execute_result"
    }
   ],
   "source": [
    "survey_2017.head()"
   ]
  },
  {
   "cell_type": "code",
   "execution_count": 12,
   "metadata": {},
   "outputs": [
    {
     "data": {
      "text/html": [
       "<div>\n",
       "<style scoped>\n",
       "    .dataframe tbody tr th:only-of-type {\n",
       "        vertical-align: middle;\n",
       "    }\n",
       "\n",
       "    .dataframe tbody tr th {\n",
       "        vertical-align: top;\n",
       "    }\n",
       "\n",
       "    .dataframe thead th {\n",
       "        text-align: right;\n",
       "    }\n",
       "</style>\n",
       "<table border=\"1\" class=\"dataframe\">\n",
       "  <thead>\n",
       "    <tr style=\"text-align: right;\">\n",
       "      <th></th>\n",
       "      <th>Time from Start to Finish (seconds)</th>\n",
       "      <th>Q1</th>\n",
       "      <th>Q1_OTHER_TEXT</th>\n",
       "      <th>Q2</th>\n",
       "      <th>Q3</th>\n",
       "      <th>Q4</th>\n",
       "      <th>Q5</th>\n",
       "      <th>Q6</th>\n",
       "      <th>Q6_OTHER_TEXT</th>\n",
       "      <th>Q7</th>\n",
       "      <th>...</th>\n",
       "      <th>Q49_OTHER_TEXT</th>\n",
       "      <th>Q50_Part_1</th>\n",
       "      <th>Q50_Part_2</th>\n",
       "      <th>Q50_Part_3</th>\n",
       "      <th>Q50_Part_4</th>\n",
       "      <th>Q50_Part_5</th>\n",
       "      <th>Q50_Part_6</th>\n",
       "      <th>Q50_Part_7</th>\n",
       "      <th>Q50_Part_8</th>\n",
       "      <th>Q50_OTHER_TEXT</th>\n",
       "    </tr>\n",
       "  </thead>\n",
       "  <tbody>\n",
       "    <tr>\n",
       "      <td>0</td>\n",
       "      <td>710</td>\n",
       "      <td>Female</td>\n",
       "      <td>-1</td>\n",
       "      <td>45-49</td>\n",
       "      <td>United States of America</td>\n",
       "      <td>Doctoral degree</td>\n",
       "      <td>Other</td>\n",
       "      <td>Consultant</td>\n",
       "      <td>-1</td>\n",
       "      <td>Other</td>\n",
       "      <td>...</td>\n",
       "      <td>-1</td>\n",
       "      <td>NaN</td>\n",
       "      <td>NaN</td>\n",
       "      <td>NaN</td>\n",
       "      <td>NaN</td>\n",
       "      <td>NaN</td>\n",
       "      <td>NaN</td>\n",
       "      <td>NaN</td>\n",
       "      <td>NaN</td>\n",
       "      <td>-1</td>\n",
       "    </tr>\n",
       "    <tr>\n",
       "      <td>1</td>\n",
       "      <td>434</td>\n",
       "      <td>Male</td>\n",
       "      <td>-1</td>\n",
       "      <td>30-34</td>\n",
       "      <td>Indonesia</td>\n",
       "      <td>Bachelorâs degree</td>\n",
       "      <td>Engineering (non-computer focused)</td>\n",
       "      <td>Other</td>\n",
       "      <td>0</td>\n",
       "      <td>Manufacturing/Fabrication</td>\n",
       "      <td>...</td>\n",
       "      <td>-1</td>\n",
       "      <td>NaN</td>\n",
       "      <td>NaN</td>\n",
       "      <td>NaN</td>\n",
       "      <td>NaN</td>\n",
       "      <td>NaN</td>\n",
       "      <td>NaN</td>\n",
       "      <td>NaN</td>\n",
       "      <td>NaN</td>\n",
       "      <td>-1</td>\n",
       "    </tr>\n",
       "    <tr>\n",
       "      <td>2</td>\n",
       "      <td>718</td>\n",
       "      <td>Female</td>\n",
       "      <td>-1</td>\n",
       "      <td>30-34</td>\n",
       "      <td>United States of America</td>\n",
       "      <td>Masterâs degree</td>\n",
       "      <td>Computer science (software engineering, etc.)</td>\n",
       "      <td>Data Scientist</td>\n",
       "      <td>-1</td>\n",
       "      <td>I am a student</td>\n",
       "      <td>...</td>\n",
       "      <td>-1</td>\n",
       "      <td>NaN</td>\n",
       "      <td>Too time-consuming</td>\n",
       "      <td>NaN</td>\n",
       "      <td>NaN</td>\n",
       "      <td>NaN</td>\n",
       "      <td>NaN</td>\n",
       "      <td>NaN</td>\n",
       "      <td>NaN</td>\n",
       "      <td>-1</td>\n",
       "    </tr>\n",
       "    <tr>\n",
       "      <td>3</td>\n",
       "      <td>621</td>\n",
       "      <td>Male</td>\n",
       "      <td>-1</td>\n",
       "      <td>35-39</td>\n",
       "      <td>United States of America</td>\n",
       "      <td>Masterâs degree</td>\n",
       "      <td>Social sciences (anthropology, psychology, soc...</td>\n",
       "      <td>Not employed</td>\n",
       "      <td>-1</td>\n",
       "      <td>NaN</td>\n",
       "      <td>...</td>\n",
       "      <td>-1</td>\n",
       "      <td>NaN</td>\n",
       "      <td>NaN</td>\n",
       "      <td>Requires too much technical knowledge</td>\n",
       "      <td>NaN</td>\n",
       "      <td>Not enough incentives to share my work</td>\n",
       "      <td>NaN</td>\n",
       "      <td>NaN</td>\n",
       "      <td>NaN</td>\n",
       "      <td>-1</td>\n",
       "    </tr>\n",
       "    <tr>\n",
       "      <td>4</td>\n",
       "      <td>731</td>\n",
       "      <td>Male</td>\n",
       "      <td>-1</td>\n",
       "      <td>22-24</td>\n",
       "      <td>India</td>\n",
       "      <td>Masterâs degree</td>\n",
       "      <td>Mathematics or statistics</td>\n",
       "      <td>Data Analyst</td>\n",
       "      <td>-1</td>\n",
       "      <td>I am a student</td>\n",
       "      <td>...</td>\n",
       "      <td>-1</td>\n",
       "      <td>NaN</td>\n",
       "      <td>Too time-consuming</td>\n",
       "      <td>NaN</td>\n",
       "      <td>NaN</td>\n",
       "      <td>Not enough incentives to share my work</td>\n",
       "      <td>NaN</td>\n",
       "      <td>NaN</td>\n",
       "      <td>NaN</td>\n",
       "      <td>-1</td>\n",
       "    </tr>\n",
       "  </tbody>\n",
       "</table>\n",
       "<p>5 rows × 395 columns</p>\n",
       "</div>"
      ],
      "text/plain": [
       "   Time from Start to Finish (seconds)      Q1  Q1_OTHER_TEXT     Q2  \\\n",
       "0                                  710  Female             -1  45-49   \n",
       "1                                  434    Male             -1  30-34   \n",
       "2                                  718  Female             -1  30-34   \n",
       "3                                  621    Male             -1  35-39   \n",
       "4                                  731    Male             -1  22-24   \n",
       "\n",
       "                         Q3                   Q4  \\\n",
       "0  United States of America      Doctoral degree   \n",
       "1                 Indonesia  Bachelorâs degree   \n",
       "2  United States of America    Masterâs degree   \n",
       "3  United States of America    Masterâs degree   \n",
       "4                     India    Masterâs degree   \n",
       "\n",
       "                                                  Q5              Q6  \\\n",
       "0                                              Other      Consultant   \n",
       "1                 Engineering (non-computer focused)           Other   \n",
       "2      Computer science (software engineering, etc.)  Data Scientist   \n",
       "3  Social sciences (anthropology, psychology, soc...    Not employed   \n",
       "4                          Mathematics or statistics    Data Analyst   \n",
       "\n",
       "   Q6_OTHER_TEXT                         Q7  ...  Q49_OTHER_TEXT Q50_Part_1  \\\n",
       "0             -1                      Other  ...              -1        NaN   \n",
       "1              0  Manufacturing/Fabrication  ...              -1        NaN   \n",
       "2             -1             I am a student  ...              -1        NaN   \n",
       "3             -1                        NaN  ...              -1        NaN   \n",
       "4             -1             I am a student  ...              -1        NaN   \n",
       "\n",
       "           Q50_Part_2                             Q50_Part_3 Q50_Part_4  \\\n",
       "0                 NaN                                    NaN        NaN   \n",
       "1                 NaN                                    NaN        NaN   \n",
       "2  Too time-consuming                                    NaN        NaN   \n",
       "3                 NaN  Requires too much technical knowledge        NaN   \n",
       "4  Too time-consuming                                    NaN        NaN   \n",
       "\n",
       "                               Q50_Part_5 Q50_Part_6 Q50_Part_7 Q50_Part_8  \\\n",
       "0                                     NaN        NaN        NaN        NaN   \n",
       "1                                     NaN        NaN        NaN        NaN   \n",
       "2                                     NaN        NaN        NaN        NaN   \n",
       "3  Not enough incentives to share my work        NaN        NaN        NaN   \n",
       "4  Not enough incentives to share my work        NaN        NaN        NaN   \n",
       "\n",
       "  Q50_OTHER_TEXT  \n",
       "0             -1  \n",
       "1             -1  \n",
       "2             -1  \n",
       "3             -1  \n",
       "4             -1  \n",
       "\n",
       "[5 rows x 395 columns]"
      ]
     },
     "execution_count": 12,
     "metadata": {},
     "output_type": "execute_result"
    }
   ],
   "source": [
    "survey_2018.head()"
   ]
  },
  {
   "cell_type": "code",
   "execution_count": 13,
   "metadata": {},
   "outputs": [
    {
     "data": {
      "text/html": [
       "<div>\n",
       "<style scoped>\n",
       "    .dataframe tbody tr th:only-of-type {\n",
       "        vertical-align: middle;\n",
       "    }\n",
       "\n",
       "    .dataframe tbody tr th {\n",
       "        vertical-align: top;\n",
       "    }\n",
       "\n",
       "    .dataframe thead th {\n",
       "        text-align: right;\n",
       "    }\n",
       "</style>\n",
       "<table border=\"1\" class=\"dataframe\">\n",
       "  <thead>\n",
       "    <tr style=\"text-align: right;\">\n",
       "      <th></th>\n",
       "      <th>Time from Start to Finish (seconds)</th>\n",
       "      <th>Q1</th>\n",
       "      <th>Q2</th>\n",
       "      <th>Q2_OTHER_TEXT</th>\n",
       "      <th>Q3</th>\n",
       "      <th>Q4</th>\n",
       "      <th>Q5</th>\n",
       "      <th>Q5_OTHER_TEXT</th>\n",
       "      <th>Q6</th>\n",
       "      <th>Q7</th>\n",
       "      <th>...</th>\n",
       "      <th>Q34_Part_4</th>\n",
       "      <th>Q34_Part_5</th>\n",
       "      <th>Q34_Part_6</th>\n",
       "      <th>Q34_Part_7</th>\n",
       "      <th>Q34_Part_8</th>\n",
       "      <th>Q34_Part_9</th>\n",
       "      <th>Q34_Part_10</th>\n",
       "      <th>Q34_Part_11</th>\n",
       "      <th>Q34_Part_12</th>\n",
       "      <th>Q34_OTHER_TEXT</th>\n",
       "    </tr>\n",
       "  </thead>\n",
       "  <tbody>\n",
       "    <tr>\n",
       "      <td>0</td>\n",
       "      <td>510</td>\n",
       "      <td>22-24</td>\n",
       "      <td>Male</td>\n",
       "      <td>-1</td>\n",
       "      <td>France</td>\n",
       "      <td>Masterâs degree</td>\n",
       "      <td>Software Engineer</td>\n",
       "      <td>-1</td>\n",
       "      <td>1000-9,999 employees</td>\n",
       "      <td>0</td>\n",
       "      <td>...</td>\n",
       "      <td>NaN</td>\n",
       "      <td>NaN</td>\n",
       "      <td>NaN</td>\n",
       "      <td>NaN</td>\n",
       "      <td>NaN</td>\n",
       "      <td>NaN</td>\n",
       "      <td>NaN</td>\n",
       "      <td>NaN</td>\n",
       "      <td>NaN</td>\n",
       "      <td>-1</td>\n",
       "    </tr>\n",
       "    <tr>\n",
       "      <td>1</td>\n",
       "      <td>423</td>\n",
       "      <td>40-44</td>\n",
       "      <td>Male</td>\n",
       "      <td>-1</td>\n",
       "      <td>India</td>\n",
       "      <td>Professional degree</td>\n",
       "      <td>Software Engineer</td>\n",
       "      <td>-1</td>\n",
       "      <td>&gt; 10,000 employees</td>\n",
       "      <td>20+</td>\n",
       "      <td>...</td>\n",
       "      <td>NaN</td>\n",
       "      <td>NaN</td>\n",
       "      <td>NaN</td>\n",
       "      <td>NaN</td>\n",
       "      <td>NaN</td>\n",
       "      <td>NaN</td>\n",
       "      <td>NaN</td>\n",
       "      <td>NaN</td>\n",
       "      <td>NaN</td>\n",
       "      <td>-1</td>\n",
       "    </tr>\n",
       "    <tr>\n",
       "      <td>2</td>\n",
       "      <td>83</td>\n",
       "      <td>55-59</td>\n",
       "      <td>Female</td>\n",
       "      <td>-1</td>\n",
       "      <td>Germany</td>\n",
       "      <td>Professional degree</td>\n",
       "      <td>NaN</td>\n",
       "      <td>-1</td>\n",
       "      <td>NaN</td>\n",
       "      <td>NaN</td>\n",
       "      <td>...</td>\n",
       "      <td>NaN</td>\n",
       "      <td>NaN</td>\n",
       "      <td>NaN</td>\n",
       "      <td>NaN</td>\n",
       "      <td>NaN</td>\n",
       "      <td>NaN</td>\n",
       "      <td>NaN</td>\n",
       "      <td>NaN</td>\n",
       "      <td>NaN</td>\n",
       "      <td>-1</td>\n",
       "    </tr>\n",
       "    <tr>\n",
       "      <td>3</td>\n",
       "      <td>391</td>\n",
       "      <td>40-44</td>\n",
       "      <td>Male</td>\n",
       "      <td>-1</td>\n",
       "      <td>Australia</td>\n",
       "      <td>Masterâs degree</td>\n",
       "      <td>Other</td>\n",
       "      <td>0</td>\n",
       "      <td>&gt; 10,000 employees</td>\n",
       "      <td>20+</td>\n",
       "      <td>...</td>\n",
       "      <td>NaN</td>\n",
       "      <td>NaN</td>\n",
       "      <td>NaN</td>\n",
       "      <td>NaN</td>\n",
       "      <td>NaN</td>\n",
       "      <td>Azure SQL Database</td>\n",
       "      <td>NaN</td>\n",
       "      <td>NaN</td>\n",
       "      <td>NaN</td>\n",
       "      <td>-1</td>\n",
       "    </tr>\n",
       "    <tr>\n",
       "      <td>4</td>\n",
       "      <td>392</td>\n",
       "      <td>22-24</td>\n",
       "      <td>Male</td>\n",
       "      <td>-1</td>\n",
       "      <td>India</td>\n",
       "      <td>Bachelorâs degree</td>\n",
       "      <td>Other</td>\n",
       "      <td>1</td>\n",
       "      <td>0-49 employees</td>\n",
       "      <td>0</td>\n",
       "      <td>...</td>\n",
       "      <td>NaN</td>\n",
       "      <td>NaN</td>\n",
       "      <td>NaN</td>\n",
       "      <td>NaN</td>\n",
       "      <td>NaN</td>\n",
       "      <td>NaN</td>\n",
       "      <td>NaN</td>\n",
       "      <td>NaN</td>\n",
       "      <td>NaN</td>\n",
       "      <td>-1</td>\n",
       "    </tr>\n",
       "  </tbody>\n",
       "</table>\n",
       "<p>5 rows × 246 columns</p>\n",
       "</div>"
      ],
      "text/plain": [
       "   Time from Start to Finish (seconds)     Q1      Q2  Q2_OTHER_TEXT  \\\n",
       "0                                  510  22-24    Male             -1   \n",
       "1                                  423  40-44    Male             -1   \n",
       "2                                   83  55-59  Female             -1   \n",
       "3                                  391  40-44    Male             -1   \n",
       "4                                  392  22-24    Male             -1   \n",
       "\n",
       "          Q3                   Q4                 Q5  Q5_OTHER_TEXT  \\\n",
       "0     France    Masterâs degree  Software Engineer             -1   \n",
       "1      India  Professional degree  Software Engineer             -1   \n",
       "2    Germany  Professional degree                NaN             -1   \n",
       "3  Australia    Masterâs degree              Other              0   \n",
       "4      India  Bachelorâs degree              Other              1   \n",
       "\n",
       "                     Q6   Q7  ... Q34_Part_4 Q34_Part_5 Q34_Part_6 Q34_Part_7  \\\n",
       "0  1000-9,999 employees    0  ...        NaN        NaN        NaN        NaN   \n",
       "1    > 10,000 employees  20+  ...        NaN        NaN        NaN        NaN   \n",
       "2                   NaN  NaN  ...        NaN        NaN        NaN        NaN   \n",
       "3    > 10,000 employees  20+  ...        NaN        NaN        NaN        NaN   \n",
       "4        0-49 employees    0  ...        NaN        NaN        NaN        NaN   \n",
       "\n",
       "  Q34_Part_8          Q34_Part_9 Q34_Part_10 Q34_Part_11 Q34_Part_12  \\\n",
       "0        NaN                 NaN         NaN         NaN         NaN   \n",
       "1        NaN                 NaN         NaN         NaN         NaN   \n",
       "2        NaN                 NaN         NaN         NaN         NaN   \n",
       "3        NaN  Azure SQL Database         NaN         NaN         NaN   \n",
       "4        NaN                 NaN         NaN         NaN         NaN   \n",
       "\n",
       "   Q34_OTHER_TEXT  \n",
       "0              -1  \n",
       "1              -1  \n",
       "2              -1  \n",
       "3              -1  \n",
       "4              -1  \n",
       "\n",
       "[5 rows x 246 columns]"
      ]
     },
     "execution_count": 13,
     "metadata": {},
     "output_type": "execute_result"
    }
   ],
   "source": [
    "survey_2019.head()"
   ]
  },
  {
   "cell_type": "markdown",
   "metadata": {},
   "source": [
    "## 檢視職稱的人數與比例"
   ]
  },
  {
   "cell_type": "code",
   "execution_count": 14,
   "metadata": {},
   "outputs": [
    {
     "name": "stdout",
     "output_type": "stream",
     "text": [
      "2017 年的總答題人數為 16,716\n",
      "2017 年的 Data Analyst 人數為 1,213 人；比例為 7.26%\n",
      "2018 年的總答題人數為 23,859\n",
      "2018 年的 Data Analyst 人數為 1,922 人；比例為 8.06%\n",
      "2019 年的總答題人數為 19,717\n",
      "2019 年的 Data Analyst 人數為 1,598 人；比例為 8.10%\n"
     ]
    }
   ],
   "source": [
    "print_respondents_info(2017, survey_2017, 'CurrentJobTitleSelect')\n",
    "print_respondents_info(2018, survey_2018, 'Q6')\n",
    "print_respondents_info(2019, survey_2019, 'Q5')"
   ]
  },
  {
   "cell_type": "code",
   "execution_count": 15,
   "metadata": {},
   "outputs": [
    {
     "data": {
      "text/plain": [
       "Data Scientist             4085\n",
       "Student                    4014\n",
       "Software Engineer          2705\n",
       "Other                      1690\n",
       "Data Analyst               1598\n",
       "Research Scientist         1470\n",
       "Not employed                942\n",
       "Business Analyst            778\n",
       "Product/Project Manager     723\n",
       "Data Engineer               624\n",
       "Statistician                322\n",
       "DBA/Database Engineer       156\n",
       "Name: Q5, dtype: int64"
      ]
     },
     "execution_count": 15,
     "metadata": {},
     "output_type": "execute_result"
    }
   ],
   "source": [
    "survey_2019['Q5'].value_counts()"
   ]
  },
  {
   "cell_type": "markdown",
   "metadata": {},
   "source": [
    "## 篩選 Data Analyst 資料集"
   ]
  },
  {
   "cell_type": "code",
   "execution_count": 16,
   "metadata": {},
   "outputs": [],
   "source": [
    "da_2017 = survey_2017[survey_2017['CurrentJobTitleSelect'] == 'Data Analyst']\n",
    "da_2018 = survey_2018[survey_2018['Q6'] == 'Data Analyst']\n",
    "da_2019 = survey_2019[survey_2019['Q5'] == 'Data Analyst']"
   ]
  },
  {
   "cell_type": "markdown",
   "metadata": {},
   "source": [
    "## Data Analyst 輪廓：性別"
   ]
  },
  {
   "cell_type": "code",
   "execution_count": 17,
   "metadata": {},
   "outputs": [
    {
     "data": {
      "text/plain": [
       "Male                                                 0.763877\n",
       "Female                                               0.227009\n",
       "A different identity                                 0.007457\n",
       "Non-binary, genderqueer, or gender non-conforming    0.001657\n",
       "Name: GenderSelect, dtype: float64"
      ]
     },
     "execution_count": 17,
     "metadata": {},
     "output_type": "execute_result"
    }
   ],
   "source": [
    "get_value_ratios(da_2017, 'GenderSelect')"
   ]
  },
  {
   "cell_type": "code",
   "execution_count": 18,
   "metadata": {},
   "outputs": [
    {
     "data": {
      "text/plain": [
       "Male                       0.767950\n",
       "Female                     0.217482\n",
       "Prefer not to say          0.012487\n",
       "Prefer to self-describe    0.002081\n",
       "Name: Q1, dtype: float64"
      ]
     },
     "execution_count": 18,
     "metadata": {},
     "output_type": "execute_result"
    }
   ],
   "source": [
    "get_value_ratios(da_2018, 'Q1')"
   ]
  },
  {
   "cell_type": "code",
   "execution_count": 19,
   "metadata": {},
   "outputs": [
    {
     "data": {
      "text/plain": [
       "Male                 0.770338\n",
       "Female               0.217146\n",
       "Prefer not to say    0.012516\n",
       "Name: Q2, dtype: float64"
      ]
     },
     "execution_count": 19,
     "metadata": {},
     "output_type": "execute_result"
    }
   ],
   "source": [
    "get_value_ratios(da_2019, 'Q2')"
   ]
  },
  {
   "cell_type": "markdown",
   "metadata": {},
   "source": [
    "## Data Analyst 輪廓：工作國家"
   ]
  },
  {
   "cell_type": "code",
   "execution_count": 20,
   "metadata": {},
   "outputs": [
    {
     "data": {
      "text/plain": [
       "United States     0.260546\n",
       "India             0.169562\n",
       "Other             0.052936\n",
       "Australia         0.042184\n",
       "United Kingdom    0.040529\n",
       "Name: Country, dtype: float64"
      ]
     },
     "execution_count": 20,
     "metadata": {},
     "output_type": "execute_result"
    }
   ],
   "source": [
    "get_value_ratios(da_2017, 'Country')[:5]"
   ]
  },
  {
   "cell_type": "code",
   "execution_count": 21,
   "metadata": {},
   "outputs": [
    {
     "data": {
      "text/plain": [
       "United States of America    0.216961\n",
       "India                       0.185224\n",
       "China                       0.093132\n",
       "Other                       0.043704\n",
       "Russia                      0.039542\n",
       "Name: Q3, dtype: float64"
      ]
     },
     "execution_count": 21,
     "metadata": {},
     "output_type": "execute_result"
    }
   ],
   "source": [
    "get_value_ratios(da_2018, 'Q3')[:5]"
   ]
  },
  {
   "cell_type": "code",
   "execution_count": 22,
   "metadata": {},
   "outputs": [
    {
     "data": {
      "text/plain": [
       "India                                                   0.219024\n",
       "United States of America                                0.182103\n",
       "Other                                                   0.069462\n",
       "Brazil                                                  0.039424\n",
       "United Kingdom of Great Britain and Northern Ireland    0.028786\n",
       "Name: Q3, dtype: float64"
      ]
     },
     "execution_count": 22,
     "metadata": {},
     "output_type": "execute_result"
    }
   ],
   "source": [
    "get_value_ratios(da_2019, 'Q3')[:5]"
   ]
  },
  {
   "cell_type": "markdown",
   "metadata": {},
   "source": [
    "## Data Analyst 經驗：學習管道"
   ]
  },
  {
   "cell_type": "code",
   "execution_count": 23,
   "metadata": {},
   "outputs": [
    {
     "data": {
      "text/plain": [
       "YouTube Videos                              0.018226\n",
       "Online courses                              0.018226\n",
       "Stack Overflow Q&A                          0.017011\n",
       "Kaggle                                      0.017011\n",
       "Online courses,YouTube Videos               0.009721\n",
       "Personal Projects                           0.008505\n",
       "Kaggle,YouTube Videos                       0.008505\n",
       "Blogs                                       0.007290\n",
       "Textbook                                    0.007290\n",
       "Kaggle,Stack Overflow Q&A,YouTube Videos    0.007290\n",
       "Name: LearningPlatformSelect, dtype: float64"
      ]
     },
     "execution_count": 23,
     "metadata": {},
     "output_type": "execute_result"
    }
   ],
   "source": [
    "get_value_ratios(da_2017, 'LearningPlatformSelect')[:10]"
   ]
  },
  {
   "cell_type": "code",
   "execution_count": 24,
   "metadata": {},
   "outputs": [
    {
     "data": {
      "text/plain": [
       "Kaggle forums        0.152622\n",
       "Medium Blog Posts    0.123596\n",
       "r/machinelearning    0.089888\n",
       "KDnuggets Blog       0.083958\n",
       "Twitter              0.083333\n",
       "dtype: float64"
      ]
     },
     "execution_count": 24,
     "metadata": {},
     "output_type": "execute_result"
    }
   ],
   "source": [
    "get_checkbox_ratios(da_2018, 'Q38')[:5]"
   ]
  },
  {
   "cell_type": "code",
   "execution_count": 25,
   "metadata": {},
   "outputs": [
    {
     "data": {
      "text/plain": [
       "Coursera        0.210618\n",
       "DataCamp        0.166522\n",
       "Udemy           0.125036\n",
       "Kaggle Learn    0.112272\n",
       "edX             0.103278\n",
       "dtype: float64"
      ]
     },
     "execution_count": 25,
     "metadata": {},
     "output_type": "execute_result"
    }
   ],
   "source": [
    "get_checkbox_ratios(da_2018, 'Q36')[:5]"
   ]
  },
  {
   "cell_type": "code",
   "execution_count": 26,
   "metadata": {},
   "outputs": [
    {
     "data": {
      "text/plain": [
       "Kaggle (forums, blog, social media, etc)                                 0.225299\n",
       "Blogs (Towards Data Science, Medium, Analytics Vidhya, KDnuggets etc)    0.196607\n",
       "YouTube (Cloud AI Adventures, Siraj Raval, etc)                          0.149950\n",
       "Course Forums (forums.fast.ai, etc)                                      0.068363\n",
       "Reddit (r/machinelearning, r/datascience, etc)                           0.066617\n",
       "dtype: float64"
      ]
     },
     "execution_count": 26,
     "metadata": {},
     "output_type": "execute_result"
    }
   ],
   "source": [
    "get_checkbox_ratios(da_2019, 'Q12')[:5]"
   ]
  },
  {
   "cell_type": "code",
   "execution_count": 27,
   "metadata": {},
   "outputs": [
    {
     "data": {
      "text/plain": [
       "Coursera                                                 0.189483\n",
       "DataCamp                                                 0.134254\n",
       "Udemy                                                    0.131610\n",
       "Kaggle Courses (i.e. Kaggle Learn)                       0.124853\n",
       "University Courses (resulting in a university degree)    0.094007\n",
       "dtype: float64"
      ]
     },
     "execution_count": 27,
     "metadata": {},
     "output_type": "execute_result"
    }
   ],
   "source": [
    "get_checkbox_ratios(da_2019, 'Q13')[:5]"
   ]
  },
  {
   "cell_type": "markdown",
   "metadata": {},
   "source": [
    "## Data Analyst 技能：工作內容"
   ]
  },
  {
   "cell_type": "code",
   "execution_count": 28,
   "metadata": {},
   "outputs": [
    {
     "data": {
      "text/plain": [
       "Analyze and understand data to influence product or business decisions                                                0.711387\n",
       "Build and/or run the data infrastructure that your business uses for storing, analyzing, and operationalizing data    0.110485\n",
       "Build and/or run a machine learning service that operationally improves your product or workflows                     0.082300\n",
       "Build prototypes to explore applying machine learning to new areas                                                    0.052988\n",
       "Other                                                                                                                 0.030440\n",
       "Research that advances the state of the art of machine learning                                                       0.012401\n",
       "Name: JobFunctionSelect, dtype: float64"
      ]
     },
     "execution_count": 28,
     "metadata": {},
     "output_type": "execute_result"
    }
   ],
   "source": [
    "get_value_ratios(da_2017, 'JobFunctionSelect')"
   ]
  },
  {
   "cell_type": "code",
   "execution_count": 29,
   "metadata": {},
   "outputs": [
    {
     "data": {
      "text/plain": [
       "Analyze and understand data to influence product or business decisions                                              0.414894\n",
       "Build and/or run the data infrastructure that my business uses for storing, analyzing, and operationalizing data    0.196647\n",
       "Build prototypes to explore applying machine learning to new areas                                                  0.137331\n",
       "Build and/or run a machine learning service that operationally improves my product or workflows                     0.116054\n",
       "Do research that advances the state of the art of machine learning                                                  0.081560\n",
       "None of these activities are an important part of my role at work                                                   0.031270\n",
       "Other                                                                                                               0.022244\n",
       "dtype: float64"
      ]
     },
     "execution_count": 29,
     "metadata": {},
     "output_type": "execute_result"
    }
   ],
   "source": [
    "get_checkbox_ratios(da_2018, 'Q11')"
   ]
  },
  {
   "cell_type": "code",
   "execution_count": 30,
   "metadata": {},
   "outputs": [
    {
     "data": {
      "text/plain": [
       "Analyze and understand data to influence product or business decisions                                              0.376728\n",
       "Build and/or run the data infrastructure that my business uses for storing, analyzing, and operationalizing data    0.188141\n",
       "Build prototypes to explore applying machine learning to new areas                                                  0.157379\n",
       "Experimentation and iteration to improve existing ML models                                                         0.100758\n",
       "Build and/or run a machine learning service that operationally improves my product or workflows                     0.100312\n",
       "Do research that advances the state of the art of machine learning                                                  0.054837\n",
       "Other                                                                                                               0.011592\n",
       "None of these activities are an important part of my role at work                                                   0.010254\n",
       "dtype: float64"
      ]
     },
     "execution_count": 30,
     "metadata": {},
     "output_type": "execute_result"
    }
   ],
   "source": [
    "get_checkbox_ratios(da_2019, 'Q9')"
   ]
  },
  {
   "cell_type": "markdown",
   "metadata": {},
   "source": [
    "## Data Analyst 技能：工具"
   ]
  },
  {
   "cell_type": "code",
   "execution_count": 31,
   "metadata": {},
   "outputs": [
    {
     "data": {
      "text/plain": [
       "Local or hosted development environments (RStudio, JupyterLab, etc.)    0.404385\n",
       "Basic statistical software (Microsoft Excel, Google Sheets, etc.)       0.198538\n",
       "Business intelligence software (Salesforce, Tableau, Spotfire, etc.)    0.152862\n",
       "Advanced statistical software (SPSS, SAS, etc.)                         0.137637\n",
       "Other                                                                   0.063946\n",
       "Cloud-based data software & APIs (AWS, GCP, Azure, etc.)                0.042631\n",
       "Name: Q12_MULTIPLE_CHOICE, dtype: float64"
      ]
     },
     "execution_count": 31,
     "metadata": {},
     "output_type": "execute_result"
    }
   ],
   "source": [
    "get_value_ratios(da_2018, 'Q12_MULTIPLE_CHOICE')"
   ]
  },
  {
   "cell_type": "code",
   "execution_count": 32,
   "metadata": {},
   "outputs": [
    {
     "data": {
      "text/plain": [
       "Local development environments (RStudio, JupyterLab, etc.)              0.427692\n",
       "Basic statistical software (Microsoft Excel, Google Sheets, etc.)       0.199231\n",
       "Business intelligence software (Salesforce, Tableau, Spotfire, etc.)    0.156154\n",
       "Advanced statistical software (SPSS, SAS, etc.)                         0.106154\n",
       "Other                                                                   0.068462\n",
       "Cloud-based data software & APIs (AWS, GCP, Azure, etc.)                0.042308\n",
       "Name: Q14, dtype: float64"
      ]
     },
     "execution_count": 32,
     "metadata": {},
     "output_type": "execute_result"
    }
   ],
   "source": [
    "get_value_ratios(da_2019, 'Q14')"
   ]
  },
  {
   "cell_type": "markdown",
   "metadata": {},
   "source": [
    "## Data Analyst 技能：整合開發環境"
   ]
  },
  {
   "cell_type": "code",
   "execution_count": 33,
   "metadata": {},
   "outputs": [
    {
     "data": {
      "text/plain": [
       "Jupyter/IPython    0.187381\n",
       "RStudio            0.173207\n",
       "Notepad++          0.120138\n",
       "PyCharm            0.082627\n",
       "Spyder             0.080380\n",
       "dtype: float64"
      ]
     },
     "execution_count": 33,
     "metadata": {},
     "output_type": "execute_result"
    }
   ],
   "source": [
    "get_checkbox_ratios(da_2018, 'Q13')[:5]"
   ]
  },
  {
   "cell_type": "code",
   "execution_count": 34,
   "metadata": {},
   "outputs": [
    {
     "data": {
      "text/plain": [
       "Jupyter (JupyterLab, Jupyter Notebooks, etc)     0.268512\n",
       " RStudio                                         0.177452\n",
       "  Notepad++                                      0.098732\n",
       "  Spyder                                         0.093062\n",
       " Visual Studio / Visual Studio Code              0.090727\n",
       "dtype: float64"
      ]
     },
     "execution_count": 34,
     "metadata": {},
     "output_type": "execute_result"
    }
   ],
   "source": [
    "get_checkbox_ratios(da_2019, 'Q16')[:5]"
   ]
  },
  {
   "cell_type": "markdown",
   "metadata": {},
   "source": [
    "## Data Analyst 技能：主要使用的程式語言"
   ]
  },
  {
   "cell_type": "code",
   "execution_count": 35,
   "metadata": {},
   "outputs": [
    {
     "data": {
      "text/plain": [
       "Python                   0.266934\n",
       "SQL                      0.227273\n",
       "R                        0.188057\n",
       "Visual Basic/VBA         0.042558\n",
       "SAS/STATA                0.041667\n",
       "Java                     0.038324\n",
       "C/C++                    0.037210\n",
       "Javascript/Typescript    0.035873\n",
       "Bash                     0.029635\n",
       "MATLAB                   0.029635\n",
       "dtype: float64"
      ]
     },
     "execution_count": 35,
     "metadata": {},
     "output_type": "execute_result"
    }
   ],
   "source": [
    "get_checkbox_ratios(da_2018, 'Q16')[:10]"
   ]
  },
  {
   "cell_type": "code",
   "execution_count": 36,
   "metadata": {},
   "outputs": [
    {
     "data": {
      "text/plain": [
       "Python        0.339792\n",
       "SQL           0.275433\n",
       "R             0.191349\n",
       "Javascript    0.035640\n",
       "Bash          0.030104\n",
       "MATLAB        0.027682\n",
       "Other         0.026990\n",
       "Java          0.025952\n",
       "C++           0.020415\n",
       "C             0.019377\n",
       "dtype: float64"
      ]
     },
     "execution_count": 36,
     "metadata": {},
     "output_type": "execute_result"
    }
   ],
   "source": [
    "get_checkbox_ratios(da_2019, 'Q18')[:10]"
   ]
  },
  {
   "cell_type": "markdown",
   "metadata": {},
   "source": [
    "## Data Analyst 技能：推薦的程式語言"
   ]
  },
  {
   "cell_type": "code",
   "execution_count": 37,
   "metadata": {},
   "outputs": [
    {
     "data": {
      "text/plain": [
       "Python    0.621875\n",
       "R         0.208750\n",
       "SQL       0.121250\n",
       "C++       0.009375\n",
       "Java      0.007500\n",
       "MATLAB    0.006875\n",
       "SAS       0.006250\n",
       "Other     0.005000\n",
       "VBA       0.003750\n",
       "None      0.003750\n",
       "Name: Q18, dtype: float64"
      ]
     },
     "execution_count": 37,
     "metadata": {},
     "output_type": "execute_result"
    }
   ],
   "source": [
    "get_value_ratios(da_2018, 'Q18')[:10]"
   ]
  },
  {
   "cell_type": "code",
   "execution_count": 38,
   "metadata": {},
   "outputs": [
    {
     "data": {
      "text/plain": [
       "Python        0.676885\n",
       "SQL           0.144988\n",
       "R             0.131732\n",
       "C++           0.011599\n",
       "MATLAB        0.008285\n",
       "None          0.007457\n",
       "Other         0.006628\n",
       "C             0.004143\n",
       "Java          0.003314\n",
       "Javascript    0.002486\n",
       "Name: Q19, dtype: float64"
      ]
     },
     "execution_count": 38,
     "metadata": {},
     "output_type": "execute_result"
    }
   ],
   "source": [
    "get_value_ratios(da_2019, 'Q19')[:10]"
   ]
  },
  {
   "cell_type": "markdown",
   "metadata": {},
   "source": [
    "## Data Analyst 技能：視覺化套件"
   ]
  },
  {
   "cell_type": "code",
   "execution_count": 39,
   "metadata": {},
   "outputs": [
    {
     "data": {
      "text/plain": [
       "Matplotlib    0.232951\n",
       "ggplot2       0.216780\n",
       "Seaborn       0.151394\n",
       "Plotly        0.134286\n",
       "Shiny         0.077806\n",
       "D3            0.038200\n",
       "None          0.031638\n",
       "Bokeh         0.030935\n",
       "Lattice       0.026014\n",
       "Leaflet       0.025545\n",
       "dtype: float64"
      ]
     },
     "execution_count": 39,
     "metadata": {},
     "output_type": "execute_result"
    }
   ],
   "source": [
    "get_checkbox_ratios(da_2018, 'Q21')[:10]"
   ]
  },
  {
   "cell_type": "code",
   "execution_count": 40,
   "metadata": {},
   "outputs": [
    {
     "data": {
      "text/plain": [
       " Matplotlib                  0.288897\n",
       " Seaborn                     0.200538\n",
       " Ggplot / ggplot2            0.175567\n",
       " Plotly / Plotly Express     0.109105\n",
       " Shiny                       0.058010\n",
       "None                         0.050327\n",
       " Bokeh                       0.029197\n",
       " D3.js                       0.026124\n",
       "Other                        0.021129\n",
       " Geoplotlib                  0.020745\n",
       "dtype: float64"
      ]
     },
     "execution_count": 40,
     "metadata": {},
     "output_type": "execute_result"
    }
   ],
   "source": [
    "get_checkbox_ratios(da_2019, 'Q20')[:10]"
   ]
  },
  {
   "cell_type": "markdown",
   "metadata": {},
   "source": [
    "## Data Analyst 技能：機器學習套件"
   ]
  },
  {
   "cell_type": "code",
   "execution_count": 41,
   "metadata": {},
   "outputs": [
    {
     "data": {
      "text/plain": [
       "Scikit-Learn    0.198007\n",
       "randomForest    0.141681\n",
       "TensorFlow      0.119151\n",
       "Xgboost         0.100737\n",
       "Keras           0.096404\n",
       "None            0.071274\n",
       "Caret           0.063258\n",
       "PyTorch         0.035095\n",
       "lightgbm        0.033795\n",
       "H20             0.026863\n",
       "dtype: float64"
      ]
     },
     "execution_count": 41,
     "metadata": {},
     "output_type": "execute_result"
    }
   ],
   "source": [
    "get_checkbox_ratios(da_2018, 'Q19')[:10]"
   ]
  },
  {
   "cell_type": "code",
   "execution_count": 42,
   "metadata": {},
   "outputs": [
    {
     "data": {
      "text/plain": [
       "  Scikit-learn     0.242898\n",
       " RandomForest      0.147727\n",
       " Xgboost           0.111506\n",
       " Keras             0.106179\n",
       "  TensorFlow       0.106179\n",
       "None               0.087358\n",
       " PyTorch           0.063210\n",
       " LightGBM          0.051136\n",
       " Caret             0.043324\n",
       " Spark MLib        0.019886\n",
       "dtype: float64"
      ]
     },
     "execution_count": 42,
     "metadata": {},
     "output_type": "execute_result"
    }
   ],
   "source": [
    "get_checkbox_ratios(da_2019, 'Q28')[:10]"
   ]
  },
  {
   "cell_type": "markdown",
   "metadata": {},
   "source": [
    "## Data Analyst 技能：關聯式資料庫"
   ]
  },
  {
   "cell_type": "code",
   "execution_count": 43,
   "metadata": {},
   "outputs": [
    {
     "data": {
      "text/plain": [
       "MySQL                              0.222786\n",
       "Microsoft SQL Server               0.143911\n",
       "PostgresSQL                        0.126384\n",
       "SQLite                             0.112085\n",
       "Oracle Database                    0.107934\n",
       "Microsoft Access                   0.065037\n",
       "None                               0.032288\n",
       "AWS Relational Database Service    0.029982\n",
       "Google Cloud SQL                   0.028137\n",
       "Other                              0.022601\n",
       "dtype: float64"
      ]
     },
     "execution_count": 43,
     "metadata": {},
     "output_type": "execute_result"
    }
   ],
   "source": [
    "get_checkbox_ratios(da_2018, 'Q29')[:10]"
   ]
  },
  {
   "cell_type": "code",
   "execution_count": 44,
   "metadata": {},
   "outputs": [
    {
     "data": {
      "text/plain": [
       "MySQL                              0.251493\n",
       "Microsoft SQL Server               0.172388\n",
       "PostgresSQL                        0.126866\n",
       "Oracle Database                    0.105224\n",
       "SQLite                             0.094030\n",
       "None                               0.062687\n",
       "Microsoft Access                   0.061940\n",
       "Google Cloud SQL                   0.035075\n",
       "Azure SQL Database                 0.031343\n",
       "AWS Relational Database Service    0.024627\n",
       "dtype: float64"
      ]
     },
     "execution_count": 44,
     "metadata": {},
     "output_type": "execute_result"
    }
   ],
   "source": [
    "get_checkbox_ratios(da_2019, 'Q34')[:10]"
   ]
  },
  {
   "cell_type": "markdown",
   "metadata": {},
   "source": [
    "## （Optional）以資料視覺化探索 Data Analyst 的輪廓與經驗\n",
    "\n",
    "- 年齡\n",
    "- 寫程式資歷\n",
    "- 機器學習資歷"
   ]
  },
  {
   "cell_type": "markdown",
   "metadata": {},
   "source": [
    "## Data Analyst 輪廓：年齡"
   ]
  },
  {
   "cell_type": "code",
   "execution_count": 45,
   "metadata": {},
   "outputs": [],
   "source": [
    "def plot_age_histogram(df, col_name):\n",
    "    fig = plt.figure(figsize=(10, 4))\n",
    "    ax = plt.axes()\n",
    "    is_not_nan = df[col_name].notna()\n",
    "    x = df[col_name].values[is_not_nan]\n",
    "    ax.hist(x, bins=50)\n",
    "    plt.show()\n",
    "\n",
    "def plot_age_bar(df, col_name):\n",
    "    fig = plt.figure(figsize=(10, 4))\n",
    "    ax = plt.axes()\n",
    "    x = df[col_name].value_counts().sort_index().index\n",
    "    y = df[col_name].value_counts().sort_index().values\n",
    "    ax.bar(x, y)\n",
    "    plt.show()"
   ]
  },
  {
   "cell_type": "code",
   "execution_count": 46,
   "metadata": {},
   "outputs": [
    {
     "data": {
      "image/png": "[encoded data removed]",
      "text/plain": [
       "<Figure size 720x288 with 1 Axes>"
      ]
     },
     "metadata": {
      "needs_background": "light"
     },
     "output_type": "display_data"
    }
   ],
   "source": [
    "plot_age_histogram(da_2017, 'Age')"
   ]
  },
  {
   "cell_type": "code",
   "execution_count": 47,
   "metadata": {},
   "outputs": [
    {
     "data": {
      "image/png": "[encoded data removed]",
      "text/plain": [
       "<Figure size 720x288 with 1 Axes>"
      ]
     },
     "metadata": {
      "needs_background": "light"
     },
     "output_type": "display_data"
    }
   ],
   "source": [
    "plot_age_bar(da_2018, 'Q2')"
   ]
  },
  {
   "cell_type": "code",
   "execution_count": 48,
   "metadata": {},
   "outputs": [
    {
     "data": {
      "image/png": "[encoded data removed]",
      "text/plain": [
       "<Figure size 720x288 with 1 Axes>"
      ]
     },
     "metadata": {
      "needs_background": "light"
     },
     "output_type": "display_data"
    }
   ],
   "source": [
    "plot_age_bar(da_2019, 'Q1')"
   ]
  },
  {
   "cell_type": "markdown",
   "metadata": {},
   "source": [
    "## Data Analyst 經驗：寫程式資歷"
   ]
  },
  {
   "cell_type": "code",
   "execution_count": 49,
   "metadata": {},
   "outputs": [],
   "source": [
    "def plot_experience_bar(df, col_name):\n",
    "    fig = plt.figure(figsize=(10, 4))\n",
    "    ax = plt.axes()\n",
    "    x = df[col_name].value_counts().sort_index().index\n",
    "    y = df[col_name].value_counts().sort_index().values\n",
    "    df = pd.DataFrame()\n",
    "    df['year'] = x\n",
    "    df['respondents'] = y\n",
    "    sort_order = df['year'].str.split('-', expand=True)\n",
    "    sort_order = sort_order[0].str.split(expand=True)[0]\n",
    "    df['sort'] = sort_order.astype(int)\n",
    "    x = df.sort_values('sort')['year'].values\n",
    "    y = df.sort_values('sort')['respondents'].values\n",
    "    ax.bar(x, y)\n",
    "    plt.show()"
   ]
  },
  {
   "cell_type": "code",
   "execution_count": 50,
   "metadata": {},
   "outputs": [
    {
     "data": {
      "image/png": "[encoded data removed]",
      "text/plain": [
       "<Figure size 720x288 with 1 Axes>"
      ]
     },
     "metadata": {
      "needs_background": "light"
     },
     "output_type": "display_data"
    }
   ],
   "source": [
    "plot_experience_bar(da_2018, 'Q8')"
   ]
  },
  {
   "cell_type": "code",
   "execution_count": 51,
   "metadata": {},
   "outputs": [],
   "source": [
    "def plot_experience_bar(df, col_name):\n",
    "    fig = plt.figure(figsize=(14, 4))\n",
    "    ax = plt.axes()\n",
    "    x = df[col_name].value_counts().sort_index().index\n",
    "    y = df[col_name].value_counts().sort_index().values\n",
    "    df = pd.DataFrame()\n",
    "    df['year'] = x\n",
    "    df['respondents'] = y\n",
    "    df['sort'] = [2, 5, 6, 3, 4, 1, 0]\n",
    "    x = df.sort_values('sort')['year'].values\n",
    "    y = df.sort_values('sort')['respondents'].values\n",
    "    ax.bar(x, y)\n",
    "    plt.show()"
   ]
  },
  {
   "cell_type": "code",
   "execution_count": 52,
   "metadata": {},
   "outputs": [
    {
     "data": {
      "image/png": "[encoded data removed]",
      "text/plain": [
       "<Figure size 1008x288 with 1 Axes>"
      ]
     },
     "metadata": {
      "needs_background": "light"
     },
     "output_type": "display_data"
    }
   ],
   "source": [
    "plot_experience_bar(da_2019, 'Q15')"
   ]
  },
  {
   "cell_type": "markdown",
   "metadata": {},
   "source": [
    "## Data Analyst 經驗：機器學習資歷"
   ]
  },
  {
   "cell_type": "code",
   "execution_count": 53,
   "metadata": {},
   "outputs": [],
   "source": [
    "def plot_experience_bar(df, col_name):\n",
    "    fig = plt.figure(figsize=(10, 4))\n",
    "    ax = plt.axes()\n",
    "    x = df[col_name].value_counts().sort_index().index\n",
    "    y = df[col_name].value_counts().sort_index().values\n",
    "    df = pd.DataFrame()\n",
    "    df['year'] = x\n",
    "    df['respondents'] = y\n",
    "    df['sort'] = [3, 8, 4, 9, 5, 6, 7, 2, 0, 1]\n",
    "    x = df.sort_values('sort', ascending=False)['year'].values\n",
    "    y = df.sort_values('sort', ascending=False)['respondents'].values\n",
    "    ax.barh(x, y)\n",
    "    plt.show()"
   ]
  },
  {
   "cell_type": "code",
   "execution_count": 54,
   "metadata": {},
   "outputs": [
    {
     "data": {
      "image/png": "[encoded data removed]",
      "text/plain": [
       "<Figure size 720x288 with 1 Axes>"
      ]
     },
     "metadata": {
      "needs_background": "light"
     },
     "output_type": "display_data"
    }
   ],
   "source": [
    "plot_experience_bar(da_2018, 'Q25')"
   ]
  },
  {
   "cell_type": "code",
   "execution_count": 55,
   "metadata": {},
   "outputs": [],
   "source": [
    "def plot_experience_bar(df, col_name):\n",
    "    fig = plt.figure(figsize=(10, 4))\n",
    "    ax = plt.axes()\n",
    "    x = df[col_name].value_counts().sort_index().index\n",
    "    y = df[col_name].value_counts().sort_index().values\n",
    "    df = pd.DataFrame()\n",
    "    df['year'] = x\n",
    "    df['respondents'] = y\n",
    "    df['sort'] = [1, 6, 2, 7, 3, 4, 5, 0]\n",
    "    x = df.sort_values('sort')['year'].values\n",
    "    y = df.sort_values('sort')['respondents'].values\n",
    "    ax.bar(x, y)\n",
    "    plt.show()"
   ]
  },
  {
   "cell_type": "code",
   "execution_count": 56,
   "metadata": {},
   "outputs": [
    {
     "data": {
      "image/png": "[encoded data removed]",
      "text/plain": [
       "<Figure size 720x288 with 1 Axes>"
      ]
     },
     "metadata": {
      "needs_background": "light"
     },
     "output_type": "display_data"
    }
   ],
   "source": [
    "plot_experience_bar(da_2019, 'Q23')"
   ]
  }
 ],
 "metadata": {
  "kernelspec": {
   "display_name": "Python 3",
   "language": "python",
   "name": "python3"
  },
  "language_info": {
   "codemirror_mode": {
    "name": "ipython",
    "version": 3
   },
   "file_extension": ".py",
   "mimetype": "text/x-python",
   "name": "python",
   "nbconvert_exporter": "python",
   "pygments_lexer": "ipython3",
   "version": "3.7.5"
  }
 },
 "nbformat": 4,
 "nbformat_minor": 2
}
