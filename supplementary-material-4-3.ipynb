{
 "cells": [
  {
   "cell_type": "markdown",
   "metadata": {},
   "source": [
    "# 4-3 擷取 Indeed 網站資料分析師職缺的工作描述\n",
    "\n",
    "> 補充教材\n",
    "\n",
    "郭耀仁"
   ]
  },
  {
   "cell_type": "markdown",
   "metadata": {},
   "source": [
    "## 關於 JSON 格式資料\n",
    "\n",
    "> JavaScript Object Notation (JSON) 為將結構化資料 (structured data) 呈現為 JavaScript 物件的標準格式，常用於網站上的資料呈現、傳輸。JSON 資料格式與語言無關。即便源自 JavaScript，但目前很多程式語言都支援 JSON 格式資料的生成和解析。例如 Python 就有 The Python Standard Library、simplejson、pyson 等；R 有 rjson、jsonlite。\n",
    "\n",
    "Source: <https://developer.mozilla.org/zh-TW/docs/Learn/JavaScript/Objects/JSON>"
   ]
  },
  {
   "cell_type": "markdown",
   "metadata": {},
   "source": [
    "Python 具有標準套件 `json` 作為剖析的媒介：\n",
    "\n",
    "- JSON 物件對應 Python 的 `dict` 類別\n",
    "- 陣列 JSON(array of JSON) 對應 Python 的 `list` 類別"
   ]
  },
  {
   "cell_type": "code",
   "execution_count": 1,
   "metadata": {},
   "outputs": [],
   "source": [
    "import json\n",
    "import re\n",
    "from random import randint\n",
    "import requests\n",
    "from bs4 import BeautifulSoup"
   ]
  },
  {
   "cell_type": "code",
   "execution_count": 2,
   "metadata": {},
   "outputs": [
    {
     "name": "stdout",
     "output_type": "stream",
     "text": [
      "{'title': 'The Shawshank Redemption', 'releaseYear': 1994, 'imdbRating': 9.2, 'stars': ['Tim Robbins', 'Morgan Freeman', 'Bob Gunton']}\n",
      "<class 'dict'>\n"
     ]
    }
   ],
   "source": [
    "# JSON 物件對應 Python 的 dict 類別\n",
    "json_long_str = \"\"\"\n",
    "{\n",
    "    \"title\": \"The Shawshank Redemption\",\n",
    "    \"releaseYear\": 1994,\n",
    "    \"imdbRating\": 9.2,\n",
    "    \"stars\": [\"Tim Robbins\", \"Morgan Freeman\", \"Bob Gunton\"]\n",
    "}\n",
    "\"\"\"\n",
    "top_rated_movie = json.loads(json_long_str)\n",
    "print(top_rated_movie)\n",
    "print(type(top_rated_movie))"
   ]
  },
  {
   "cell_type": "code",
   "execution_count": 3,
   "metadata": {},
   "outputs": [
    {
     "name": "stdout",
     "output_type": "stream",
     "text": [
      "[{'title': 'The Shawshank Redemption', 'releaseYear': 1994, 'imdbRating': 9.2, 'stars': ['Tim Robbins', 'Morgan Freeman', 'Bob Gunton']}, {'title': 'The Dark Knight', 'releaseYear': 2008, 'imdbRating': 9.0, 'stars': ['Christian Bale', 'Heath Ledger', 'Aaron Eckhart']}]\n",
      "<class 'list'>\n"
     ]
    }
   ],
   "source": [
    "# 陣列 JSON(array of JSON) 對應 Python 的 list 類別\n",
    "json_long_str = \"\"\"\n",
    "[\n",
    "    {\n",
    "        \"title\": \"The Shawshank Redemption\",\n",
    "        \"releaseYear\": 1994,\n",
    "        \"imdbRating\": 9.2,\n",
    "        \"stars\": [\"Tim Robbins\", \"Morgan Freeman\", \"Bob Gunton\"]\n",
    "    },\n",
    "    {\n",
    "        \"title\": \"The Dark Knight\",\n",
    "        \"releaseYear\": 2008,\n",
    "        \"imdbRating\": 9.0,\n",
    "        \"stars\": [\"Christian Bale\", \"Heath Ledger\", \"Aaron Eckhart\"]\n",
    "    }\n",
    "]\n",
    "\"\"\"\n",
    "top_rated_movies = json.loads(json_long_str)\n",
    "print(top_rated_movies)\n",
    "print(type(top_rated_movies))"
   ]
  },
  {
   "cell_type": "markdown",
   "metadata": {},
   "source": [
    "## 關於自訂函式 `get_first_n_job_keys`\n",
    "\n",
    "我們希望可以將 Indeed 查詢結果的前 n 筆職缺之 Job Keys 回傳，但不想因為更動 n 就重寫一次程式，在這裡就可以運用自訂函式的技巧，宣告一個名稱為 get_first_n_job_keys 函式，設計一個參數：`n` 並給予預設值 `n=100` 代表 Job Keys 筆數。"
   ]
  },
  {
   "cell_type": "code",
   "execution_count": 4,
   "metadata": {},
   "outputs": [],
   "source": [
    "def get_first_n_job_keys(n=100):\n",
    "    request_url = \"https://www.indeed.com/jobs\"\n",
    "    first_n_job_keys = []\n",
    "    for i in range(0, n, 10):\n",
    "        query_string_parameters = {\n",
    "            'q': 'data analyst',\n",
    "            'jt': 'fulltime',\n",
    "            'explvl': 'entry_level',\n",
    "            'start': str(i) # i 是整數型別，在查詢字串中需要以內建函式 str() 轉換為字串型別\n",
    "        }\n",
    "        response = requests.get(request_url, params=query_string_parameters)\n",
    "        soup = BeautifulSoup(response.text)\n",
    "        ref_routes = [e.get('href') for e in soup.select('.title a')]\n",
    "        job_keys = [re.split('/|\\?|&|=', rr)[4] for rr in ref_routes]\n",
    "        first_n_job_keys += job_keys\n",
    "        rand_int = randint(5, 10)\n",
    "        print(\"Scraping page {}...\".format(i // 10 + 1))\n",
    "        print(\"Sleeping for {} secs...\".format(rand_int))\n",
    "        time.sleep(rand_int)\n",
    "    return first_n_job_keys"
   ]
  },
  {
   "cell_type": "markdown",
   "metadata": {},
   "source": [
    "## 關於內建函式 `range`\n",
    "\n",
    "Python 內建的函式 `range` 可以幫我們生成一個能指定起始、終止與間隔的等差序列。\n",
    "\n",
    "- `start` 參數可以給定被包含的起始值（預設為 0）\n",
    "- `stop` 參數可以給定**不被包含**的終止值（無預設，必須由使用者指定），終止的值不包含是 Python 很重要的慣例\n",
    "- `step` 參數可以給定間隔（預設為 1）"
   ]
  },
  {
   "cell_type": "code",
   "execution_count": 5,
   "metadata": {},
   "outputs": [
    {
     "name": "stdout",
     "output_type": "stream",
     "text": [
      "Help on class range in module builtins:\n",
      "\n",
      "class range(object)\n",
      " |  range(stop) -> range object\n",
      " |  range(start, stop[, step]) -> range object\n",
      " |  \n",
      " |  Return an object that produces a sequence of integers from start (inclusive)\n",
      " |  to stop (exclusive) by step.  range(i, j) produces i, i+1, i+2, ..., j-1.\n",
      " |  start defaults to 0, and stop is omitted!  range(4) produces 0, 1, 2, 3.\n",
      " |  These are exactly the valid indices for a list of 4 elements.\n",
      " |  When step is given, it specifies the increment (or decrement).\n",
      " |  \n",
      " |  Methods defined here:\n",
      " |  \n",
      " |  __bool__(self, /)\n",
      " |      self != 0\n",
      " |  \n",
      " |  __contains__(self, key, /)\n",
      " |      Return key in self.\n",
      " |  \n",
      " |  __eq__(self, value, /)\n",
      " |      Return self==value.\n",
      " |  \n",
      " |  __ge__(self, value, /)\n",
      " |      Return self>=value.\n",
      " |  \n",
      " |  __getattribute__(self, name, /)\n",
      " |      Return getattr(self, name).\n",
      " |  \n",
      " |  __getitem__(self, key, /)\n",
      " |      Return self[key].\n",
      " |  \n",
      " |  __gt__(self, value, /)\n",
      " |      Return self>value.\n",
      " |  \n",
      " |  __hash__(self, /)\n",
      " |      Return hash(self).\n",
      " |  \n",
      " |  __iter__(self, /)\n",
      " |      Implement iter(self).\n",
      " |  \n",
      " |  __le__(self, value, /)\n",
      " |      Return self<=value.\n",
      " |  \n",
      " |  __len__(self, /)\n",
      " |      Return len(self).\n",
      " |  \n",
      " |  __lt__(self, value, /)\n",
      " |      Return self<value.\n",
      " |  \n",
      " |  __ne__(self, value, /)\n",
      " |      Return self!=value.\n",
      " |  \n",
      " |  __reduce__(...)\n",
      " |      Helper for pickle.\n",
      " |  \n",
      " |  __repr__(self, /)\n",
      " |      Return repr(self).\n",
      " |  \n",
      " |  __reversed__(...)\n",
      " |      Return a reverse iterator.\n",
      " |  \n",
      " |  count(...)\n",
      " |      rangeobject.count(value) -> integer -- return number of occurrences of value\n",
      " |  \n",
      " |  index(...)\n",
      " |      rangeobject.index(value) -> integer -- return index of value.\n",
      " |      Raise ValueError if the value is not present.\n",
      " |  \n",
      " |  ----------------------------------------------------------------------\n",
      " |  Static methods defined here:\n",
      " |  \n",
      " |  __new__(*args, **kwargs) from builtins.type\n",
      " |      Create and return a new object.  See help(type) for accurate signature.\n",
      " |  \n",
      " |  ----------------------------------------------------------------------\n",
      " |  Data descriptors defined here:\n",
      " |  \n",
      " |  start\n",
      " |  \n",
      " |  step\n",
      " |  \n",
      " |  stop\n",
      "\n"
     ]
    }
   ],
   "source": [
    "help(range)"
   ]
  },
  {
   "cell_type": "code",
   "execution_count": 6,
   "metadata": {},
   "outputs": [
    {
     "name": "stdout",
     "output_type": "stream",
     "text": [
      "[0, 1, 2, 3, 4, 5, 6, 7, 8, 9]\n",
      "[1, 3, 5, 7, 9]\n",
      "[0, 2, 4, 6, 8]\n"
     ]
    }
   ],
   "source": [
    "print(list(range(10)))       # [0, 1, 2, 3, 4, 5, 6, 7, 8, 9]\n",
    "print(list(range(1, 10, 2))) # [1, 3, 5, 7, 9]\n",
    "print(list(range(0, 10, 2))) # [0, 2, 4, 6, 8]"
   ]
  },
  {
   "cell_type": "markdown",
   "metadata": {},
   "source": [
    "## 關於正規表達式（Regular Expression）\n",
    "\n",
    "> 正規表達式是被用來比對字串中特徵的模式，通常被用來搜尋、替換符合某特徵模式的文字，許多程式設計語言都支援利用正規表達式進行字串操作。\n",
    "\n",
    "Source: <https://en.wikipedia.org/wiki/Regular_expression>"
   ]
  },
  {
   "cell_type": "markdown",
   "metadata": {},
   "source": [
    "Python 具有標準套件 `re` 作為運用正規表達式進行字串操作的媒介，在 `get_first_n_job_keys` 函式的前半段我們已經將職缺搜尋頁面的連結擷取出來："
   ]
  },
  {
   "cell_type": "code",
   "execution_count": 7,
   "metadata": {},
   "outputs": [
    {
     "name": "stdout",
     "output_type": "stream",
     "text": [
      "['/rc/clk?jk=f13ffd0ea121b4d8&fccid=978d9fd9799d55a8&vjs=3', '/rc/clk?jk=2532431132ffbda1&fccid=30c994b6c2f39768&vjs=3', '/rc/clk?jk=c676a737179fa1c3&fccid=978d9fd9799d55a8&vjs=3', '/rc/clk?jk=3a376da0784075d1&fccid=210934531891f9be&vjs=3', '/rc/clk?jk=c04a8d5fa0e7869c&fccid=ed3db458f28ca6b3&vjs=3', '/rc/clk?jk=2871ed5f3065b89c&fccid=9f7b4a9692015a8a&vjs=3', '/rc/clk?jk=3634e45314aa3499&fccid=8ce3cf8e1e3ddd14&vjs=3', '/rc/clk?jk=45b9fc153445c7c9&fccid=2a341562d64c7cdb&vjs=3', '/rc/clk?jk=0fcfb9089f1b9810&fccid=3bed49f19827e049&vjs=3', '/rc/clk?jk=94d68f06028bea2d&fccid=2a341562d64c7cdb&vjs=3']\n"
     ]
    }
   ],
   "source": [
    "request_url = \"https://www.indeed.com/jobs\"\n",
    "query_string_parameters = {\n",
    "    'q': 'data analyst',\n",
    "    'jt': 'fulltime',\n",
    "    'explvl': 'entry_level',\n",
    "    'start': '0'\n",
    "}\n",
    "response = requests.get(request_url, params=query_string_parameters)\n",
    "soup = BeautifulSoup(response.text)\n",
    "ref_routes = [e.get('href') for e in soup.select('.title a')]\n",
    "print(ref_routes)"
   ]
  },
  {
   "cell_type": "markdown",
   "metadata": {},
   "source": [
    "如果希望將這些連結中的 `jk=` 單獨留下來，我們就要利用正規表達式比對特徵：`/|\\?|&|=`，也就是碰到 `/`、`?`、`&` 或 `=` 都要切割開來："
   ]
  },
  {
   "cell_type": "code",
   "execution_count": 8,
   "metadata": {},
   "outputs": [
    {
     "name": "stdout",
     "output_type": "stream",
     "text": [
      "['', 'rc', 'clk', 'jk', 'f13ffd0ea121b4d8', 'fccid', '978d9fd9799d55a8', 'vjs', '3']\n",
      "f13ffd0ea121b4d8\n"
     ]
    }
   ],
   "source": [
    "split_pattern = '/|\\?|&|='\n",
    "splited_ref_route = re.split(split_pattern, ref_routes[0]) # 以第零個連結示範\n",
    "print(splited_ref_route) # Job Key 會落在索引值 4 的位置\n",
    "print(splited_ref_route[4])"
   ]
  },
  {
   "cell_type": "markdown",
   "metadata": {},
   "source": [
    "## 關於 `randint` 函式\n",
    "\n",
    "隸屬於標準套件 `random` 中的 `randint` 函式可以回傳一個介於參數 `a` 與 `b` 之間的隨機整數（包含 `a` 與 `b`）。我們利用它隨機產生一個介於 5 到 10 之間的整數，讓程式在抓下一個頁面前休息一下，保持對 Indeed 網站的禮儀。"
   ]
  },
  {
   "cell_type": "code",
   "execution_count": 9,
   "metadata": {},
   "outputs": [
    {
     "name": "stdout",
     "output_type": "stream",
     "text": [
      "Help on method randint in module random:\n",
      "\n",
      "randint(a, b) method of random.Random instance\n",
      "    Return random integer in range [a, b], including both end points.\n",
      "\n"
     ]
    }
   ],
   "source": [
    "help(randint)"
   ]
  },
  {
   "cell_type": "code",
   "execution_count": 10,
   "metadata": {},
   "outputs": [
    {
     "name": "stdout",
     "output_type": "stream",
     "text": [
      "9\n"
     ]
    }
   ],
   "source": [
    "print(randint(5, 10))"
   ]
  }
 ],
 "metadata": {
  "kernelspec": {
   "display_name": "Python 3",
   "language": "python",
   "name": "python3"
  },
  "language_info": {
   "codemirror_mode": {
    "name": "ipython",
    "version": 3
   },
   "file_extension": ".py",
   "mimetype": "text/x-python",
   "name": "python",
   "nbconvert_exporter": "python",
   "pygments_lexer": "ipython3",
   "version": "3.7.5"
  }
 },
 "nbformat": 4,
 "nbformat_minor": 2
}
