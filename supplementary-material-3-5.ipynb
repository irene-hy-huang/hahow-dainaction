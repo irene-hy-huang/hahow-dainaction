{
 "cells": [
  {
   "cell_type": "markdown",
   "metadata": {},
   "source": [
    "# 3-5 檢視受訪者組成\n",
    "\n",
    "> 補充教材\n",
    "\n",
    "郭耀仁"
   ]
  },
  {
   "cell_type": "markdown",
   "metadata": {},
   "source": [
    "## 關於自訂函式的功能與邏輯\n",
    "\n",
    "> When you’ve written the same code 3 times, write a function.\n",
    ">\n",
    "> David Robinson\n",
    "\n",
    "在程式語言中函式是一種「初階的程式碼封裝」技巧，簡單來說是將需要重複撰寫的程式碼定義宣告，並將需要視情況調整的部分用參數傳入，就像是在數學上面使用的 $y = f(x)$ 函數一般，不同的輸入 `x` 將會對應到不同的輸出 `y`。\n",
    "\n",
    "![Imgur](https://i.imgur.com/lF2oqn8.png?2)"
   ]
  },
  {
   "cell_type": "markdown",
   "metadata": {},
   "source": [
    "## 自訂函式的語法\n",
    "\n",
    "自訂函式的主要組成有四個：\n",
    "\n",
    "1. `def` 保留字\n",
    "2. 輸入與參數（inputs and arguments）\n",
    "3. 主體（body）\n",
    "4. `return` 保留字與輸出（outputs）\n",
    "\n",
    "```python\n",
    "def your_function_names(inputs, arguments):\n",
    "    # 主體（body）\n",
    "    return 輸出（outputs）\n",
    "```"
   ]
  },
  {
   "cell_type": "markdown",
   "metadata": {},
   "source": [
    "## 關於 `print_respondents_info` 自訂函式的語法\n",
    "\n",
    "我們希望可以將 `survey_2017`、`survey_2018` 與 `survey_2019` 這三個資料框所記錄的總答題人數、職稱為 Data Analyst 的人數與所佔比例印出來檢視，但是不希望撰寫三次幾乎相同的程式碼，在這裡就可以運用**自訂函式**的技巧，宣告一個名稱為 `print_respondents_info` 函式，設計三個參數：`year`、`df` 與 `col_name`，分別代表普查年份、資料框名稱與詢問職稱的題目名（或題號）。"
   ]
  },
  {
   "cell_type": "code",
   "execution_count": 1,
   "metadata": {},
   "outputs": [],
   "source": [
    "import pandas as pd"
   ]
  },
  {
   "cell_type": "code",
   "execution_count": 2,
   "metadata": {},
   "outputs": [],
   "source": [
    "def print_respondents_info(year, df, col_name):\n",
    "    ttl_respondents = df.shape[0] # 資料框的列數就代表著總答題人數\n",
    "    job_title_value_counts = df[col_name].value_counts() # 計算所有職稱個別的人數\n",
    "    job_title_percentage = job_title_value_counts / ttl_respondents # 將所有職稱個別的人數除以總答題人數就可以獲得所佔比例\n",
    "    print(\"{} 年的總答題人數為 {:,}\".format(year, ttl_respondents)) # 印出總答題人數\n",
    "    print(\"{} 年的 Data Analyst 人數為 {:,} 人；比例為 {:.2f}%\".format(year, job_title_value_counts['Data Analyst'], job_title_percentage['Data Analyst'] * 100)) # 印出年份與所佔比例"
   ]
  },
  {
   "cell_type": "code",
   "execution_count": 3,
   "metadata": {},
   "outputs": [],
   "source": [
    "survey_2017 = pd.read_csv(\"https://kaggle-ml-ds-survey.s3-ap-northeast-1.amazonaws.com/kaggle-survey-2017/multipleChoiceResponses.csv\", encoding='ISO-8859-1', low_memory=False)\n",
    "survey_2018 = pd.read_csv(\"https://kaggle-ml-ds-survey.s3-ap-northeast-1.amazonaws.com/kaggle-survey-2018/multipleChoiceResponses.csv\", encoding='ISO-8859-1', skiprows=[1], low_memory=False)\n",
    "survey_2019 = pd.read_csv(\"https://kaggle-ml-ds-survey.s3-ap-northeast-1.amazonaws.com/kaggle-survey-2019/multiple_choice_responses.csv\", encoding='ISO-8859-1', skiprows=[1], low_memory=False)"
   ]
  },
  {
   "cell_type": "markdown",
   "metadata": {},
   "source": [
    "## 呼叫 `print_respondents_info()` 自訂函式"
   ]
  },
  {
   "cell_type": "code",
   "execution_count": 4,
   "metadata": {},
   "outputs": [
    {
     "name": "stdout",
     "output_type": "stream",
     "text": [
      "2017 年的總答題人數為 16,716\n",
      "2017 年的 Data Analyst 人數為 1,213 人；比例為 7.26%\n",
      "2018 年的總答題人數為 23,859\n",
      "2018 年的 Data Analyst 人數為 1,922 人；比例為 8.06%\n",
      "2019 年的總答題人數為 19,717\n",
      "2019 年的 Data Analyst 人數為 1,598 人；比例為 8.10%\n"
     ]
    }
   ],
   "source": [
    "print_respondents_info(2017, survey_2017, 'CurrentJobTitleSelect')\n",
    "print_respondents_info(2018, survey_2018, 'Q6')\n",
    "print_respondents_info(2019, survey_2019, 'Q5')"
   ]
  },
  {
   "cell_type": "markdown",
   "metadata": {},
   "source": [
    "## 關於自訂函式中的 `print()` 與 `.format()`\n",
    "\n",
    "在撰寫程式語言時我們往往會有需要把字串進行格式化（String format）與字串插值（String interpolation）的需求，`print()` 內建函式與 `.format()` 就是我們以字串格式化和插值來印出資料框的總答題人數、職稱為 Data Analyst 的人數與所佔比例的應用。\n",
    "\n",
    "- `{}` 是單純的字串插值\n",
    "- `{:,}` 是除了字串插值以外還加入千分位的逗號\n",
    "- `{:.2f}` 是除了字串插值以外還將小數點四捨五入到兩位"
   ]
  },
  {
   "cell_type": "code",
   "execution_count": 5,
   "metadata": {},
   "outputs": [
    {
     "name": "stdout",
     "output_type": "stream",
     "text": [
      "2017 年的總答題人數為 16716\n"
     ]
    }
   ],
   "source": [
    "# 單純的字串插值\n",
    "ttl_respondents_2017 = survey_2017.shape[0]\n",
    "print(\"{} 年的總答題人數為 {}\".format(2017, ttl_respondents_2017))"
   ]
  },
  {
   "cell_type": "code",
   "execution_count": 6,
   "metadata": {},
   "outputs": [
    {
     "name": "stdout",
     "output_type": "stream",
     "text": [
      "2017 年的總答題人數為 16,716\n"
     ]
    }
   ],
   "source": [
    "# 除了字串插值以外還加入千分位的逗號\n",
    "print(\"{} 年的總答題人數為 {:,}\".format(2017, ttl_respondents_2017))"
   ]
  },
  {
   "cell_type": "code",
   "execution_count": 7,
   "metadata": {},
   "outputs": [
    {
     "name": "stdout",
     "output_type": "stream",
     "text": [
      "Data Scientist                          2433\n",
      "Software Developer/Software Engineer    1759\n",
      "Other                                   1233\n",
      "Data Analyst                            1213\n",
      "Scientist/Researcher                     978\n",
      "Business Analyst                         796\n",
      "Researcher                               619\n",
      "Machine Learning Engineer                617\n",
      "Engineer                                 552\n",
      "Programmer                               462\n",
      "Computer Scientist                       335\n",
      "Statistician                             289\n",
      "DBA/Database Engineer                    187\n",
      "Predictive Modeler                       181\n",
      "Data Miner                               118\n",
      "Operations Research Practitioner          58\n",
      "Name: CurrentJobTitleSelect, dtype: int64\n"
     ]
    }
   ],
   "source": [
    "# 計算所有職稱個別的人數\n",
    "job_title_value_counts_2017 = survey_2017['CurrentJobTitleSelect'].value_counts()\n",
    "print(job_title_value_counts_2017)"
   ]
  },
  {
   "cell_type": "code",
   "execution_count": 8,
   "metadata": {},
   "outputs": [
    {
     "name": "stdout",
     "output_type": "stream",
     "text": [
      "0.07256520698731754\n"
     ]
    }
   ],
   "source": [
    "job_title_percentage_2017 = job_title_value_counts_2017 / ttl_respondents_2017 # 將所有職稱個別的人數除以總答題人數就可以獲得所佔比例\n",
    "print(job_title_percentage_2017['Data Analyst']) # 取出 Data Analyst 的所佔比例"
   ]
  },
  {
   "cell_type": "code",
   "execution_count": 9,
   "metadata": {},
   "outputs": [
    {
     "name": "stdout",
     "output_type": "stream",
     "text": [
      "2017 年的 Data Analyst 所佔比例為 7.26%\n"
     ]
    }
   ],
   "source": [
    "# 除了字串插值以外還將小數點四捨五入到兩位\n",
    "print(\"{} 年的 Data Analyst 所佔比例為 {:.2f}%\".format(2017, job_title_percentage_2017['Data Analyst'] * 100))"
   ]
  }
 ],
 "metadata": {
  "kernelspec": {
   "display_name": "Python 3",
   "language": "python",
   "name": "python3"
  },
  "language_info": {
   "codemirror_mode": {
    "name": "ipython",
    "version": 3
   },
   "file_extension": ".py",
   "mimetype": "text/x-python",
   "name": "python",
   "nbconvert_exporter": "python",
   "pygments_lexer": "ipython3",
   "version": "3.7.5"
  }
 },
 "nbformat": 4,
 "nbformat_minor": 2
}
